{
 "cells": [
  {
   "cell_type": "code",
   "execution_count": 2,
   "id": "amended-settle",
   "metadata": {
    "scrolled": true
   },
   "outputs": [],
   "source": [
    "import pandas as pd\n",
    "import json\n",
    "import os"
   ]
  },
  {
   "cell_type": "code",
   "execution_count": 3,
   "id": "bearing-divorce",
   "metadata": {},
   "outputs": [],
   "source": [
    "dfs = []\n",
    "for r, d, f in os.walk('input'):\n",
    "    for file in f:\n",
    "        if 'withheldtweets.json' in file:  # alt: if ‘control' in file:\n",
    "            dfs.append(pd.read_json('%s/%s' % (r, file), lines=True))\n",
    "\n",
    "df_cen = pd.concat(dfs)\n",
    "df_cen = df_cen.dropna(subset=['withheld_in_countries'])"
   ]
  },
  {
   "cell_type": "code",
   "execution_count": 4,
   "id": "intense-atlas",
   "metadata": {},
   "outputs": [
    {
     "data": {
      "text/html": [
       "<div>\n",
       "<style scoped>\n",
       "    .dataframe tbody tr th:only-of-type {\n",
       "        vertical-align: middle;\n",
       "    }\n",
       "\n",
       "    .dataframe tbody tr th {\n",
       "        vertical-align: top;\n",
       "    }\n",
       "\n",
       "    .dataframe thead th {\n",
       "        text-align: right;\n",
       "    }\n",
       "</style>\n",
       "<table border=\"1\" class=\"dataframe\">\n",
       "  <thead>\n",
       "    <tr style=\"text-align: right;\">\n",
       "      <th></th>\n",
       "      <th>created_at</th>\n",
       "      <th>id</th>\n",
       "      <th>id_str</th>\n",
       "      <th>text</th>\n",
       "      <th>source</th>\n",
       "      <th>truncated</th>\n",
       "      <th>in_reply_to_status_id</th>\n",
       "      <th>in_reply_to_status_id_str</th>\n",
       "      <th>in_reply_to_user_id</th>\n",
       "      <th>in_reply_to_user_id_str</th>\n",
       "      <th>...</th>\n",
       "      <th>linked</th>\n",
       "      <th>quoted_status_id</th>\n",
       "      <th>quoted_status_id_str</th>\n",
       "      <th>quoted_status</th>\n",
       "      <th>quoted_status_permalink</th>\n",
       "      <th>extended_entities</th>\n",
       "      <th>possibly_sensitive</th>\n",
       "      <th>display_text_range</th>\n",
       "      <th>extended_tweet</th>\n",
       "      <th>withheld_copyright</th>\n",
       "    </tr>\n",
       "  </thead>\n",
       "  <tbody>\n",
       "    <tr>\n",
       "      <th>0</th>\n",
       "      <td>2021-03-31 09:55:16+00:00</td>\n",
       "      <td>1377197797410287617</td>\n",
       "      <td>1377197797410287616</td>\n",
       "      <td>RT @ZaidZamanHamid: کرونا ایسے تباہی پھیلا رہا...</td>\n",
       "      <td>&lt;a href=\"http://twitter.com/download/android\" ...</td>\n",
       "      <td>False</td>\n",
       "      <td>NaN</td>\n",
       "      <td>NaN</td>\n",
       "      <td>NaN</td>\n",
       "      <td>NaN</td>\n",
       "      <td>...</td>\n",
       "      <td>no</td>\n",
       "      <td>NaN</td>\n",
       "      <td>NaN</td>\n",
       "      <td>NaN</td>\n",
       "      <td>NaN</td>\n",
       "      <td>NaN</td>\n",
       "      <td>NaN</td>\n",
       "      <td>NaN</td>\n",
       "      <td>NaN</td>\n",
       "      <td>NaN</td>\n",
       "    </tr>\n",
       "    <tr>\n",
       "      <th>1</th>\n",
       "      <td>2021-03-31 09:55:16+00:00</td>\n",
       "      <td>1377197797410287617</td>\n",
       "      <td>1377197797410287616</td>\n",
       "      <td>RT @ZaidZamanHamid: کرونا ایسے تباہی پھیلا رہا...</td>\n",
       "      <td>&lt;a href=\"http://twitter.com/download/android\" ...</td>\n",
       "      <td>False</td>\n",
       "      <td>NaN</td>\n",
       "      <td>NaN</td>\n",
       "      <td>NaN</td>\n",
       "      <td>NaN</td>\n",
       "      <td>...</td>\n",
       "      <td>retweeted</td>\n",
       "      <td>NaN</td>\n",
       "      <td>NaN</td>\n",
       "      <td>NaN</td>\n",
       "      <td>NaN</td>\n",
       "      <td>NaN</td>\n",
       "      <td>NaN</td>\n",
       "      <td>NaN</td>\n",
       "      <td>NaN</td>\n",
       "      <td>NaN</td>\n",
       "    </tr>\n",
       "    <tr>\n",
       "      <th>2</th>\n",
       "      <td>2021-03-31 09:28:50+00:00</td>\n",
       "      <td>1377191145244143620</td>\n",
       "      <td>1377191145244143616</td>\n",
       "      <td>RT @sunochanda12: جسکو ہمارے ملک کے لبدلز معصو...</td>\n",
       "      <td>&lt;a href=\"http://twitter.com/download/android\" ...</td>\n",
       "      <td>False</td>\n",
       "      <td>NaN</td>\n",
       "      <td>NaN</td>\n",
       "      <td>NaN</td>\n",
       "      <td>NaN</td>\n",
       "      <td>...</td>\n",
       "      <td>no</td>\n",
       "      <td>NaN</td>\n",
       "      <td>NaN</td>\n",
       "      <td>NaN</td>\n",
       "      <td>NaN</td>\n",
       "      <td>NaN</td>\n",
       "      <td>NaN</td>\n",
       "      <td>NaN</td>\n",
       "      <td>NaN</td>\n",
       "      <td>NaN</td>\n",
       "    </tr>\n",
       "    <tr>\n",
       "      <th>3</th>\n",
       "      <td>2021-03-31 09:34:44+00:00</td>\n",
       "      <td>1377192630065491969</td>\n",
       "      <td>1377192630065491968</td>\n",
       "      <td>RT @ZaidZamanHamid: If it is blood clotting, w...</td>\n",
       "      <td>&lt;a href=\"http://twitter.com/download/android\" ...</td>\n",
       "      <td>False</td>\n",
       "      <td>NaN</td>\n",
       "      <td>NaN</td>\n",
       "      <td>NaN</td>\n",
       "      <td>NaN</td>\n",
       "      <td>...</td>\n",
       "      <td>no</td>\n",
       "      <td>NaN</td>\n",
       "      <td>NaN</td>\n",
       "      <td>NaN</td>\n",
       "      <td>NaN</td>\n",
       "      <td>NaN</td>\n",
       "      <td>NaN</td>\n",
       "      <td>NaN</td>\n",
       "      <td>NaN</td>\n",
       "      <td>NaN</td>\n",
       "    </tr>\n",
       "    <tr>\n",
       "      <th>4</th>\n",
       "      <td>2021-03-31 09:34:44+00:00</td>\n",
       "      <td>1377192630065491969</td>\n",
       "      <td>1377192630065491968</td>\n",
       "      <td>RT @ZaidZamanHamid: If it is blood clotting, w...</td>\n",
       "      <td>&lt;a href=\"http://twitter.com/download/android\" ...</td>\n",
       "      <td>False</td>\n",
       "      <td>NaN</td>\n",
       "      <td>NaN</td>\n",
       "      <td>NaN</td>\n",
       "      <td>NaN</td>\n",
       "      <td>...</td>\n",
       "      <td>retweeted</td>\n",
       "      <td>NaN</td>\n",
       "      <td>NaN</td>\n",
       "      <td>NaN</td>\n",
       "      <td>NaN</td>\n",
       "      <td>NaN</td>\n",
       "      <td>NaN</td>\n",
       "      <td>NaN</td>\n",
       "      <td>NaN</td>\n",
       "      <td>NaN</td>\n",
       "    </tr>\n",
       "    <tr>\n",
       "      <th>...</th>\n",
       "      <td>...</td>\n",
       "      <td>...</td>\n",
       "      <td>...</td>\n",
       "      <td>...</td>\n",
       "      <td>...</td>\n",
       "      <td>...</td>\n",
       "      <td>...</td>\n",
       "      <td>...</td>\n",
       "      <td>...</td>\n",
       "      <td>...</td>\n",
       "      <td>...</td>\n",
       "      <td>...</td>\n",
       "      <td>...</td>\n",
       "      <td>...</td>\n",
       "      <td>...</td>\n",
       "      <td>...</td>\n",
       "      <td>...</td>\n",
       "      <td>...</td>\n",
       "      <td>...</td>\n",
       "      <td>...</td>\n",
       "      <td>...</td>\n",
       "    </tr>\n",
       "    <tr>\n",
       "      <th>300</th>\n",
       "      <td>2021-01-02 05:13:45+00:00</td>\n",
       "      <td>1345236819265396736</td>\n",
       "      <td>1345236819265396736</td>\n",
       "      <td>RT @bidemitweets: Dem Ina Ina Ina Ina Ina I kn...</td>\n",
       "      <td>&lt;a href=\"https://mobile.twitter.com\" rel=\"nofo...</td>\n",
       "      <td>False</td>\n",
       "      <td>NaN</td>\n",
       "      <td>NaN</td>\n",
       "      <td>NaN</td>\n",
       "      <td>NaN</td>\n",
       "      <td>...</td>\n",
       "      <td>retweeted</td>\n",
       "      <td>NaN</td>\n",
       "      <td>NaN</td>\n",
       "      <td>NaN</td>\n",
       "      <td>NaN</td>\n",
       "      <td>NaN</td>\n",
       "      <td>NaN</td>\n",
       "      <td>NaN</td>\n",
       "      <td>NaN</td>\n",
       "      <td>NaN</td>\n",
       "    </tr>\n",
       "    <tr>\n",
       "      <th>301</th>\n",
       "      <td>2021-01-02 05:50:14+00:00</td>\n",
       "      <td>1345246000588402690</td>\n",
       "      <td>1345246000588402688</td>\n",
       "      <td>RT @HizbAmerica: Help the Muslims of Sri Lanka...</td>\n",
       "      <td>&lt;a href=\"http://twitter.com/download/android\" ...</td>\n",
       "      <td>False</td>\n",
       "      <td>NaN</td>\n",
       "      <td>NaN</td>\n",
       "      <td>NaN</td>\n",
       "      <td>NaN</td>\n",
       "      <td>...</td>\n",
       "      <td>no</td>\n",
       "      <td>NaN</td>\n",
       "      <td>NaN</td>\n",
       "      <td>NaN</td>\n",
       "      <td>NaN</td>\n",
       "      <td>NaN</td>\n",
       "      <td>NaN</td>\n",
       "      <td>NaN</td>\n",
       "      <td>NaN</td>\n",
       "      <td>NaN</td>\n",
       "    </tr>\n",
       "    <tr>\n",
       "      <th>302</th>\n",
       "      <td>2021-01-02 05:50:14+00:00</td>\n",
       "      <td>1345246000588402690</td>\n",
       "      <td>1345246000588402688</td>\n",
       "      <td>RT @HizbAmerica: Help the Muslims of Sri Lanka...</td>\n",
       "      <td>&lt;a href=\"http://twitter.com/download/android\" ...</td>\n",
       "      <td>False</td>\n",
       "      <td>NaN</td>\n",
       "      <td>NaN</td>\n",
       "      <td>NaN</td>\n",
       "      <td>NaN</td>\n",
       "      <td>...</td>\n",
       "      <td>retweeted</td>\n",
       "      <td>NaN</td>\n",
       "      <td>NaN</td>\n",
       "      <td>NaN</td>\n",
       "      <td>NaN</td>\n",
       "      <td>NaN</td>\n",
       "      <td>NaN</td>\n",
       "      <td>NaN</td>\n",
       "      <td>NaN</td>\n",
       "      <td>NaN</td>\n",
       "    </tr>\n",
       "    <tr>\n",
       "      <th>303</th>\n",
       "      <td>2021-01-02 05:19:04+00:00</td>\n",
       "      <td>1345238157269336064</td>\n",
       "      <td>1345238157269336064</td>\n",
       "      <td>RT @emrecelikrumi: .@JoeBiden in case you miss...</td>\n",
       "      <td>&lt;a href=\"http://twitter.com/download/android\" ...</td>\n",
       "      <td>False</td>\n",
       "      <td>NaN</td>\n",
       "      <td>NaN</td>\n",
       "      <td>NaN</td>\n",
       "      <td>NaN</td>\n",
       "      <td>...</td>\n",
       "      <td>no</td>\n",
       "      <td>1.345017e+18</td>\n",
       "      <td>1.345017e+18</td>\n",
       "      <td>{'created_at': 'Fri Jan 01 14:38:53 +0000 2021...</td>\n",
       "      <td>{'url': 'https://t.co/vOs3CVIShd', 'expanded':...</td>\n",
       "      <td>NaN</td>\n",
       "      <td>NaN</td>\n",
       "      <td>NaN</td>\n",
       "      <td>NaN</td>\n",
       "      <td>NaN</td>\n",
       "    </tr>\n",
       "    <tr>\n",
       "      <th>304</th>\n",
       "      <td>2021-01-02 05:19:04+00:00</td>\n",
       "      <td>1345238157269336064</td>\n",
       "      <td>1345238157269336064</td>\n",
       "      <td>RT @emrecelikrumi: .@JoeBiden in case you miss...</td>\n",
       "      <td>&lt;a href=\"http://twitter.com/download/android\" ...</td>\n",
       "      <td>False</td>\n",
       "      <td>NaN</td>\n",
       "      <td>NaN</td>\n",
       "      <td>NaN</td>\n",
       "      <td>NaN</td>\n",
       "      <td>...</td>\n",
       "      <td>retweeted</td>\n",
       "      <td>1.345017e+18</td>\n",
       "      <td>1.345017e+18</td>\n",
       "      <td>{'created_at': 'Fri Jan 01 14:38:53 +0000 2021...</td>\n",
       "      <td>{'url': 'https://t.co/vOs3CVIShd', 'expanded':...</td>\n",
       "      <td>NaN</td>\n",
       "      <td>NaN</td>\n",
       "      <td>NaN</td>\n",
       "      <td>NaN</td>\n",
       "      <td>NaN</td>\n",
       "    </tr>\n",
       "  </tbody>\n",
       "</table>\n",
       "<p>41727 rows × 39 columns</p>\n",
       "</div>"
      ],
      "text/plain": [
       "                   created_at                   id               id_str  \\\n",
       "0   2021-03-31 09:55:16+00:00  1377197797410287617  1377197797410287616   \n",
       "1   2021-03-31 09:55:16+00:00  1377197797410287617  1377197797410287616   \n",
       "2   2021-03-31 09:28:50+00:00  1377191145244143620  1377191145244143616   \n",
       "3   2021-03-31 09:34:44+00:00  1377192630065491969  1377192630065491968   \n",
       "4   2021-03-31 09:34:44+00:00  1377192630065491969  1377192630065491968   \n",
       "..                        ...                  ...                  ...   \n",
       "300 2021-01-02 05:13:45+00:00  1345236819265396736  1345236819265396736   \n",
       "301 2021-01-02 05:50:14+00:00  1345246000588402690  1345246000588402688   \n",
       "302 2021-01-02 05:50:14+00:00  1345246000588402690  1345246000588402688   \n",
       "303 2021-01-02 05:19:04+00:00  1345238157269336064  1345238157269336064   \n",
       "304 2021-01-02 05:19:04+00:00  1345238157269336064  1345238157269336064   \n",
       "\n",
       "                                                  text  \\\n",
       "0    RT @ZaidZamanHamid: کرونا ایسے تباہی پھیلا رہا...   \n",
       "1    RT @ZaidZamanHamid: کرونا ایسے تباہی پھیلا رہا...   \n",
       "2    RT @sunochanda12: جسکو ہمارے ملک کے لبدلز معصو...   \n",
       "3    RT @ZaidZamanHamid: If it is blood clotting, w...   \n",
       "4    RT @ZaidZamanHamid: If it is blood clotting, w...   \n",
       "..                                                 ...   \n",
       "300  RT @bidemitweets: Dem Ina Ina Ina Ina Ina I kn...   \n",
       "301  RT @HizbAmerica: Help the Muslims of Sri Lanka...   \n",
       "302  RT @HizbAmerica: Help the Muslims of Sri Lanka...   \n",
       "303  RT @emrecelikrumi: .@JoeBiden in case you miss...   \n",
       "304  RT @emrecelikrumi: .@JoeBiden in case you miss...   \n",
       "\n",
       "                                                source  truncated  \\\n",
       "0    <a href=\"http://twitter.com/download/android\" ...      False   \n",
       "1    <a href=\"http://twitter.com/download/android\" ...      False   \n",
       "2    <a href=\"http://twitter.com/download/android\" ...      False   \n",
       "3    <a href=\"http://twitter.com/download/android\" ...      False   \n",
       "4    <a href=\"http://twitter.com/download/android\" ...      False   \n",
       "..                                                 ...        ...   \n",
       "300  <a href=\"https://mobile.twitter.com\" rel=\"nofo...      False   \n",
       "301  <a href=\"http://twitter.com/download/android\" ...      False   \n",
       "302  <a href=\"http://twitter.com/download/android\" ...      False   \n",
       "303  <a href=\"http://twitter.com/download/android\" ...      False   \n",
       "304  <a href=\"http://twitter.com/download/android\" ...      False   \n",
       "\n",
       "     in_reply_to_status_id  in_reply_to_status_id_str  in_reply_to_user_id  \\\n",
       "0                      NaN                        NaN                  NaN   \n",
       "1                      NaN                        NaN                  NaN   \n",
       "2                      NaN                        NaN                  NaN   \n",
       "3                      NaN                        NaN                  NaN   \n",
       "4                      NaN                        NaN                  NaN   \n",
       "..                     ...                        ...                  ...   \n",
       "300                    NaN                        NaN                  NaN   \n",
       "301                    NaN                        NaN                  NaN   \n",
       "302                    NaN                        NaN                  NaN   \n",
       "303                    NaN                        NaN                  NaN   \n",
       "304                    NaN                        NaN                  NaN   \n",
       "\n",
       "     in_reply_to_user_id_str  ...     linked quoted_status_id  \\\n",
       "0                        NaN  ...         no              NaN   \n",
       "1                        NaN  ...  retweeted              NaN   \n",
       "2                        NaN  ...         no              NaN   \n",
       "3                        NaN  ...         no              NaN   \n",
       "4                        NaN  ...  retweeted              NaN   \n",
       "..                       ...  ...        ...              ...   \n",
       "300                      NaN  ...  retweeted              NaN   \n",
       "301                      NaN  ...         no              NaN   \n",
       "302                      NaN  ...  retweeted              NaN   \n",
       "303                      NaN  ...         no     1.345017e+18   \n",
       "304                      NaN  ...  retweeted     1.345017e+18   \n",
       "\n",
       "    quoted_status_id_str                                      quoted_status  \\\n",
       "0                    NaN                                                NaN   \n",
       "1                    NaN                                                NaN   \n",
       "2                    NaN                                                NaN   \n",
       "3                    NaN                                                NaN   \n",
       "4                    NaN                                                NaN   \n",
       "..                   ...                                                ...   \n",
       "300                  NaN                                                NaN   \n",
       "301                  NaN                                                NaN   \n",
       "302                  NaN                                                NaN   \n",
       "303         1.345017e+18  {'created_at': 'Fri Jan 01 14:38:53 +0000 2021...   \n",
       "304         1.345017e+18  {'created_at': 'Fri Jan 01 14:38:53 +0000 2021...   \n",
       "\n",
       "                               quoted_status_permalink  extended_entities  \\\n",
       "0                                                  NaN                NaN   \n",
       "1                                                  NaN                NaN   \n",
       "2                                                  NaN                NaN   \n",
       "3                                                  NaN                NaN   \n",
       "4                                                  NaN                NaN   \n",
       "..                                                 ...                ...   \n",
       "300                                                NaN                NaN   \n",
       "301                                                NaN                NaN   \n",
       "302                                                NaN                NaN   \n",
       "303  {'url': 'https://t.co/vOs3CVIShd', 'expanded':...                NaN   \n",
       "304  {'url': 'https://t.co/vOs3CVIShd', 'expanded':...                NaN   \n",
       "\n",
       "    possibly_sensitive display_text_range  extended_tweet  withheld_copyright  \n",
       "0                  NaN                NaN             NaN                 NaN  \n",
       "1                  NaN                NaN             NaN                 NaN  \n",
       "2                  NaN                NaN             NaN                 NaN  \n",
       "3                  NaN                NaN             NaN                 NaN  \n",
       "4                  NaN                NaN             NaN                 NaN  \n",
       "..                 ...                ...             ...                 ...  \n",
       "300                NaN                NaN             NaN                 NaN  \n",
       "301                NaN                NaN             NaN                 NaN  \n",
       "302                NaN                NaN             NaN                 NaN  \n",
       "303                NaN                NaN             NaN                 NaN  \n",
       "304                NaN                NaN             NaN                 NaN  \n",
       "\n",
       "[41727 rows x 39 columns]"
      ]
     },
     "execution_count": 4,
     "metadata": {},
     "output_type": "execute_result"
    }
   ],
   "source": [
    "df_cen"
   ]
  },
  {
   "cell_type": "code",
   "execution_count": 7,
   "id": "naked-makeup",
   "metadata": {},
   "outputs": [
    {
     "data": {
      "text/plain": [
       "count     41727\n",
       "unique        2\n",
       "top       False\n",
       "freq      40693\n",
       "Name: truncated, dtype: object"
      ]
     },
     "execution_count": 7,
     "metadata": {},
     "output_type": "execute_result"
    }
   ],
   "source": [
    "df_cen[\"truncated\"].describe()"
   ]
  },
  {
   "cell_type": "code",
   "execution_count": 8,
   "id": "a4abd65b",
   "metadata": {},
   "outputs": [],
   "source": [
    "#suggestion: remove truncated tweets"
   ]
  },
  {
   "cell_type": "code",
   "execution_count": 9,
   "id": "63ade6e8",
   "metadata": {},
   "outputs": [],
   "source": [
    "#the id is useless as well. id_str too\n",
    "#source link too"
   ]
  },
  {
   "cell_type": "code",
   "execution_count": 11,
   "id": "bdb9202b",
   "metadata": {},
   "outputs": [
    {
     "data": {
      "text/plain": [
       "Index(['created_at', 'id', 'id_str', 'text', 'source', 'truncated',\n",
       "       'in_reply_to_status_id', 'in_reply_to_status_id_str',\n",
       "       'in_reply_to_user_id', 'in_reply_to_user_id_str',\n",
       "       'in_reply_to_screen_name', 'user', 'geo', 'coordinates', 'place',\n",
       "       'contributors', 'withheld_in_countries', 'retweeted_status',\n",
       "       'is_quote_status', 'quote_count', 'reply_count', 'retweet_count',\n",
       "       'favorite_count', 'entities', 'favorited', 'retweeted', 'filter_level',\n",
       "       'lang', 'timestamp_ms', 'linked', 'quoted_status_id',\n",
       "       'quoted_status_id_str', 'quoted_status', 'quoted_status_permalink',\n",
       "       'extended_entities', 'possibly_sensitive', 'display_text_range',\n",
       "       'extended_tweet', 'withheld_copyright'],\n",
       "      dtype='object')"
      ]
     },
     "execution_count": 11,
     "metadata": {},
     "output_type": "execute_result"
    }
   ],
   "source": [
    "df_cen.columns"
   ]
  },
  {
   "cell_type": "code",
   "execution_count": 12,
   "id": "d824b507",
   "metadata": {},
   "outputs": [],
   "source": [
    "#it can be interesting to have the information of whether the message was in reply to another one -> \"is_quote_status\"\n",
    "#but the id isn't that interesting\n",
    "#UNLESS we want to train our model by telling it the content of the message to which it is replying"
   ]
  },
  {
   "cell_type": "code",
   "execution_count": 13,
   "id": "5f16f4fe",
   "metadata": {},
   "outputs": [],
   "source": [
    "#username sounds useless\n",
    "#check when the account was created !"
   ]
  },
  {
   "cell_type": "code",
   "execution_count": 27,
   "id": "1a9a254f",
   "metadata": {},
   "outputs": [],
   "source": [
    "#geo sounds interesting if it contains the name of the country\n",
    "#coordinates as such doesn't"
   ]
  },
  {
   "cell_type": "code",
   "execution_count": 31,
   "id": "8f2bf6af",
   "metadata": {},
   "outputs": [
    {
     "data": {
      "text/plain": [
       "0       NaN\n",
       "1       NaN\n",
       "2       NaN\n",
       "3       NaN\n",
       "4       NaN\n",
       "       ... \n",
       "300    None\n",
       "301    None\n",
       "302    None\n",
       "303    None\n",
       "304    None\n",
       "Name: place, Length: 41727, dtype: object"
      ]
     },
     "execution_count": 31,
     "metadata": {},
     "output_type": "execute_result"
    }
   ],
   "source": [
    "df_cen[\"place\"] #check with vincent"
   ]
  },
  {
   "cell_type": "code",
   "execution_count": 32,
   "id": "900e6df9",
   "metadata": {},
   "outputs": [],
   "source": [
    "#contributors sounds useless\n",
    "#with_held_in_countries is our LABEL\n",
    "#\"is_quote_status\", \"retweeted_status\", \"quote_count\", \"favorite_count\" might be interesting since \n",
    "#viral tweets sound more likely to get censored"
   ]
  },
  {
   "cell_type": "code",
   "execution_count": 35,
   "id": "484f1a55",
   "metadata": {},
   "outputs": [
    {
     "data": {
      "text/plain": [
       "count     41727\n",
       "unique        2\n",
       "top       False\n",
       "freq      38011\n",
       "Name: is_quote_status, dtype: object"
      ]
     },
     "execution_count": 35,
     "metadata": {},
     "output_type": "execute_result"
    }
   ],
   "source": [
    "df_cen[\"is_quote_status\"].describe() #! strong bias, a tremendous majority of tweets aren't quotes"
   ]
  },
  {
   "cell_type": "code",
   "execution_count": 37,
   "id": "0f66b7d5",
   "metadata": {},
   "outputs": [
    {
     "data": {
      "text/plain": [
       "0      {'hashtags': [], 'urls': [], 'user_mentions': ...\n",
       "1      {'hashtags': [], 'urls': [], 'user_mentions': ...\n",
       "2      {'hashtags': [], 'urls': [], 'user_mentions': ...\n",
       "3      {'hashtags': [], 'urls': [], 'user_mentions': ...\n",
       "4      {'hashtags': [], 'urls': [], 'user_mentions': ...\n",
       "                             ...                        \n",
       "300    {'hashtags': [], 'urls': [], 'user_mentions': ...\n",
       "301    {'hashtags': [], 'urls': [], 'user_mentions': ...\n",
       "302    {'hashtags': [], 'urls': [], 'user_mentions': ...\n",
       "303    {'hashtags': [{'text': 'Erdogan', 'indices': [...\n",
       "304    {'hashtags': [{'text': 'Erdogan', 'indices': [...\n",
       "Name: entities, Length: 41727, dtype: object"
      ]
     },
     "execution_count": 37,
     "metadata": {},
     "output_type": "execute_result"
    }
   ],
   "source": [
    "df_cen[\"entities\"] #to check further"
   ]
  },
  {
   "cell_type": "code",
   "execution_count": 56,
   "id": "2fba4995",
   "metadata": {},
   "outputs": [
    {
     "data": {
      "text/plain": [
       "count     41727\n",
       "unique        1\n",
       "top       False\n",
       "freq      41727\n",
       "Name: retweeted, dtype: object"
      ]
     },
     "execution_count": 56,
     "metadata": {},
     "output_type": "execute_result"
    }
   ],
   "source": [
    "#remove \"favorited\", \"retweeted\"\n",
    "df_cen[\"retweeted\"].describe() #remove it, it's false for all"
   ]
  },
  {
   "cell_type": "code",
   "execution_count": 40,
   "id": "7a548435",
   "metadata": {},
   "outputs": [
    {
     "data": {
      "text/plain": [
       "count     41727\n",
       "unique        1\n",
       "top         low\n",
       "freq      41727\n",
       "Name: filter_level, dtype: object"
      ]
     },
     "execution_count": 40,
     "metadata": {},
     "output_type": "execute_result"
    }
   ],
   "source": [
    "df_cen['filter_level'].describe() #\"low\" for all the data -> remove it"
   ]
  },
  {
   "cell_type": "code",
   "execution_count": 41,
   "id": "028966c9",
   "metadata": {},
   "outputs": [
    {
     "data": {
      "text/plain": [
       "count     41727\n",
       "unique       50\n",
       "top          en\n",
       "freq      15536\n",
       "Name: lang, dtype: object"
      ]
     },
     "execution_count": 41,
     "metadata": {},
     "output_type": "execute_result"
    }
   ],
   "source": [
    "df_cen[\"lang\"].describe() #at first, focus on tweets posted in english"
   ]
  },
  {
   "cell_type": "code",
   "execution_count": 42,
   "id": "112202ce",
   "metadata": {},
   "outputs": [],
   "source": [
    "#\"timestamp_ms\" sounds more useful than \"created_at\", looks more like continuous data\n",
    "#even if it's the same info"
   ]
  },
  {
   "cell_type": "code",
   "execution_count": 58,
   "id": "1bb906f2",
   "metadata": {},
   "outputs": [
    {
     "data": {
      "text/html": [
       "<div>\n",
       "<style scoped>\n",
       "    .dataframe tbody tr th:only-of-type {\n",
       "        vertical-align: middle;\n",
       "    }\n",
       "\n",
       "    .dataframe tbody tr th {\n",
       "        vertical-align: top;\n",
       "    }\n",
       "\n",
       "    .dataframe thead th {\n",
       "        text-align: right;\n",
       "    }\n",
       "</style>\n",
       "<table border=\"1\" class=\"dataframe\">\n",
       "  <thead>\n",
       "    <tr style=\"text-align: right;\">\n",
       "      <th></th>\n",
       "      <th>linked</th>\n",
       "      <th>retweeted_status</th>\n",
       "    </tr>\n",
       "  </thead>\n",
       "  <tbody>\n",
       "    <tr>\n",
       "      <th>0</th>\n",
       "      <td>no</td>\n",
       "      <td>{'created_at': 'Wed Mar 31 09:19:56 +0000 2021...</td>\n",
       "    </tr>\n",
       "    <tr>\n",
       "      <th>1</th>\n",
       "      <td>retweeted</td>\n",
       "      <td>{'created_at': 'Wed Mar 31 09:19:56 +0000 2021...</td>\n",
       "    </tr>\n",
       "    <tr>\n",
       "      <th>2</th>\n",
       "      <td>no</td>\n",
       "      <td>{'created_at': 'Tue Mar 30 19:04:06 +0000 2021...</td>\n",
       "    </tr>\n",
       "    <tr>\n",
       "      <th>3</th>\n",
       "      <td>no</td>\n",
       "      <td>{'created_at': 'Wed Mar 31 07:02:06 +0000 2021...</td>\n",
       "    </tr>\n",
       "    <tr>\n",
       "      <th>4</th>\n",
       "      <td>retweeted</td>\n",
       "      <td>{'created_at': 'Wed Mar 31 07:02:06 +0000 2021...</td>\n",
       "    </tr>\n",
       "    <tr>\n",
       "      <th>...</th>\n",
       "      <td>...</td>\n",
       "      <td>...</td>\n",
       "    </tr>\n",
       "    <tr>\n",
       "      <th>300</th>\n",
       "      <td>retweeted</td>\n",
       "      <td>{'created_at': 'Sat Jan 02 00:42:29 +0000 2021...</td>\n",
       "    </tr>\n",
       "    <tr>\n",
       "      <th>301</th>\n",
       "      <td>no</td>\n",
       "      <td>{'created_at': 'Fri Jan 01 20:19:40 +0000 2021...</td>\n",
       "    </tr>\n",
       "    <tr>\n",
       "      <th>302</th>\n",
       "      <td>retweeted</td>\n",
       "      <td>{'created_at': 'Fri Jan 01 20:19:40 +0000 2021...</td>\n",
       "    </tr>\n",
       "    <tr>\n",
       "      <th>303</th>\n",
       "      <td>no</td>\n",
       "      <td>{'created_at': 'Sat Jan 02 00:48:51 +0000 2021...</td>\n",
       "    </tr>\n",
       "    <tr>\n",
       "      <th>304</th>\n",
       "      <td>retweeted</td>\n",
       "      <td>{'created_at': 'Sat Jan 02 00:48:51 +0000 2021...</td>\n",
       "    </tr>\n",
       "  </tbody>\n",
       "</table>\n",
       "<p>41727 rows × 2 columns</p>\n",
       "</div>"
      ],
      "text/plain": [
       "        linked                                   retweeted_status\n",
       "0           no  {'created_at': 'Wed Mar 31 09:19:56 +0000 2021...\n",
       "1    retweeted  {'created_at': 'Wed Mar 31 09:19:56 +0000 2021...\n",
       "2           no  {'created_at': 'Tue Mar 30 19:04:06 +0000 2021...\n",
       "3           no  {'created_at': 'Wed Mar 31 07:02:06 +0000 2021...\n",
       "4    retweeted  {'created_at': 'Wed Mar 31 07:02:06 +0000 2021...\n",
       "..         ...                                                ...\n",
       "300  retweeted  {'created_at': 'Sat Jan 02 00:42:29 +0000 2021...\n",
       "301         no  {'created_at': 'Fri Jan 01 20:19:40 +0000 2021...\n",
       "302  retweeted  {'created_at': 'Fri Jan 01 20:19:40 +0000 2021...\n",
       "303         no  {'created_at': 'Sat Jan 02 00:48:51 +0000 2021...\n",
       "304  retweeted  {'created_at': 'Sat Jan 02 00:48:51 +0000 2021...\n",
       "\n",
       "[41727 rows x 2 columns]"
      ]
     },
     "execution_count": 58,
     "metadata": {},
     "output_type": "execute_result"
    }
   ],
   "source": [
    "df_cen[[\"linked\", \"retweeted_status\"]] #sounds redundant with \"retweeted_status\"\n",
    "#check later whether it's the case\n",
    "#i have to have a look at it"
   ]
  },
  {
   "cell_type": "code",
   "execution_count": 47,
   "id": "86352589",
   "metadata": {},
   "outputs": [],
   "source": [
    "#\"quoted_status_id\" useless UNLESS we retrieve the text corresponding to that id\n",
    "#-> done with \"quoted_status\" in fact\n",
    "#ask rebekah whether it's relevant"
   ]
  },
  {
   "cell_type": "code",
   "execution_count": 48,
   "id": "683ff4aa",
   "metadata": {},
   "outputs": [
    {
     "data": {
      "text/plain": [
       "0                                                    NaN\n",
       "1                                                    NaN\n",
       "2                                                    NaN\n",
       "3                                                    NaN\n",
       "4                                                    NaN\n",
       "                             ...                        \n",
       "300                                                  NaN\n",
       "301                                                  NaN\n",
       "302                                                  NaN\n",
       "303    {'created_at': 'Fri Jan 01 14:38:53 +0000 2021...\n",
       "304    {'created_at': 'Fri Jan 01 14:38:53 +0000 2021...\n",
       "Name: quoted_status, Length: 41727, dtype: object"
      ]
     },
     "execution_count": 48,
     "metadata": {},
     "output_type": "execute_result"
    }
   ],
   "source": [
    "df_cen[\"quoted_status\"]"
   ]
  },
  {
   "cell_type": "code",
   "execution_count": 49,
   "id": "68029880",
   "metadata": {},
   "outputs": [],
   "source": [
    "#\"quoted_status_permalink\" is useless"
   ]
  },
  {
   "cell_type": "code",
   "execution_count": 52,
   "id": "3535c2d5",
   "metadata": {},
   "outputs": [
    {
     "data": {
      "text/plain": [
       "count                                                  6401\n",
       "unique                                                 3814\n",
       "top       {'media': [{'id': 1353790978004496385, 'id_str...\n",
       "freq                                                     32\n",
       "Name: extended_entities, dtype: object"
      ]
     },
     "execution_count": 52,
     "metadata": {},
     "output_type": "execute_result"
    }
   ],
   "source": [
    "df_cen[\"extended_entities\"].describe() #to check later"
   ]
  },
  {
   "cell_type": "code",
   "execution_count": 54,
   "id": "3291a510",
   "metadata": {},
   "outputs": [
    {
     "data": {
      "text/plain": [
       "count    9088.000000\n",
       "mean        0.133473\n",
       "std         0.340104\n",
       "min         0.000000\n",
       "25%         0.000000\n",
       "50%         0.000000\n",
       "75%         0.000000\n",
       "max         1.000000\n",
       "Name: possibly_sensitive, dtype: float64"
      ]
     },
     "execution_count": 54,
     "metadata": {},
     "output_type": "execute_result"
    }
   ],
   "source": [
    "#\"possibly_sensitive\" :eyes:\n",
    "df_cen[\"possibly_sensitive\"].describe()"
   ]
  },
  {
   "cell_type": "code",
   "execution_count": null,
   "id": "af73d8ef",
   "metadata": {},
   "outputs": [],
   "source": []
  }
 ],
 "metadata": {
  "kernelspec": {
   "display_name": "Python 3 (ipykernel)",
   "language": "python",
   "name": "python3"
  },
  "language_info": {
   "codemirror_mode": {
    "name": "ipython",
    "version": 3
   },
   "file_extension": ".py",
   "mimetype": "text/x-python",
   "name": "python",
   "nbconvert_exporter": "python",
   "pygments_lexer": "ipython3",
   "version": "3.9.12"
  }
 },
 "nbformat": 4,
 "nbformat_minor": 5
}
