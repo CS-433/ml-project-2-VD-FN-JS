{
 "cells": [
  {
   "cell_type": "code",
   "execution_count": 16,
   "id": "governmental-debate",
   "metadata": {
    "scrolled": true
   },
   "outputs": [],
   "source": [
    "import pandas as pd\n",
    "import json\n",
    "import os"
   ]
  },
  {
   "cell_type": "code",
   "execution_count": null,
   "id": "marine-qatar",
   "metadata": {},
   "outputs": [
    {
     "name": "stdout",
     "output_type": "stream",
     "text": [
      "input ['censored_tweets', 'plusone_control_tweets'] []\n",
      "input/censored_tweets [] ['2021-03-31_withheldtweets.json', '2021-03-30_withheldtweets.json', '2021-03-29_withheldtweets.json', '2021-03-28_withheldtweets.json', '2021-03-27_withheldtweets.json', '2021-03-26_withheldtweets.json', '2021-03-25_withheldtweets.json', '2021-03-24_withheldtweets.json', '2021-03-23_withheldtweets.json', '2021-03-22_withheldtweets.json', '2021-03-21_withheldtweets.json', '2021-03-20_withheldtweets.json', '2021-03-19_withheldtweets.json', '2021-03-18_withheldtweets.json', '2021-03-17_withheldtweets.json', '2021-03-16_withheldtweets.json', '2021-03-15_withheldtweets.json', '2021-03-14_withheldtweets.json', '2021-03-13_withheldtweets.json', '2021-03-12_withheldtweets.json', '2021-03-11_withheldtweets.json', '2021-03-10_withheldtweets.json', '2021-03-09_withheldtweets.json', '2021-03-08_withheldtweets.json', '2021-03-07_withheldtweets.json', '2021-03-06_withheldtweets.json', '2021-03-05_withheldtweets.json', '2021-03-04_withheldtweets.json', '2021-03-03_withheldtweets.json', '2021-03-02_withheldtweets.json', '2021-03-01_withheldtweets.json', '2021-02-28_withheldtweets.json', '2021-02-27_withheldtweets.json', '2021-02-26_withheldtweets.json', '2021-02-25_withheldtweets.json', '2021-02-24_withheldtweets.json', '2021-02-23_withheldtweets.json', '2021-02-22_withheldtweets.json', '2021-02-21_withheldtweets.json', '2021-02-20_withheldtweets.json', '2021-02-19_withheldtweets.json', '2021-02-18_withheldtweets.json', '2021-02-17_withheldtweets.json', '2021-02-16_withheldtweets.json', '2021-02-15_withheldtweets.json', '2021-02-14_withheldtweets.json', '2021-02-13_withheldtweets.json', '2021-02-12_withheldtweets.json', '2021-02-11_withheldtweets.json', '2021-02-10_withheldtweets.json', '2021-02-09_withheldtweets.json', '2021-02-08_withheldtweets.json', '2021-02-07_withheldtweets.json', '2021-02-06_withheldtweets.json', '2021-02-05_withheldtweets.json', '2021-02-04_withheldtweets.json', '2021-02-03_withheldtweets.json', '2021-02-02_withheldtweets.json', '2021-02-01_withheldtweets.json', '2021-01-31_withheldtweets.json', '2021-01-30_withheldtweets.json', '2021-01-29_withheldtweets.json', '2021-01-28_withheldtweets.json', '2021-01-27_withheldtweets.json', '2021-01-26_withheldtweets.json', '2021-01-25_withheldtweets.json', '2021-01-06_withheldtweets.json', '2021-01-05_withheldtweets.json', '2021-01-04_withheldtweets.json', '2021-01-03_withheldtweets.json', '2021-01-02_withheldtweets.json', '2021-01-01_withheldtweets.json']\n"
     ]
    }
   ],
   "source": [
    "dfs = []\n",
    "for r, d, f in os.walk('input'):\n",
    "    for file in f:\n",
    "        if 'withheldtweets.json' in file:  # alt: if ‘control' in file:\n",
    "            dfs.append(pd.read_json('%s/%s' % (r, file), lines=True))\n",
    "\n",
    "df_cen = pd.concat(dfs)\n",
    "df_cen = df_cen.dropna(subset=['withheld_in_countries'])"
   ]
  },
  {
   "cell_type": "code",
   "execution_count": null,
   "id": "urban-christian",
   "metadata": {},
   "outputs": [],
   "source": []
  },
  {
   "cell_type": "code",
   "execution_count": null,
   "id": "intermediate-avatar",
   "metadata": {},
   "outputs": [],
   "source": []
  }
 ],
 "metadata": {
  "kernelspec": {
   "display_name": "Python 3",
   "language": "python",
   "name": "python3"
  },
  "language_info": {
   "codemirror_mode": {
    "name": "ipython",
    "version": 3
   },
   "file_extension": ".py",
   "mimetype": "text/x-python",
   "name": "python",
   "nbconvert_exporter": "python",
   "pygments_lexer": "ipython3",
   "version": "3.9.2"
  }
 },
 "nbformat": 4,
 "nbformat_minor": 5
}
