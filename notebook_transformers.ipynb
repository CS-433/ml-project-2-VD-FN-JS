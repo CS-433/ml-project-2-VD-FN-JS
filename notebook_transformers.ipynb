{
  "nbformat": 4,
  "nbformat_minor": 0,
  "metadata": {
    "colab": {
      "provenance": []
    },
    "kernelspec": {
      "name": "python3",
      "display_name": "Python 3"
    },
    "language_info": {
      "name": "python"
    },
    "accelerator": "GPU",
    "gpuClass": "standard"
  },
  "cells": [
    {
      "cell_type": "markdown",
      "source": [
        "## Downloads"
      ],
      "metadata": {
        "id": "3Qr0M2SzHS4Q"
      }
    },
    {
      "cell_type": "code",
      "source": [
        "!pip install preprocessor\n",
        "!pip install vaderSentiment\n",
        "!pip install torchmetrics\n",
        "!pip install torch\n",
        "!pip install transformers\n",
        "!pip install plotly"
      ],
      "metadata": {
        "colab": {
          "base_uri": "https://localhost:8080/"
        },
        "id": "E5S8X4PutBIf",
        "outputId": "4ceba838-9a97-415b-a23e-61ce35ea855e"
      },
      "execution_count": 21,
      "outputs": [
        {
          "output_type": "stream",
          "name": "stdout",
          "text": [
            "Looking in indexes: https://pypi.org/simple, https://us-python.pkg.dev/colab-wheels/public/simple/\n",
            "Requirement already satisfied: preprocessor in /usr/local/lib/python3.8/dist-packages (1.1.3)\n",
            "Looking in indexes: https://pypi.org/simple, https://us-python.pkg.dev/colab-wheels/public/simple/\n",
            "Requirement already satisfied: vaderSentiment in /usr/local/lib/python3.8/dist-packages (3.3.2)\n",
            "Requirement already satisfied: requests in /usr/local/lib/python3.8/dist-packages (from vaderSentiment) (2.23.0)\n",
            "Requirement already satisfied: idna<3,>=2.5 in /usr/local/lib/python3.8/dist-packages (from requests->vaderSentiment) (2.10)\n",
            "Requirement already satisfied: certifi>=2017.4.17 in /usr/local/lib/python3.8/dist-packages (from requests->vaderSentiment) (2022.12.7)\n",
            "Requirement already satisfied: urllib3!=1.25.0,!=1.25.1,<1.26,>=1.21.1 in /usr/local/lib/python3.8/dist-packages (from requests->vaderSentiment) (1.24.3)\n",
            "Requirement already satisfied: chardet<4,>=3.0.2 in /usr/local/lib/python3.8/dist-packages (from requests->vaderSentiment) (3.0.4)\n",
            "Looking in indexes: https://pypi.org/simple, https://us-python.pkg.dev/colab-wheels/public/simple/\n",
            "Requirement already satisfied: torchmetrics in /usr/local/lib/python3.8/dist-packages (0.11.0)\n",
            "Requirement already satisfied: numpy>=1.17.2 in /usr/local/lib/python3.8/dist-packages (from torchmetrics) (1.21.6)\n",
            "Requirement already satisfied: typing-extensions in /usr/local/lib/python3.8/dist-packages (from torchmetrics) (4.4.0)\n",
            "Requirement already satisfied: torch>=1.8.1 in /usr/local/lib/python3.8/dist-packages (from torchmetrics) (1.13.0+cu116)\n",
            "Requirement already satisfied: packaging in /usr/local/lib/python3.8/dist-packages (from torchmetrics) (21.3)\n",
            "Requirement already satisfied: pyparsing!=3.0.5,>=2.0.2 in /usr/local/lib/python3.8/dist-packages (from packaging->torchmetrics) (3.0.9)\n",
            "Looking in indexes: https://pypi.org/simple, https://us-python.pkg.dev/colab-wheels/public/simple/\n",
            "Requirement already satisfied: torch in /usr/local/lib/python3.8/dist-packages (1.13.0+cu116)\n",
            "Requirement already satisfied: typing-extensions in /usr/local/lib/python3.8/dist-packages (from torch) (4.4.0)\n",
            "Looking in indexes: https://pypi.org/simple, https://us-python.pkg.dev/colab-wheels/public/simple/\n",
            "Requirement already satisfied: transformers in /usr/local/lib/python3.8/dist-packages (4.25.1)\n",
            "Requirement already satisfied: numpy>=1.17 in /usr/local/lib/python3.8/dist-packages (from transformers) (1.21.6)\n",
            "Requirement already satisfied: huggingface-hub<1.0,>=0.10.0 in /usr/local/lib/python3.8/dist-packages (from transformers) (0.11.1)\n",
            "Requirement already satisfied: tqdm>=4.27 in /usr/local/lib/python3.8/dist-packages (from transformers) (4.64.1)\n",
            "Requirement already satisfied: requests in /usr/local/lib/python3.8/dist-packages (from transformers) (2.23.0)\n",
            "Requirement already satisfied: regex!=2019.12.17 in /usr/local/lib/python3.8/dist-packages (from transformers) (2022.6.2)\n",
            "Requirement already satisfied: filelock in /usr/local/lib/python3.8/dist-packages (from transformers) (3.8.2)\n",
            "Requirement already satisfied: pyyaml>=5.1 in /usr/local/lib/python3.8/dist-packages (from transformers) (6.0)\n",
            "Requirement already satisfied: packaging>=20.0 in /usr/local/lib/python3.8/dist-packages (from transformers) (21.3)\n",
            "Requirement already satisfied: tokenizers!=0.11.3,<0.14,>=0.11.1 in /usr/local/lib/python3.8/dist-packages (from transformers) (0.13.2)\n",
            "Requirement already satisfied: typing-extensions>=3.7.4.3 in /usr/local/lib/python3.8/dist-packages (from huggingface-hub<1.0,>=0.10.0->transformers) (4.4.0)\n",
            "Requirement already satisfied: pyparsing!=3.0.5,>=2.0.2 in /usr/local/lib/python3.8/dist-packages (from packaging>=20.0->transformers) (3.0.9)\n",
            "Requirement already satisfied: idna<3,>=2.5 in /usr/local/lib/python3.8/dist-packages (from requests->transformers) (2.10)\n",
            "Requirement already satisfied: certifi>=2017.4.17 in /usr/local/lib/python3.8/dist-packages (from requests->transformers) (2022.12.7)\n",
            "Requirement already satisfied: chardet<4,>=3.0.2 in /usr/local/lib/python3.8/dist-packages (from requests->transformers) (3.0.4)\n",
            "Requirement already satisfied: urllib3!=1.25.0,!=1.25.1,<1.26,>=1.21.1 in /usr/local/lib/python3.8/dist-packages (from requests->transformers) (1.24.3)\n",
            "Looking in indexes: https://pypi.org/simple, https://us-python.pkg.dev/colab-wheels/public/simple/\n",
            "Requirement already satisfied: plotly in /usr/local/lib/python3.8/dist-packages (5.5.0)\n",
            "Requirement already satisfied: tenacity>=6.2.0 in /usr/local/lib/python3.8/dist-packages (from plotly) (8.1.0)\n",
            "Requirement already satisfied: six in /usr/local/lib/python3.8/dist-packages (from plotly) (1.15.0)\n"
          ]
        }
      ]
    },
    {
      "cell_type": "markdown",
      "source": [
        "## Imports"
      ],
      "metadata": {
        "id": "bO98axTwHWr4"
      }
    },
    {
      "cell_type": "code",
      "execution_count": 22,
      "metadata": {
        "id": "tvPM-LXFsp30",
        "colab": {
          "base_uri": "https://localhost:8080/"
        },
        "outputId": "286ba8b8-77a6-4778-d394-454d70dd281e"
      },
      "outputs": [
        {
          "output_type": "stream",
          "name": "stderr",
          "text": [
            "[nltk_data] Downloading package punkt to /root/nltk_data...\n",
            "[nltk_data]   Package punkt is already up-to-date!\n",
            "[nltk_data] Downloading package omw-1.4 to /root/nltk_data...\n",
            "[nltk_data]   Package omw-1.4 is already up-to-date!\n",
            "[nltk_data] Downloading package wordnet to /root/nltk_data...\n",
            "[nltk_data]   Package wordnet is already up-to-date!\n",
            "[nltk_data] Downloading package stopwords to /root/nltk_data...\n",
            "[nltk_data]   Package stopwords is already up-to-date!\n"
          ]
        },
        {
          "output_type": "execute_result",
          "data": {
            "text/plain": [
              "True"
            ]
          },
          "metadata": {},
          "execution_count": 22
        }
      ],
      "source": [
        "import pandas as pd\n",
        "import random\n",
        "import time\n",
        "import json\n",
        "import os\n",
        "import preprocessor as p\n",
        "import re\n",
        "import numpy as np\n",
        "from vaderSentiment.vaderSentiment import SentimentIntensityAnalyzer\n",
        "from sklearn.feature_extraction.text import CountVectorizer\n",
        "import nltk\n",
        "from nltk.corpus import stopwords\n",
        "from nltk.stem import WordNetLemmatizer\n",
        "from nltk.tokenize import word_tokenize\n",
        "\n",
        "import plotly.express as px\n",
        "from sklearn.metrics import roc_curve, auc\n",
        "\n",
        "from sklearn.svm import SVC\n",
        "from sklearn.ensemble import RandomForestClassifier\n",
        "from sklearn.naive_bayes import GaussianNB\n",
        "from sklearn.model_selection import train_test_split\n",
        "from sklearn.metrics import confusion_matrix\n",
        "from sklearn.metrics import classification_report\n",
        "\n",
        "import matplotlib.pyplot as plt\n",
        "import seaborn as sns\n",
        "\n",
        "import torch\n",
        "import torch.nn as nn\n",
        "from torch.utils.data import TensorDataset, random_split\n",
        "from torch.utils.data import DataLoader, RandomSampler, SequentialSampler\n",
        "\n",
        "from transformers import AdamW\n",
        "from transformers import get_linear_schedule_with_warmup\n",
        "from transformers import get_linear_schedule_with_warmup\n",
        "from transformers import BertTokenizer, BertModel, BertConfig, BertForSequenceClassification\n",
        "from transformers import RobertaConfig, RobertaModel, RobertaForSequenceClassification, RobertaTokenizer\n",
        "from transformers import DebertaTokenizer, DebertaForSequenceClassification\n",
        "from transformers import ElectraConfig, ElectraModel, ElectraTokenizer, ElectraForSequenceClassification\n",
        "\n",
        "if torch.cuda.is_available():     \n",
        "    device = torch.device(\"cuda\")\n",
        "\n",
        "nltk.download('punkt')\n",
        "nltk.download('omw-1.4')\n",
        "nltk.download('wordnet')\n",
        "nltk.download('stopwords')\n"
      ]
    },
    {
      "cell_type": "markdown",
      "source": [
        "## Constants"
      ],
      "metadata": {
        "id": "w6awx83KJNZ0"
      }
    },
    {
      "cell_type": "code",
      "source": [
        "dir_path = 'df_english_clean.csv'\n",
        "seed_val = 42\n",
        "MODEL = 'ROBERTA' #'BERT', 'ELECTRA', 'ROBERTA'"
      ],
      "metadata": {
        "id": "RzUwBqzJJPBt"
      },
      "execution_count": 23,
      "outputs": []
    },
    {
      "cell_type": "markdown",
      "source": [
        "## Data Import \n",
        "See README for Instructions"
      ],
      "metadata": {
        "id": "d__2kjNBHskh"
      }
    },
    {
      "cell_type": "code",
      "source": [
        "df = pd.read_csv(dir_path)"
      ],
      "metadata": {
        "id": "yiqUkFGUs-6m"
      },
      "execution_count": 24,
      "outputs": []
    },
    {
      "cell_type": "code",
      "source": [
        "df.head(10)"
      ],
      "metadata": {
        "id": "qFKwnDWGtM-y",
        "colab": {
          "base_uri": "https://localhost:8080/",
          "height": 1000
        },
        "outputId": "8b206a90-75a2-4497-e3c2-2b92b89372da"
      },
      "execution_count": 25,
      "outputs": [
        {
          "output_type": "execute_result",
          "data": {
            "text/plain": [
              "                                                text withheld_in_countries  \\\n",
              "0                              Pak Army is our pride                ['IN']   \n",
              "1  Ben Dunk \"If you haven't seen Lahore, you have...                ['IN']   \n",
              "2  India has also bestowed Abhinandan Varthaman w...                ['IN']   \n",
              "3  After the great Companion Saad bin Muadh embra...                ['RU']   \n",
              "4  After the great Companion Saad bin Muadh embra...                ['RU']   \n",
              "5  Paying homage to one of the great pilots in th...                ['IN']   \n",
              "6  Paying homage to one of the great pilots in th...                ['IN']   \n",
              "7                              STRIP CHAT STRIP CHAT                ['DE']   \n",
              "8  Champions of Democracy are in fact champions o...                ['IN']   \n",
              "9  Militant commander Nooristan known as Hasan Ba...                ['IN']   \n",
              "\n",
              "                      hashtags lang  possibly_sensitive  verified_account  \\\n",
              "0                  ['Balakot']   en                 0.0             False   \n",
              "1                           []   en                 0.0             False   \n",
              "2  ['ہماراایمان_دفاع_پاکستان']   en                 0.0             False   \n",
              "3                           []   en                 0.0             False   \n",
              "4                           []   en                 0.0             False   \n",
              "5               ['Abhinandan']   en                 0.0             False   \n",
              "6               ['Abhinandan']   en                 0.0             False   \n",
              "7                           []   en                 1.0             False   \n",
              "8                           []   en                 0.0             False   \n",
              "9          ['SouthWaziristan']   en                 0.0             False   \n",
              "\n",
              "   followers_count              location              user_id  \\\n",
              "0               93                   NaN   966615015716458497   \n",
              "1             3525                   NaN  1022545022447759360   \n",
              "2             3746  United Arab Emirates  1178014718029651969   \n",
              "3              354                   NaN  1043725274280538112   \n",
              "4              354                   NaN  1043725274280538112   \n",
              "5              411              Pakistan  1182959113929740296   \n",
              "6              411              Pakistan  1182959113929740296   \n",
              "7           195344                   NaN            148782077   \n",
              "8             1961              Pakistan  1322144832987537409   \n",
              "9             1036              Pakistan  1270480467310055426   \n",
              "\n",
              "   withheld_anywhere   neg   neu   pos  compound  popularity_score  \n",
              "0                  1  0.00  0.79  0.21      0.34          5.42e-04  \n",
              "1                  1  0.00  1.00  0.00      0.00          2.05e-02  \n",
              "2                  1  0.00  0.79  0.21      0.54          1.38e-02  \n",
              "3                  1  0.10  0.76  0.14      0.32          1.41e-03  \n",
              "4                  1  0.10  0.76  0.14      0.32          1.41e-03  \n",
              "5                  1  0.05  0.55  0.40      0.93          7.90e-04  \n",
              "6                  1  0.05  0.55  0.40      0.93          7.90e-04  \n",
              "7                  1  0.00  1.00  0.00      0.00          2.29e-02  \n",
              "8                  1  0.11  0.66  0.23      0.57          1.45e-03  \n",
              "9                  1  0.00  0.88  0.12      0.32          3.92e-03  "
            ],
            "text/html": [
              "\n",
              "  <div id=\"df-8df3a770-b8d1-4f6c-8fb4-a45d1793cf9c\">\n",
              "    <div class=\"colab-df-container\">\n",
              "      <div>\n",
              "<style scoped>\n",
              "    .dataframe tbody tr th:only-of-type {\n",
              "        vertical-align: middle;\n",
              "    }\n",
              "\n",
              "    .dataframe tbody tr th {\n",
              "        vertical-align: top;\n",
              "    }\n",
              "\n",
              "    .dataframe thead th {\n",
              "        text-align: right;\n",
              "    }\n",
              "</style>\n",
              "<table border=\"1\" class=\"dataframe\">\n",
              "  <thead>\n",
              "    <tr style=\"text-align: right;\">\n",
              "      <th></th>\n",
              "      <th>text</th>\n",
              "      <th>withheld_in_countries</th>\n",
              "      <th>hashtags</th>\n",
              "      <th>lang</th>\n",
              "      <th>possibly_sensitive</th>\n",
              "      <th>verified_account</th>\n",
              "      <th>followers_count</th>\n",
              "      <th>location</th>\n",
              "      <th>user_id</th>\n",
              "      <th>withheld_anywhere</th>\n",
              "      <th>neg</th>\n",
              "      <th>neu</th>\n",
              "      <th>pos</th>\n",
              "      <th>compound</th>\n",
              "      <th>popularity_score</th>\n",
              "    </tr>\n",
              "  </thead>\n",
              "  <tbody>\n",
              "    <tr>\n",
              "      <th>0</th>\n",
              "      <td>Pak Army is our pride</td>\n",
              "      <td>['IN']</td>\n",
              "      <td>['Balakot']</td>\n",
              "      <td>en</td>\n",
              "      <td>0.0</td>\n",
              "      <td>False</td>\n",
              "      <td>93</td>\n",
              "      <td>NaN</td>\n",
              "      <td>966615015716458497</td>\n",
              "      <td>1</td>\n",
              "      <td>0.00</td>\n",
              "      <td>0.79</td>\n",
              "      <td>0.21</td>\n",
              "      <td>0.34</td>\n",
              "      <td>5.42e-04</td>\n",
              "    </tr>\n",
              "    <tr>\n",
              "      <th>1</th>\n",
              "      <td>Ben Dunk \"If you haven't seen Lahore, you have...</td>\n",
              "      <td>['IN']</td>\n",
              "      <td>[]</td>\n",
              "      <td>en</td>\n",
              "      <td>0.0</td>\n",
              "      <td>False</td>\n",
              "      <td>3525</td>\n",
              "      <td>NaN</td>\n",
              "      <td>1022545022447759360</td>\n",
              "      <td>1</td>\n",
              "      <td>0.00</td>\n",
              "      <td>1.00</td>\n",
              "      <td>0.00</td>\n",
              "      <td>0.00</td>\n",
              "      <td>2.05e-02</td>\n",
              "    </tr>\n",
              "    <tr>\n",
              "      <th>2</th>\n",
              "      <td>India has also bestowed Abhinandan Varthaman w...</td>\n",
              "      <td>['IN']</td>\n",
              "      <td>['ہماراایمان_دفاع_پاکستان']</td>\n",
              "      <td>en</td>\n",
              "      <td>0.0</td>\n",
              "      <td>False</td>\n",
              "      <td>3746</td>\n",
              "      <td>United Arab Emirates</td>\n",
              "      <td>1178014718029651969</td>\n",
              "      <td>1</td>\n",
              "      <td>0.00</td>\n",
              "      <td>0.79</td>\n",
              "      <td>0.21</td>\n",
              "      <td>0.54</td>\n",
              "      <td>1.38e-02</td>\n",
              "    </tr>\n",
              "    <tr>\n",
              "      <th>3</th>\n",
              "      <td>After the great Companion Saad bin Muadh embra...</td>\n",
              "      <td>['RU']</td>\n",
              "      <td>[]</td>\n",
              "      <td>en</td>\n",
              "      <td>0.0</td>\n",
              "      <td>False</td>\n",
              "      <td>354</td>\n",
              "      <td>NaN</td>\n",
              "      <td>1043725274280538112</td>\n",
              "      <td>1</td>\n",
              "      <td>0.10</td>\n",
              "      <td>0.76</td>\n",
              "      <td>0.14</td>\n",
              "      <td>0.32</td>\n",
              "      <td>1.41e-03</td>\n",
              "    </tr>\n",
              "    <tr>\n",
              "      <th>4</th>\n",
              "      <td>After the great Companion Saad bin Muadh embra...</td>\n",
              "      <td>['RU']</td>\n",
              "      <td>[]</td>\n",
              "      <td>en</td>\n",
              "      <td>0.0</td>\n",
              "      <td>False</td>\n",
              "      <td>354</td>\n",
              "      <td>NaN</td>\n",
              "      <td>1043725274280538112</td>\n",
              "      <td>1</td>\n",
              "      <td>0.10</td>\n",
              "      <td>0.76</td>\n",
              "      <td>0.14</td>\n",
              "      <td>0.32</td>\n",
              "      <td>1.41e-03</td>\n",
              "    </tr>\n",
              "    <tr>\n",
              "      <th>5</th>\n",
              "      <td>Paying homage to one of the great pilots in th...</td>\n",
              "      <td>['IN']</td>\n",
              "      <td>['Abhinandan']</td>\n",
              "      <td>en</td>\n",
              "      <td>0.0</td>\n",
              "      <td>False</td>\n",
              "      <td>411</td>\n",
              "      <td>Pakistan</td>\n",
              "      <td>1182959113929740296</td>\n",
              "      <td>1</td>\n",
              "      <td>0.05</td>\n",
              "      <td>0.55</td>\n",
              "      <td>0.40</td>\n",
              "      <td>0.93</td>\n",
              "      <td>7.90e-04</td>\n",
              "    </tr>\n",
              "    <tr>\n",
              "      <th>6</th>\n",
              "      <td>Paying homage to one of the great pilots in th...</td>\n",
              "      <td>['IN']</td>\n",
              "      <td>['Abhinandan']</td>\n",
              "      <td>en</td>\n",
              "      <td>0.0</td>\n",
              "      <td>False</td>\n",
              "      <td>411</td>\n",
              "      <td>Pakistan</td>\n",
              "      <td>1182959113929740296</td>\n",
              "      <td>1</td>\n",
              "      <td>0.05</td>\n",
              "      <td>0.55</td>\n",
              "      <td>0.40</td>\n",
              "      <td>0.93</td>\n",
              "      <td>7.90e-04</td>\n",
              "    </tr>\n",
              "    <tr>\n",
              "      <th>7</th>\n",
              "      <td>STRIP CHAT STRIP CHAT</td>\n",
              "      <td>['DE']</td>\n",
              "      <td>[]</td>\n",
              "      <td>en</td>\n",
              "      <td>1.0</td>\n",
              "      <td>False</td>\n",
              "      <td>195344</td>\n",
              "      <td>NaN</td>\n",
              "      <td>148782077</td>\n",
              "      <td>1</td>\n",
              "      <td>0.00</td>\n",
              "      <td>1.00</td>\n",
              "      <td>0.00</td>\n",
              "      <td>0.00</td>\n",
              "      <td>2.29e-02</td>\n",
              "    </tr>\n",
              "    <tr>\n",
              "      <th>8</th>\n",
              "      <td>Champions of Democracy are in fact champions o...</td>\n",
              "      <td>['IN']</td>\n",
              "      <td>[]</td>\n",
              "      <td>en</td>\n",
              "      <td>0.0</td>\n",
              "      <td>False</td>\n",
              "      <td>1961</td>\n",
              "      <td>Pakistan</td>\n",
              "      <td>1322144832987537409</td>\n",
              "      <td>1</td>\n",
              "      <td>0.11</td>\n",
              "      <td>0.66</td>\n",
              "      <td>0.23</td>\n",
              "      <td>0.57</td>\n",
              "      <td>1.45e-03</td>\n",
              "    </tr>\n",
              "    <tr>\n",
              "      <th>9</th>\n",
              "      <td>Militant commander Nooristan known as Hasan Ba...</td>\n",
              "      <td>['IN']</td>\n",
              "      <td>['SouthWaziristan']</td>\n",
              "      <td>en</td>\n",
              "      <td>0.0</td>\n",
              "      <td>False</td>\n",
              "      <td>1036</td>\n",
              "      <td>Pakistan</td>\n",
              "      <td>1270480467310055426</td>\n",
              "      <td>1</td>\n",
              "      <td>0.00</td>\n",
              "      <td>0.88</td>\n",
              "      <td>0.12</td>\n",
              "      <td>0.32</td>\n",
              "      <td>3.92e-03</td>\n",
              "    </tr>\n",
              "  </tbody>\n",
              "</table>\n",
              "</div>\n",
              "      <button class=\"colab-df-convert\" onclick=\"convertToInteractive('df-8df3a770-b8d1-4f6c-8fb4-a45d1793cf9c')\"\n",
              "              title=\"Convert this dataframe to an interactive table.\"\n",
              "              style=\"display:none;\">\n",
              "        \n",
              "  <svg xmlns=\"http://www.w3.org/2000/svg\" height=\"24px\"viewBox=\"0 0 24 24\"\n",
              "       width=\"24px\">\n",
              "    <path d=\"M0 0h24v24H0V0z\" fill=\"none\"/>\n",
              "    <path d=\"M18.56 5.44l.94 2.06.94-2.06 2.06-.94-2.06-.94-.94-2.06-.94 2.06-2.06.94zm-11 1L8.5 8.5l.94-2.06 2.06-.94-2.06-.94L8.5 2.5l-.94 2.06-2.06.94zm10 10l.94 2.06.94-2.06 2.06-.94-2.06-.94-.94-2.06-.94 2.06-2.06.94z\"/><path d=\"M17.41 7.96l-1.37-1.37c-.4-.4-.92-.59-1.43-.59-.52 0-1.04.2-1.43.59L10.3 9.45l-7.72 7.72c-.78.78-.78 2.05 0 2.83L4 21.41c.39.39.9.59 1.41.59.51 0 1.02-.2 1.41-.59l7.78-7.78 2.81-2.81c.8-.78.8-2.07 0-2.86zM5.41 20L4 18.59l7.72-7.72 1.47 1.35L5.41 20z\"/>\n",
              "  </svg>\n",
              "      </button>\n",
              "      \n",
              "  <style>\n",
              "    .colab-df-container {\n",
              "      display:flex;\n",
              "      flex-wrap:wrap;\n",
              "      gap: 12px;\n",
              "    }\n",
              "\n",
              "    .colab-df-convert {\n",
              "      background-color: #E8F0FE;\n",
              "      border: none;\n",
              "      border-radius: 50%;\n",
              "      cursor: pointer;\n",
              "      display: none;\n",
              "      fill: #1967D2;\n",
              "      height: 32px;\n",
              "      padding: 0 0 0 0;\n",
              "      width: 32px;\n",
              "    }\n",
              "\n",
              "    .colab-df-convert:hover {\n",
              "      background-color: #E2EBFA;\n",
              "      box-shadow: 0px 1px 2px rgba(60, 64, 67, 0.3), 0px 1px 3px 1px rgba(60, 64, 67, 0.15);\n",
              "      fill: #174EA6;\n",
              "    }\n",
              "\n",
              "    [theme=dark] .colab-df-convert {\n",
              "      background-color: #3B4455;\n",
              "      fill: #D2E3FC;\n",
              "    }\n",
              "\n",
              "    [theme=dark] .colab-df-convert:hover {\n",
              "      background-color: #434B5C;\n",
              "      box-shadow: 0px 1px 3px 1px rgba(0, 0, 0, 0.15);\n",
              "      filter: drop-shadow(0px 1px 2px rgba(0, 0, 0, 0.3));\n",
              "      fill: #FFFFFF;\n",
              "    }\n",
              "  </style>\n",
              "\n",
              "      <script>\n",
              "        const buttonEl =\n",
              "          document.querySelector('#df-8df3a770-b8d1-4f6c-8fb4-a45d1793cf9c button.colab-df-convert');\n",
              "        buttonEl.style.display =\n",
              "          google.colab.kernel.accessAllowed ? 'block' : 'none';\n",
              "\n",
              "        async function convertToInteractive(key) {\n",
              "          const element = document.querySelector('#df-8df3a770-b8d1-4f6c-8fb4-a45d1793cf9c');\n",
              "          const dataTable =\n",
              "            await google.colab.kernel.invokeFunction('convertToInteractive',\n",
              "                                                     [key], {});\n",
              "          if (!dataTable) return;\n",
              "\n",
              "          const docLinkHtml = 'Like what you see? Visit the ' +\n",
              "            '<a target=\"_blank\" href=https://colab.research.google.com/notebooks/data_table.ipynb>data table notebook</a>'\n",
              "            + ' to learn more about interactive tables.';\n",
              "          element.innerHTML = '';\n",
              "          dataTable['output_type'] = 'display_data';\n",
              "          await google.colab.output.renderOutput(dataTable, element);\n",
              "          const docLink = document.createElement('div');\n",
              "          docLink.innerHTML = docLinkHtml;\n",
              "          element.appendChild(docLink);\n",
              "        }\n",
              "      </script>\n",
              "    </div>\n",
              "  </div>\n",
              "  "
            ]
          },
          "metadata": {},
          "execution_count": 25
        }
      ]
    },
    {
      "cell_type": "markdown",
      "source": [
        "## Data Processing and Feature Encoding"
      ],
      "metadata": {
        "id": "aE8Lri5StfgI"
      }
    },
    {
      "cell_type": "code",
      "source": [
        "df[\"withheld_anywhere\"] = df[\"withheld_anywhere\"].astype(int)\n",
        "labels = np.array(df[\"withheld_anywhere\"])"
      ],
      "metadata": {
        "id": "uzeY9_WRtdi8"
      },
      "execution_count": 26,
      "outputs": []
    },
    {
      "cell_type": "code",
      "source": [
        "lemmatizer = WordNetLemmatizer()\n",
        "def word_tokenize_wrapper(sentence): \n",
        "    if isinstance(sentence, str): \n",
        "        words = nltk.word_tokenize(sentence)\n",
        "        tokens_without_sw = [word for word in words if not word in stopwords.words('english')]\n",
        "        limitized_words = [lemmatizer.lemmatize(word) for word in tokens_without_sw]\n",
        "        return tokens_without_sw\n",
        "    else:\n",
        "        return ''\n",
        "\n",
        "text_tokenized_list = list(df.apply(lambda x: word_tokenize_wrapper(x['text']), axis=1))\n",
        "cleaned_sentences = []\n",
        "for sentences in text_tokenized_list:\n",
        "    sentence = \" \".join(sentences)\n",
        "    cleaned_sentences.append(sentence)"
      ],
      "metadata": {
        "id": "fr0W6mQ1thel"
      },
      "execution_count": 27,
      "outputs": []
    },
    {
      "cell_type": "markdown",
      "source": [
        "## Model"
      ],
      "metadata": {
        "id": "3ttA6VSiuLam"
      }
    },
    {
      "cell_type": "code",
      "source": [
        "%%capture\n",
        "if MODEL == 'ROBERTA':\n",
        "  tokenizer =  BertTokenizer.from_pretrained('bert-base-uncased', do_lower_case=True)\n",
        "  model = RobertaForSequenceClassification.from_pretrained(\"roberta-base\", num_labels = 2,  \n",
        "    output_attentions = False,\n",
        "    return_dict=False,\n",
        "    output_hidden_states = False)\n",
        "  \n",
        "elif MODEL == 'ELECTRA': \n",
        "  configuration = ElectraConfig()\n",
        "  model = ElectraModel(configuration)\n",
        "  configuration = model.config\n",
        "  tokenizer = ElectraTokenizer.from_pretrained(\"bhadresh-savani/electra-base-emotion\")\n",
        "  model = ElectraForSequenceClassification.from_pretrained(\"bhadresh-savani/electra-base-emotion\", \n",
        "    num_labels = 2,  \n",
        "    output_attentions = False,\n",
        "    output_hidden_states = False, \n",
        "    return_dict=False,\n",
        "    ignore_mismatched_sizes=True\n",
        ")\n",
        "\n",
        "else: \n",
        "  tokenizer =  BertTokenizer.from_pretrained('bert-base-uncased', do_lower_case=True)\n",
        "  model = BertForSequenceClassification.from_pretrained(\n",
        "    \"bert-base-uncased\", \n",
        "    num_labels = 2,  \n",
        "    output_attentions = False,\n",
        "    output_hidden_states = False, \n",
        "    return_dict=False\n",
        ")\n",
        "  \n",
        "model.cuda()"
      ],
      "metadata": {
        "id": "9qpvr-onKDI8",
        "colab": {
          "base_uri": "https://localhost:8080/",
          "height": 126
        },
        "outputId": "2f76aa21-d2ef-4f25-e887-0217a1158af8"
      },
      "execution_count": 28,
      "outputs": [
        {
          "output_type": "stream",
          "name": "stderr",
          "text": [
            "Some weights of the model checkpoint at roberta-base were not used when initializing RobertaForSequenceClassification: ['lm_head.layer_norm.weight', 'lm_head.layer_norm.bias', 'lm_head.decoder.weight', 'lm_head.bias', 'lm_head.dense.weight', 'roberta.pooler.dense.bias', 'roberta.pooler.dense.weight', 'lm_head.dense.bias']\n",
            "- This IS expected if you are initializing RobertaForSequenceClassification from the checkpoint of a model trained on another task or with another architecture (e.g. initializing a BertForSequenceClassification model from a BertForPreTraining model).\n",
            "- This IS NOT expected if you are initializing RobertaForSequenceClassification from the checkpoint of a model that you expect to be exactly identical (initializing a BertForSequenceClassification model from a BertForSequenceClassification model).\n",
            "Some weights of RobertaForSequenceClassification were not initialized from the model checkpoint at roberta-base and are newly initialized: ['classifier.out_proj.bias', 'classifier.dense.weight', 'classifier.dense.bias', 'classifier.out_proj.weight']\n",
            "You should probably TRAIN this model on a down-stream task to be able to use it for predictions and inference.\n"
          ]
        }
      ]
    },
    {
      "cell_type": "code",
      "source": [
        "input_ids = []\n",
        "attention_masks = []\n",
        "\n",
        "max_length = 0\n",
        "for tweet in cleaned_sentences:\n",
        "    max_length = max(max_length, len(tweet))\n",
        "\n",
        "for sentence in cleaned_sentences:\n",
        "    encoded_dict = tokenizer.encode_plus(\n",
        "                        sentence,                  \n",
        "                        add_special_tokens = True, \n",
        "                        max_length = max_length,       \n",
        "                        pad_to_max_length = True,\n",
        "                        truncation=True,\n",
        "                        return_attention_mask = True,  \n",
        "                        return_tensors = 'pt')\n",
        "\n",
        "    input_ids.append(encoded_dict['input_ids'])\n",
        "    attention_masks.append(encoded_dict['attention_mask'])\n",
        "\n",
        "input_ids = torch.cat(input_ids, dim=0)\n",
        "attention_masks = torch.cat(attention_masks, dim=0)\n",
        "labels = torch.tensor(labels)\n",
        "\n",
        "print(input_ids.shape)\n",
        "print(attention_masks.shape)\n",
        "print(labels.shape)"
      ],
      "metadata": {
        "id": "wTVXHOv2ukw3",
        "colab": {
          "base_uri": "https://localhost:8080/"
        },
        "outputId": "62beaa3e-9e90-4d63-b7c8-a6685b77f93e"
      },
      "execution_count": 29,
      "outputs": [
        {
          "output_type": "stream",
          "name": "stderr",
          "text": [
            "/usr/local/lib/python3.8/dist-packages/transformers/tokenization_utils_base.py:2336: FutureWarning:\n",
            "\n",
            "The `pad_to_max_length` argument is deprecated and will be removed in a future version, use `padding=True` or `padding='longest'` to pad to the longest sequence in the batch, or use `padding='max_length'` to pad to a max length. In this case, you can give a specific length with `max_length` (e.g. `max_length=45`) or leave max_length to None to pad to the maximal input size of the model (e.g. 512 for Bert).\n",
            "\n"
          ]
        },
        {
          "output_type": "stream",
          "name": "stdout",
          "text": [
            "torch.Size([25830, 156])\n",
            "torch.Size([25830, 156])\n",
            "torch.Size([25830])\n"
          ]
        }
      ]
    },
    {
      "cell_type": "code",
      "source": [
        "### Hyperparameters\n",
        "batch_size = 32\n",
        "optimizer = AdamW(model.parameters(),lr = 2e-5, eps = 1e-8)\n",
        "epochs = 6\n",
        "division = 0.8"
      ],
      "metadata": {
        "id": "sc4gpfAnJFbi",
        "colab": {
          "base_uri": "https://localhost:8080/"
        },
        "outputId": "8dec668b-eff8-4316-a77b-83edb48a09bb"
      },
      "execution_count": 30,
      "outputs": [
        {
          "output_type": "stream",
          "name": "stderr",
          "text": [
            "/usr/local/lib/python3.8/dist-packages/transformers/optimization.py:306: FutureWarning:\n",
            "\n",
            "This implementation of AdamW is deprecated and will be removed in a future version. Use the PyTorch implementation torch.optim.AdamW instead, or set `no_deprecation_warning=True` to disable this warning\n",
            "\n"
          ]
        }
      ]
    },
    {
      "cell_type": "code",
      "source": [
        "dataset = TensorDataset(input_ids, attention_masks, labels)\n",
        "dataset_length = len(dataset)\n",
        "train_size = int(division * dataset_length)\n",
        "train_dataset, val_dataset = random_split(dataset, [train_size, (dataset_length - train_size)])\n",
        "train_dataloader = DataLoader(train_dataset,  sampler = RandomSampler(train_dataset), batch_size = batch_size)\n",
        "validation_dataloader = DataLoader(val_dataset, sampler = SequentialSampler(val_dataset), batch_size = batch_size)\n",
        "total_steps = len(train_dataloader) * epochs\n",
        "scheduler = get_linear_schedule_with_warmup(optimizer, num_warmup_steps = 0, num_training_steps = total_steps)\n",
        "\n",
        "y_pred = []\n",
        "y_true = []\n",
        "def keep_flat_labels(preds, labels): \n",
        "  y_pred.extend(np.argmax(preds, axis=1).flatten())\n",
        "  y_true.extend(labels.flatten())\n",
        "\n",
        "def flat_accuracy(preds, labels):\n",
        "    pred_flat = np.argmax(preds, axis=1).flatten()\n",
        "    labels_flat = labels.flatten()\n",
        "    return np.sum(pred_flat == labels_flat) / len(labels_flat)"
      ],
      "metadata": {
        "id": "VoWICbXmz4Lb"
      },
      "execution_count": 32,
      "outputs": []
    },
    {
      "cell_type": "code",
      "source": [
        "random.seed(seed_val)\n",
        "np.random.seed(seed_val)\n",
        "torch.manual_seed(seed_val)\n",
        "torch.cuda.manual_seed_all(seed_val)\n",
        "training_stats = []\n",
        "start = time.time()\n",
        "\n",
        "for epoch_i in range(0, epochs):\n",
        "    print('======== Epoch {:} / {:} ========'.format(epoch_i + 1, epochs))\n",
        "    tot_train_loss = 0\n",
        "    model.train()\n",
        "    for step, batch in enumerate(train_dataloader):\n",
        "        b_input_ids = batch[0].to(device)\n",
        "        b_input_mask = batch[1].to(device)\n",
        "        b_labels = batch[2].to(device)\n",
        "        model.zero_grad()        \n",
        "        loss, logits = model(b_input_ids, \n",
        "                             token_type_ids=None, \n",
        "                             attention_mask=b_input_mask, \n",
        "                             labels=b_labels)\n",
        "        tot_train_loss += loss.item()\n",
        "        loss.backward()\n",
        "        torch.nn.utils.clip_grad_norm_(model.parameters(), 1.0)\n",
        "        optimizer.step()\n",
        "        scheduler.step()\n",
        "\n",
        "    avg_train_loss = tot_train_loss / len(train_dataloader)            \n",
        "    print(\"\\n Average training loss: {0:.2f}\".format(avg_train_loss))\n",
        "    model.eval()\n",
        "    total_eval_accuracy = 0\n",
        "    total_eval_loss = 0\n",
        "    nb_eval_steps = 0\n",
        "    for batch in validation_dataloader:\n",
        "        b_input_ids = batch[0].to(device)\n",
        "        b_input_mask = batch[1].to(device)\n",
        "        b_labels = batch[2].to(device)\n",
        "        \n",
        "        with torch.no_grad():        \n",
        "            (loss, logits) = model(b_input_ids, \n",
        "                                   token_type_ids=None, \n",
        "                                   attention_mask=b_input_mask,\n",
        "                                   labels=b_labels)\n",
        "        total_eval_loss += loss.item()\n",
        "        logits = logits.detach().cpu().numpy()\n",
        "        label_ids = b_labels.to('cpu').numpy()\n",
        "        total_eval_accuracy += flat_accuracy(logits, label_ids)\n",
        "        keep_flat_labels(logits, label_ids)\n",
        "        \n",
        "    avg_val_accuracy = total_eval_accuracy / len(validation_dataloader)\n",
        "    print(\"  Accuracy: {0:.2f}\".format(avg_val_accuracy))\n",
        "    avg_val_loss = total_eval_loss / len(validation_dataloader)\n",
        "    \n",
        "    print(\"  Validation Loss: {0:.2f}\".format(avg_val_loss))\n",
        "    training_stats.append(\n",
        "        {\n",
        "            'epoch': epoch_i + 1,\n",
        "            'Training Loss': avg_train_loss,\n",
        "            'Valid. Loss': avg_val_loss,\n",
        "            'Valid. Accur.': avg_val_accuracy\n",
        "        }\n",
        "    )\n",
        "\n",
        "print(\"Total Training and Validation Time: \" + str(round(time.time() - start, 2)))"
      ],
      "metadata": {
        "id": "oWte01IAwsDR",
        "colab": {
          "base_uri": "https://localhost:8080/"
        },
        "outputId": "fc38dd72-21bf-42e2-8686-c081f1fa6b58"
      },
      "execution_count": 33,
      "outputs": [
        {
          "output_type": "stream",
          "name": "stdout",
          "text": [
            "======== Epoch 1 / 6 ========\n",
            "\n",
            " Average training loss: 0.59\n",
            "  Accuracy: 0.75\n",
            "  Validation Loss: 0.50\n",
            "======== Epoch 2 / 6 ========\n",
            "\n",
            " Average training loss: 0.48\n",
            "  Accuracy: 0.78\n",
            "  Validation Loss: 0.45\n",
            "======== Epoch 3 / 6 ========\n",
            "\n",
            " Average training loss: 0.39\n",
            "  Accuracy: 0.80\n",
            "  Validation Loss: 0.46\n",
            "======== Epoch 4 / 6 ========\n",
            "\n",
            " Average training loss: 0.32\n",
            "  Accuracy: 0.81\n",
            "  Validation Loss: 0.51\n",
            "======== Epoch 5 / 6 ========\n",
            "\n",
            " Average training loss: 0.27\n",
            "  Accuracy: 0.82\n",
            "  Validation Loss: 0.55\n",
            "======== Epoch 6 / 6 ========\n",
            "\n",
            " Average training loss: 0.23\n",
            "  Accuracy: 0.82\n",
            "  Validation Loss: 0.54\n",
            "Total Training and Validation Time: 3096.44\n"
          ]
        }
      ]
    },
    {
      "cell_type": "markdown",
      "source": [
        "## Results Visualization"
      ],
      "metadata": {
        "id": "SBNlBLsCJhPg"
      }
    },
    {
      "cell_type": "code",
      "source": [
        "pd.set_option('precision', 2)\n",
        "df_stats = pd.DataFrame(data=training_stats).set_index('epoch')\n",
        "df_stats\n",
        "res = classification_report(y_true, y_pred, target_names=['Not Censord', 'Censord']) \n",
        "print(res)\n",
        "plt.plot(df_stats['Training Loss'], 'r-o', label=\"Training\")\n",
        "plt.plot(df_stats['Valid. Loss'], 'b-o', label=\"Validation\")\n",
        "plt.title(\"Training and Validation Loss\")\n",
        "plt.xlabel(\"Epoch Number\")\n",
        "plt.ylabel(\"Loss\")\n",
        "plt.xticks([1, 2, 3, 4, 5, 6])\n",
        "plt.legend()\n",
        "plt.show()"
      ],
      "metadata": {
        "id": "d2kOvSkM0I77",
        "colab": {
          "base_uri": "https://localhost:8080/",
          "height": 456
        },
        "outputId": "d99887b8-5e49-4bf2-9f7f-2966631e8984"
      },
      "execution_count": 38,
      "outputs": [
        {
          "output_type": "stream",
          "name": "stdout",
          "text": [
            "              precision    recall  f1-score   support\n",
            "\n",
            " Not Censord       0.75      0.71      0.73     12210\n",
            "     Censord       0.82      0.85      0.83     18786\n",
            "\n",
            "    accuracy                           0.80     30996\n",
            "   macro avg       0.79      0.78      0.78     30996\n",
            "weighted avg       0.79      0.80      0.79     30996\n",
            "\n"
          ]
        },
        {
          "output_type": "display_data",
          "data": {
            "text/plain": [
              "<Figure size 432x288 with 1 Axes>"
            ],
            "image/png": "[encoded data removed]"
          },
          "metadata": {
            "needs_background": "light"
          }
        }
      ]
    }
  ]
}