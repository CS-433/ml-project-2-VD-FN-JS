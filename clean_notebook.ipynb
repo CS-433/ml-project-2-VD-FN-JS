{
 "cells": [
  {
   "cell_type": "markdown",
   "id": "e7e3b14e",
   "metadata": {},
   "source": [
    "## Downloads"
   ]
  },
  {
   "cell_type": "code",
   "execution_count": 3,
   "id": "61e38b20",
   "metadata": {},
   "outputs": [],
   "source": [
    "%%capture\n",
    "!pip install preprocessor\n",
    "!pip install vaderSentiment\n",
    "!pip install torchmetrics\n",
    "!pip install sentence-transformers"
   ]
  },
  {
   "cell_type": "markdown",
   "id": "35721da3",
   "metadata": {},
   "source": [
    "## Imports"
   ]
  },
  {
   "cell_type": "code",
   "execution_count": 215,
   "id": "bc7a17a8",
   "metadata": {},
   "outputs": [
    {
     "name": "stderr",
     "output_type": "stream",
     "text": [
      "[nltk_data] Downloading package punkt to\n",
      "[nltk_data]     /Users/vincentdandenault/nltk_data...\n",
      "[nltk_data]   Package punkt is already up-to-date!\n",
      "[nltk_data] Downloading package stopwords to\n",
      "[nltk_data]     /Users/vincentdandenault/nltk_data...\n",
      "[nltk_data]   Package stopwords is already up-to-date!\n"
     ]
    }
   ],
   "source": [
    "import os\n",
    "import re\n",
    "import json\n",
    "import pickle\n",
    "from datetime import date\n",
    "\n",
    "import numpy as np\n",
    "import pandas as pd\n",
    "import plotly.express as px\n",
    "import plotly.graph_objects as go\n",
    "from plotly.subplots import make_subplots\n",
    "\n",
    "import preprocessor as p\n",
    "from vaderSentiment.vaderSentiment import SentimentIntensityAnalyzer\n",
    "\n",
    "import nltk\n",
    "nltk.download('punkt')\n",
    "nltk.download('stopwords')\n",
    "from nltk.corpus import stopwords\n",
    "from nltk.tokenize import word_tokenize\n",
    "\n",
    "from sklearn.svm import SVC\n",
    "from sklearn import preprocessing\n",
    "from sklearn.decomposition import PCA\n",
    "from sklearn.naive_bayes import GaussianNB\n",
    "from sklearn.metrics import classification_report\n",
    "from sklearn.linear_model import LogisticRegression\n",
    "from sklearn.ensemble import RandomForestClassifier\n",
    "from sklearn.model_selection import train_test_split\n",
    "from sklearn.feature_extraction.text import CountVectorizer\n",
    "from sklearn.feature_extraction.text import TfidfVectorizer\n",
    "\n",
    "from sentence_transformers import SentenceTransformer"
   ]
  },
  {
   "cell_type": "markdown",
   "id": "64079a26",
   "metadata": {},
   "source": [
    "## Run Flags and File Paths"
   ]
  },
  {
   "cell_type": "code",
   "execution_count": 140,
   "id": "76d1a9ac",
   "metadata": {},
   "outputs": [
    {
     "name": "stderr",
     "output_type": "stream",
     "text": [
      "/var/folders/_m/v82wb7j964v3b7b70x4rrvvr0000gn/T/ipykernel_60908/1187662931.py:19: DtypeWarning: Columns (13,14) have mixed types. Specify dtype option on import or set low_memory=False.\n",
      "  df_input = pd.read_csv(csv_path)\n"
     ]
    }
   ],
   "source": [
    "date_today = date.today()\n",
    "\n",
    "random_seed = 42\n",
    "target_names = ['Not Censord', 'Censord']\n",
    "\n",
    "RUN_PREPROCESSING = False\n",
    "FIT_CORPUS_FEATURE_SPACE = True\n",
    "\n",
    "FEATURE_SPACE = 'SentenceEmbeddings'\n",
    "\n",
    "LANGUAGE_RUN = 'English'\n",
    "\n",
    "csv_path = 'Output/df_cen.csv'\n",
    "data_path = 'Data'\n",
    "results_path = 'Results'\n",
    "vector_path = 'vectors'\n",
    "clean_dataframe_path = 'Output/df_clean.csv'\n",
    "\n",
    "df_input = pd.read_csv(csv_path)"
   ]
  },
  {
   "cell_type": "code",
   "execution_count": 141,
   "id": "6d962d8b",
   "metadata": {},
   "outputs": [
    {
     "data": {
      "text/html": [
       "<div>\n",
       "<style scoped>\n",
       "    .dataframe tbody tr th:only-of-type {\n",
       "        vertical-align: middle;\n",
       "    }\n",
       "\n",
       "    .dataframe tbody tr th {\n",
       "        vertical-align: top;\n",
       "    }\n",
       "\n",
       "    .dataframe thead th {\n",
       "        text-align: right;\n",
       "    }\n",
       "</style>\n",
       "<table border=\"1\" class=\"dataframe\">\n",
       "  <thead>\n",
       "    <tr style=\"text-align: right;\">\n",
       "      <th></th>\n",
       "      <th>Unnamed: 0</th>\n",
       "      <th>created_at</th>\n",
       "      <th>id</th>\n",
       "      <th>id_str</th>\n",
       "      <th>text</th>\n",
       "      <th>source</th>\n",
       "      <th>truncated</th>\n",
       "      <th>in_reply_to_status_id</th>\n",
       "      <th>in_reply_to_status_id_str</th>\n",
       "      <th>in_reply_to_user_id</th>\n",
       "      <th>...</th>\n",
       "      <th>filter_level</th>\n",
       "      <th>lang</th>\n",
       "      <th>timestamp_ms</th>\n",
       "      <th>linked</th>\n",
       "      <th>display_text_range</th>\n",
       "      <th>withheld_in_countries</th>\n",
       "      <th>extended_entities</th>\n",
       "      <th>possibly_sensitive</th>\n",
       "      <th>retweeted_status</th>\n",
       "      <th>withheld_copyright</th>\n",
       "    </tr>\n",
       "  </thead>\n",
       "  <tbody>\n",
       "    <tr>\n",
       "      <th>0</th>\n",
       "      <td>1</td>\n",
       "      <td>2021-02-26 10:48:35+00:00</td>\n",
       "      <td>1365252415444946945</td>\n",
       "      <td>1365252415444946944</td>\n",
       "      <td>#Balakot \\nPak Army is our pride ❤️👍 https://t...</td>\n",
       "      <td>&lt;a href=\"http://twitter.com/download/android\" ...</td>\n",
       "      <td>False</td>\n",
       "      <td>NaN</td>\n",
       "      <td>NaN</td>\n",
       "      <td>NaN</td>\n",
       "      <td>...</td>\n",
       "      <td>low</td>\n",
       "      <td>en</td>\n",
       "      <td>2021-02-26 10:48:35.662</td>\n",
       "      <td>no</td>\n",
       "      <td>[0, 35]</td>\n",
       "      <td>['IN']</td>\n",
       "      <td>{'media': [{'id': 1365252409015033857, 'id_str...</td>\n",
       "      <td>0.0</td>\n",
       "      <td>NaN</td>\n",
       "      <td>NaN</td>\n",
       "    </tr>\n",
       "    <tr>\n",
       "      <th>1</th>\n",
       "      <td>2</td>\n",
       "      <td>2021-02-26 10:45:51+00:00</td>\n",
       "      <td>1365251727574900738</td>\n",
       "      <td>1365251727574900736</td>\n",
       "      <td>RT @ZaidZamanHamid: لوگوں کی اکثریت ہدایت نہیں...</td>\n",
       "      <td>&lt;a href=\"http://twitter.com/download/android\" ...</td>\n",
       "      <td>False</td>\n",
       "      <td>NaN</td>\n",
       "      <td>NaN</td>\n",
       "      <td>NaN</td>\n",
       "      <td>...</td>\n",
       "      <td>low</td>\n",
       "      <td>ur</td>\n",
       "      <td>2021-02-26 10:45:51.661</td>\n",
       "      <td>no</td>\n",
       "      <td>NaN</td>\n",
       "      <td>['IN']</td>\n",
       "      <td>NaN</td>\n",
       "      <td>NaN</td>\n",
       "      <td>{'created_at': 'Thu Feb 25 18:59:12 +0000 2021...</td>\n",
       "      <td>NaN</td>\n",
       "    </tr>\n",
       "    <tr>\n",
       "      <th>2</th>\n",
       "      <td>3</td>\n",
       "      <td>2021-02-26 10:45:51+00:00</td>\n",
       "      <td>1365251727574900738</td>\n",
       "      <td>1365251727574900736</td>\n",
       "      <td>RT @ZaidZamanHamid: لوگوں کی اکثریت ہدایت نہیں...</td>\n",
       "      <td>&lt;a href=\"http://twitter.com/download/android\" ...</td>\n",
       "      <td>False</td>\n",
       "      <td>NaN</td>\n",
       "      <td>NaN</td>\n",
       "      <td>NaN</td>\n",
       "      <td>...</td>\n",
       "      <td>low</td>\n",
       "      <td>ur</td>\n",
       "      <td>2021-02-26 10:45:51.661</td>\n",
       "      <td>retweeted</td>\n",
       "      <td>NaN</td>\n",
       "      <td>['IN']</td>\n",
       "      <td>NaN</td>\n",
       "      <td>NaN</td>\n",
       "      <td>{'created_at': 'Thu Feb 25 18:59:12 +0000 2021...</td>\n",
       "      <td>NaN</td>\n",
       "    </tr>\n",
       "    <tr>\n",
       "      <th>3</th>\n",
       "      <td>4</td>\n",
       "      <td>2021-02-26 10:38:57+00:00</td>\n",
       "      <td>1365249991137251328</td>\n",
       "      <td>1365249991137251328</td>\n",
       "      <td>RT @SaniaNishtar: سید ابراہیم کا تعلق قبائلی ض...</td>\n",
       "      <td>&lt;a href=\"http://twitter.com/download/android\" ...</td>\n",
       "      <td>False</td>\n",
       "      <td>NaN</td>\n",
       "      <td>NaN</td>\n",
       "      <td>NaN</td>\n",
       "      <td>...</td>\n",
       "      <td>low</td>\n",
       "      <td>ur</td>\n",
       "      <td>2021-02-26 10:38:57.662</td>\n",
       "      <td>no</td>\n",
       "      <td>NaN</td>\n",
       "      <td>['IN']</td>\n",
       "      <td>NaN</td>\n",
       "      <td>NaN</td>\n",
       "      <td>{'created_at': 'Fri Feb 26 05:23:00 +0000 2021...</td>\n",
       "      <td>NaN</td>\n",
       "    </tr>\n",
       "    <tr>\n",
       "      <th>4</th>\n",
       "      <td>5</td>\n",
       "      <td>2021-02-26 10:10:45+00:00</td>\n",
       "      <td>1365242894362279938</td>\n",
       "      <td>1365242894362279936</td>\n",
       "      <td>RT @mosa_abumarzook: في مثل فجر هذا اليوم قبل ...</td>\n",
       "      <td>&lt;a href=\"https://mobile.twitter.com\" rel=\"nofo...</td>\n",
       "      <td>False</td>\n",
       "      <td>NaN</td>\n",
       "      <td>NaN</td>\n",
       "      <td>NaN</td>\n",
       "      <td>...</td>\n",
       "      <td>low</td>\n",
       "      <td>ar</td>\n",
       "      <td>2021-02-26 10:10:45.659</td>\n",
       "      <td>no</td>\n",
       "      <td>NaN</td>\n",
       "      <td>['IL']</td>\n",
       "      <td>NaN</td>\n",
       "      <td>NaN</td>\n",
       "      <td>{'created_at': 'Thu Feb 25 19:04:40 +0000 2021...</td>\n",
       "      <td>NaN</td>\n",
       "    </tr>\n",
       "    <tr>\n",
       "      <th>5</th>\n",
       "      <td>6</td>\n",
       "      <td>2021-02-26 10:10:45+00:00</td>\n",
       "      <td>1365242894362279938</td>\n",
       "      <td>1365242894362279936</td>\n",
       "      <td>RT @mosa_abumarzook: في مثل فجر هذا اليوم قبل ...</td>\n",
       "      <td>&lt;a href=\"https://mobile.twitter.com\" rel=\"nofo...</td>\n",
       "      <td>False</td>\n",
       "      <td>NaN</td>\n",
       "      <td>NaN</td>\n",
       "      <td>NaN</td>\n",
       "      <td>...</td>\n",
       "      <td>low</td>\n",
       "      <td>ar</td>\n",
       "      <td>2021-02-26 10:10:45.659</td>\n",
       "      <td>retweeted</td>\n",
       "      <td>NaN</td>\n",
       "      <td>['IL']</td>\n",
       "      <td>NaN</td>\n",
       "      <td>NaN</td>\n",
       "      <td>{'created_at': 'Thu Feb 25 19:04:40 +0000 2021...</td>\n",
       "      <td>NaN</td>\n",
       "    </tr>\n",
       "    <tr>\n",
       "      <th>6</th>\n",
       "      <td>7</td>\n",
       "      <td>2021-02-26 10:10:46+00:00</td>\n",
       "      <td>1365242898569134080</td>\n",
       "      <td>1365242898569134080</td>\n",
       "      <td>RT @Saimhun: Mujhe aj bhi batting ki bari ni d...</td>\n",
       "      <td>&lt;a href=\"http://twitter.com/download/android\" ...</td>\n",
       "      <td>False</td>\n",
       "      <td>NaN</td>\n",
       "      <td>NaN</td>\n",
       "      <td>NaN</td>\n",
       "      <td>...</td>\n",
       "      <td>low</td>\n",
       "      <td>hi</td>\n",
       "      <td>2021-02-26 10:10:46.662</td>\n",
       "      <td>no</td>\n",
       "      <td>NaN</td>\n",
       "      <td>['IN']</td>\n",
       "      <td>{'media': [{'id': 1365238103892516864, 'id_str...</td>\n",
       "      <td>0.0</td>\n",
       "      <td>{'created_at': 'Fri Feb 26 09:51:44 +0000 2021...</td>\n",
       "      <td>NaN</td>\n",
       "    </tr>\n",
       "    <tr>\n",
       "      <th>7</th>\n",
       "      <td>8</td>\n",
       "      <td>2021-02-26 10:10:46+00:00</td>\n",
       "      <td>1365242898569134080</td>\n",
       "      <td>1365242898569134080</td>\n",
       "      <td>RT @Saimhun: Mujhe aj bhi batting ki bari ni d...</td>\n",
       "      <td>&lt;a href=\"http://twitter.com/download/android\" ...</td>\n",
       "      <td>False</td>\n",
       "      <td>NaN</td>\n",
       "      <td>NaN</td>\n",
       "      <td>NaN</td>\n",
       "      <td>...</td>\n",
       "      <td>low</td>\n",
       "      <td>hi</td>\n",
       "      <td>2021-02-26 10:10:46.662</td>\n",
       "      <td>retweeted</td>\n",
       "      <td>NaN</td>\n",
       "      <td>['IN']</td>\n",
       "      <td>{'media': [{'id': 1365238103892516864, 'id_str...</td>\n",
       "      <td>0.0</td>\n",
       "      <td>{'created_at': 'Fri Feb 26 09:51:44 +0000 2021...</td>\n",
       "      <td>NaN</td>\n",
       "    </tr>\n",
       "    <tr>\n",
       "      <th>8</th>\n",
       "      <td>9</td>\n",
       "      <td>2021-02-26 10:59:24+00:00</td>\n",
       "      <td>1365255137552457730</td>\n",
       "      <td>1365255137552457728</td>\n",
       "      <td>RT @iVeenaKhan: (اے پیغمبرﷺ! لوگوں سے) کہہ دو ...</td>\n",
       "      <td>&lt;a href=\"http://twitter.com/download/android\" ...</td>\n",
       "      <td>False</td>\n",
       "      <td>NaN</td>\n",
       "      <td>NaN</td>\n",
       "      <td>NaN</td>\n",
       "      <td>...</td>\n",
       "      <td>low</td>\n",
       "      <td>ur</td>\n",
       "      <td>2021-02-26 10:59:24.663</td>\n",
       "      <td>no</td>\n",
       "      <td>NaN</td>\n",
       "      <td>['IN']</td>\n",
       "      <td>NaN</td>\n",
       "      <td>NaN</td>\n",
       "      <td>{'created_at': 'Fri Feb 26 05:42:25 +0000 2021...</td>\n",
       "      <td>NaN</td>\n",
       "    </tr>\n",
       "    <tr>\n",
       "      <th>9</th>\n",
       "      <td>10</td>\n",
       "      <td>2021-02-26 10:59:24+00:00</td>\n",
       "      <td>1365255137552457730</td>\n",
       "      <td>1365255137552457728</td>\n",
       "      <td>RT @iVeenaKhan: (اے پیغمبرﷺ! لوگوں سے) کہہ دو ...</td>\n",
       "      <td>&lt;a href=\"http://twitter.com/download/android\" ...</td>\n",
       "      <td>False</td>\n",
       "      <td>NaN</td>\n",
       "      <td>NaN</td>\n",
       "      <td>NaN</td>\n",
       "      <td>...</td>\n",
       "      <td>low</td>\n",
       "      <td>ur</td>\n",
       "      <td>2021-02-26 10:59:24.663</td>\n",
       "      <td>retweeted</td>\n",
       "      <td>NaN</td>\n",
       "      <td>['IN']</td>\n",
       "      <td>NaN</td>\n",
       "      <td>NaN</td>\n",
       "      <td>{'created_at': 'Fri Feb 26 05:42:25 +0000 2021...</td>\n",
       "      <td>NaN</td>\n",
       "    </tr>\n",
       "  </tbody>\n",
       "</table>\n",
       "<p>10 rows × 40 columns</p>\n",
       "</div>"
      ],
      "text/plain": [
       "   Unnamed: 0                 created_at                   id  \\\n",
       "0           1  2021-02-26 10:48:35+00:00  1365252415444946945   \n",
       "1           2  2021-02-26 10:45:51+00:00  1365251727574900738   \n",
       "2           3  2021-02-26 10:45:51+00:00  1365251727574900738   \n",
       "3           4  2021-02-26 10:38:57+00:00  1365249991137251328   \n",
       "4           5  2021-02-26 10:10:45+00:00  1365242894362279938   \n",
       "5           6  2021-02-26 10:10:45+00:00  1365242894362279938   \n",
       "6           7  2021-02-26 10:10:46+00:00  1365242898569134080   \n",
       "7           8  2021-02-26 10:10:46+00:00  1365242898569134080   \n",
       "8           9  2021-02-26 10:59:24+00:00  1365255137552457730   \n",
       "9          10  2021-02-26 10:59:24+00:00  1365255137552457730   \n",
       "\n",
       "                id_str                                               text  \\\n",
       "0  1365252415444946944  #Balakot \\nPak Army is our pride ❤️👍 https://t...   \n",
       "1  1365251727574900736  RT @ZaidZamanHamid: لوگوں کی اکثریت ہدایت نہیں...   \n",
       "2  1365251727574900736  RT @ZaidZamanHamid: لوگوں کی اکثریت ہدایت نہیں...   \n",
       "3  1365249991137251328  RT @SaniaNishtar: سید ابراہیم کا تعلق قبائلی ض...   \n",
       "4  1365242894362279936  RT @mosa_abumarzook: في مثل فجر هذا اليوم قبل ...   \n",
       "5  1365242894362279936  RT @mosa_abumarzook: في مثل فجر هذا اليوم قبل ...   \n",
       "6  1365242898569134080  RT @Saimhun: Mujhe aj bhi batting ki bari ni d...   \n",
       "7  1365242898569134080  RT @Saimhun: Mujhe aj bhi batting ki bari ni d...   \n",
       "8  1365255137552457728  RT @iVeenaKhan: (اے پیغمبرﷺ! لوگوں سے) کہہ دو ...   \n",
       "9  1365255137552457728  RT @iVeenaKhan: (اے پیغمبرﷺ! لوگوں سے) کہہ دو ...   \n",
       "\n",
       "                                              source  truncated  \\\n",
       "0  <a href=\"http://twitter.com/download/android\" ...      False   \n",
       "1  <a href=\"http://twitter.com/download/android\" ...      False   \n",
       "2  <a href=\"http://twitter.com/download/android\" ...      False   \n",
       "3  <a href=\"http://twitter.com/download/android\" ...      False   \n",
       "4  <a href=\"https://mobile.twitter.com\" rel=\"nofo...      False   \n",
       "5  <a href=\"https://mobile.twitter.com\" rel=\"nofo...      False   \n",
       "6  <a href=\"http://twitter.com/download/android\" ...      False   \n",
       "7  <a href=\"http://twitter.com/download/android\" ...      False   \n",
       "8  <a href=\"http://twitter.com/download/android\" ...      False   \n",
       "9  <a href=\"http://twitter.com/download/android\" ...      False   \n",
       "\n",
       "   in_reply_to_status_id  in_reply_to_status_id_str  in_reply_to_user_id  ...  \\\n",
       "0                    NaN                        NaN                  NaN  ...   \n",
       "1                    NaN                        NaN                  NaN  ...   \n",
       "2                    NaN                        NaN                  NaN  ...   \n",
       "3                    NaN                        NaN                  NaN  ...   \n",
       "4                    NaN                        NaN                  NaN  ...   \n",
       "5                    NaN                        NaN                  NaN  ...   \n",
       "6                    NaN                        NaN                  NaN  ...   \n",
       "7                    NaN                        NaN                  NaN  ...   \n",
       "8                    NaN                        NaN                  NaN  ...   \n",
       "9                    NaN                        NaN                  NaN  ...   \n",
       "\n",
       "   filter_level lang             timestamp_ms     linked display_text_range  \\\n",
       "0           low   en  2021-02-26 10:48:35.662         no            [0, 35]   \n",
       "1           low   ur  2021-02-26 10:45:51.661         no                NaN   \n",
       "2           low   ur  2021-02-26 10:45:51.661  retweeted                NaN   \n",
       "3           low   ur  2021-02-26 10:38:57.662         no                NaN   \n",
       "4           low   ar  2021-02-26 10:10:45.659         no                NaN   \n",
       "5           low   ar  2021-02-26 10:10:45.659  retweeted                NaN   \n",
       "6           low   hi  2021-02-26 10:10:46.662         no                NaN   \n",
       "7           low   hi  2021-02-26 10:10:46.662  retweeted                NaN   \n",
       "8           low   ur  2021-02-26 10:59:24.663         no                NaN   \n",
       "9           low   ur  2021-02-26 10:59:24.663  retweeted                NaN   \n",
       "\n",
       "  withheld_in_countries                                  extended_entities  \\\n",
       "0                ['IN']  {'media': [{'id': 1365252409015033857, 'id_str...   \n",
       "1                ['IN']                                                NaN   \n",
       "2                ['IN']                                                NaN   \n",
       "3                ['IN']                                                NaN   \n",
       "4                ['IL']                                                NaN   \n",
       "5                ['IL']                                                NaN   \n",
       "6                ['IN']  {'media': [{'id': 1365238103892516864, 'id_str...   \n",
       "7                ['IN']  {'media': [{'id': 1365238103892516864, 'id_str...   \n",
       "8                ['IN']                                                NaN   \n",
       "9                ['IN']                                                NaN   \n",
       "\n",
       "   possibly_sensitive                                   retweeted_status  \\\n",
       "0                 0.0                                                NaN   \n",
       "1                 NaN  {'created_at': 'Thu Feb 25 18:59:12 +0000 2021...   \n",
       "2                 NaN  {'created_at': 'Thu Feb 25 18:59:12 +0000 2021...   \n",
       "3                 NaN  {'created_at': 'Fri Feb 26 05:23:00 +0000 2021...   \n",
       "4                 NaN  {'created_at': 'Thu Feb 25 19:04:40 +0000 2021...   \n",
       "5                 NaN  {'created_at': 'Thu Feb 25 19:04:40 +0000 2021...   \n",
       "6                 0.0  {'created_at': 'Fri Feb 26 09:51:44 +0000 2021...   \n",
       "7                 0.0  {'created_at': 'Fri Feb 26 09:51:44 +0000 2021...   \n",
       "8                 NaN  {'created_at': 'Fri Feb 26 05:42:25 +0000 2021...   \n",
       "9                 NaN  {'created_at': 'Fri Feb 26 05:42:25 +0000 2021...   \n",
       "\n",
       "  withheld_copyright  \n",
       "0                NaN  \n",
       "1                NaN  \n",
       "2                NaN  \n",
       "3                NaN  \n",
       "4                NaN  \n",
       "5                NaN  \n",
       "6                NaN  \n",
       "7                NaN  \n",
       "8                NaN  \n",
       "9                NaN  \n",
       "\n",
       "[10 rows x 40 columns]"
      ]
     },
     "execution_count": 141,
     "metadata": {},
     "output_type": "execute_result"
    }
   ],
   "source": [
    "df_input.head(10)"
   ]
  },
  {
   "cell_type": "markdown",
   "id": "e8f9572a",
   "metadata": {},
   "source": [
    " ## Preprocessing"
   ]
  },
  {
   "cell_type": "code",
   "execution_count": 142,
   "id": "3775bd3a",
   "metadata": {},
   "outputs": [],
   "source": [
    "list_of_countries = ['Afghanistan', 'Aland Islands', 'Albania', 'Algeria', 'American Samoa', \\\n",
    "                   'Andorra', 'Angola', 'Anguilla', 'Antarctica', 'Antigua and Barbuda', 'Argentina', \\\n",
    "                   'Armenia', 'Aruba', 'Australia', 'Austria', 'Azerbaijan', 'Bahamas', 'Bahrain', \\\n",
    "                   'Bangladesh', 'Barbados', 'Belarus', 'Belgium', 'Belize', 'Benin', 'Bermuda', \\\n",
    "                   'Bhutan', 'Bolivia, Plurinational State of', 'Bonaire, Sint Eustatius and Saba', \\\n",
    "                   'Bosnia and Herzegovina', 'Botswana', 'Bouvet Island', 'Brazil', \\\n",
    "                   'British Indian Ocean Territory', 'Brunei Darussalam', 'Bulgaria', 'Burkina Faso', \\\n",
    "                   'Burundi', 'Cambodia', 'Cameroon', 'Canada', 'Cape Verde', 'Cayman Islands', \\\n",
    "                   'Central African Republic', 'Chad', 'Chile', 'China', 'Christmas Island', \\\n",
    "                   'Cocos (Keeling) Islands', 'Colombia', 'Comoros', 'Congo', \\\n",
    "                   'Congo, The Democratic Republic of the', 'Cook Islands', 'Costa Rica', \"Côte d'Ivoire\", \\\n",
    "                   'Croatia', 'Cuba', 'Curaçao', 'Cyprus', 'Czech Republic', 'Denmark',\n",
    "                   'Djibouti', 'Dominica', 'Dominican Republic', 'Ecuador', 'Egypt', 'El Salvador', \\\n",
    "                   'Equatorial Guinea', 'Eritrea', 'Estonia', 'Ethiopia', 'Falkland Islands (Malvinas)', \\\n",
    "                   'Faroe Islands', 'Fiji', 'Finland', 'France', 'French Guiana', 'French Polynesia', \\\n",
    "                   'French Southern Territories', 'Gabon', 'Gambia', 'Georgia', 'Germany', 'Ghana', \\\n",
    "                   'Gibraltar', 'Greece', 'Greenland', 'Grenada', 'Guadeloupe', 'Guam', 'Guatemala', \\\n",
    "                   'Guernsey', 'Guinea', 'Guinea-Bissau', 'Guyana', 'Haiti', \\\n",
    "                   'Heard Island and McDonald Islands', 'Holy See (Vatican City State)', 'Honduras', \\\n",
    "                   'Hong Kong', 'Hungary', 'Iceland', 'India', 'Indonesia', 'Iran, Islamic Republic of', \\\n",
    "                   'Iraq', 'Ireland', 'Isle of Man', 'Israel', 'Italy', 'Jamaica', 'Japan', 'Jersey', \\\n",
    "                   'Jordan', 'Kazakhstan', 'Kenya', 'Kiribati', \"Korea, Democratic People's Republic of\", \\\n",
    "                   'Korea, Republic of', 'Kuwait', 'Kyrgyzstan', \"Lao People's Democratic Republic\", \\\n",
    "                   'Latvia', 'Lebanon', 'Lesotho', 'Liberia', 'Libya', 'Liechtenstein', 'Lithuania', \\\n",
    "                   'Luxembourg', 'Macao', 'Macedonia, Republic of', 'Madagascar', 'Malawi', 'Malaysia', \\\n",
    "                   'Maldives', 'Mali', 'Malta', 'Marshall Islands', 'Martinique', 'Mauritania', \\\n",
    "                   'Mauritius', 'Mayotte', 'Mexico', 'Micronesia, Federated States of', \\\n",
    "                   'Moldova, Republic of', 'Monaco', 'Mongolia', 'Montenegro', 'Montserrat', 'Morocco', \\\n",
    "                   'Mozambique', 'Myanmar', 'Namibia', 'Nauru', 'Nepal', 'Netherlands', 'New Caledonia', \\\n",
    "                   'New Zealand', 'Nicaragua', 'Niger', 'Nigeria', 'Niue', 'Norfolk Island', \\\n",
    "                   'Northern Mariana Islands', 'Norway', 'Oman', 'Pakistan', 'Palau', \\\n",
    "                   'Palestinian Territory, Occupied', 'Panama', 'Papua New Guinea', 'Paraguay', \\\n",
    "                   'Peru', 'Philippines', 'Pitcairn', 'Poland', 'Portugal', 'Puerto Rico', 'Qatar', \\\n",
    "                   'Réunion', 'Romania', 'Russian Federation', 'Rwanda', 'Saint Barthélemy', \\\n",
    "                   'Saint Helena, Ascension and Tristan da Cunha', 'Saint Kitts and Nevis', 'Saint Lucia',\\\n",
    "                   'Saint Martin (French part)', 'Saint Pierre and Miquelon', 'Saint Vincent and the Grenadines', \\\n",
    "                   'Samoa', 'San Marino', 'Sao Tome and Principe', 'Saudi Arabia', 'Senegal', 'Serbia', \\\n",
    "                   'Seychelles', 'Sierra Leone', 'Singapore', 'Sint Maarten (Dutch part)', 'Slovakia', \\\n",
    "                   'Slovenia', 'Solomon Islands', 'Somalia', 'South Africa', \\\n",
    "                   'South Georgia and the South Sandwich Islands', 'Spain', 'Sri Lanka', 'Sudan', 'Suriname', \\\n",
    "                   'South Sudan', 'Svalbard and Jan Mayen', 'Swaziland', 'Sweden', 'Switzerland', \\\n",
    "                   'Syrian Arab Republic', 'Taiwan, Province of China', 'Tajikistan', \\\n",
    "                   'Tanzania, United Republic of', 'Thailand', 'Timor-Leste', 'Togo', 'Tokelau', \\\n",
    "                   'Tonga', 'Trinidad and Tobago', 'Tunisia', 'Turkey', 'Turkmenistan', \\\n",
    "                   'Turks and Caicos Islands', 'Tuvalu', 'Uganda', 'Ukraine', 'United Arab Emirates', \\\n",
    "                   'United Kingdom', 'United States', 'United States Minor Outlying Islands', 'Uruguay', \\\n",
    "                   'Uzbekistan', 'Vanuatu', 'Venezuela, Bolivarian Republic of', 'Viet Nam', \\\n",
    "                   'Virgin Islands, British', 'Virgin Islands, U.S.', 'Wallis and Futuna', 'Yemen', \\\n",
    "                   'Zambia', 'Zimbabwe']\n",
    "\n",
    "def find_country(x):\n",
    "        for country in list_of_countries:\n",
    "            if x and country in x:\n",
    "                return country\n",
    "        return None\n",
    "    \n",
    "def normalize(array):\n",
    "        return (array - np.min(array)) / (np.max(array) - np.min(array))\n",
    "    \n",
    "def preprocess_df(df_input):\n",
    "    features_worth_keeping = [\"text\", \"truncated\", \"user\",\n",
    "                    \"withheld_in_countries\", \"entities\", \"lang\",\n",
    "                    \"possibly_sensitive\", \"extended_tweet\"]\n",
    "    \n",
    "    df_cen = df_input[features_worth_keeping]\n",
    "    df_cen['possibly_sensitive'] = df_cen['possibly_sensitive'].fillna(0.0)\n",
    "    dfRaw = df_cen.values\n",
    "    for line in dfRaw:\n",
    "        #if not pd.isna(line[-1]):\n",
    "            #line[0] = line[-1][\"full_text\"]\n",
    "            \n",
    "        #remove urls from tweets\n",
    "        #they are shortened anyway so we can't make use of them\n",
    "        line[0] = re.sub(r'http\\S+', '', str(line[0]))\n",
    "        \n",
    "        #flatten retweets\n",
    "        line[0] = re.sub(r'RT @\\S+:', '', str(line[0]))\n",
    "    \n",
    "    dfRaw = np.delete(dfRaw, len(features_worth_keeping)-1, axis=1) #remove \"extended_tweet\"\n",
    "    features_worth_keeping.remove(\"extended_tweet\")\n",
    "    \n",
    "    dfRaw = np.delete(dfRaw, 1, axis=1) #remove \"truncated\"\n",
    "    features_worth_keeping.remove(\"truncated\")\n",
    "    \n",
    "    for line in dfRaw:\n",
    "        line[3] = [x[\"text\"] for x in line[3][\"hashtags\"]]\n",
    "    features_worth_keeping[3] = \"hashtags\"\n",
    "    \n",
    "    verified = [line[1][\"verified\"] for line in dfRaw]\n",
    "    followers = [line[1][\"followers_count\"] for line in dfRaw]\n",
    "    user_id = [line[1][\"id\"] for line in dfRaw]\n",
    "    \n",
    "    location = [find_country(line[1][\"location\"]) for line in dfRaw]\n",
    "    \n",
    "    df_raw = np.c_[df_raw, verified, followers, location, user_id]\n",
    "    features_worth_keeping += [\"verified_account\", \"followers_count\", \"location\", \"user_id\"]\n",
    "    withheld = []\n",
    "    for line in df_raw:\n",
    "        if not isinstance(line[2], list):\n",
    "            line[2] = []\n",
    "        withheld.append(len(line[2]) != 0)\n",
    "            \n",
    "    df_raw = np.c_[df_raw, withheld]\n",
    "    features_worth_keeping += [\"withheld_anywhere\"]\n",
    "    \n",
    "    sentiment = SentimentIntensityAnalyzer() #we made the assumption that sentiment analysis for this analyzer only works for english\n",
    "    res = np.array([[x for x in sentiment.polarity_scores(line[0]).values()] if line[4] == \"en\" \n",
    "                    else [0.0, 0.0, 0.0, 0.0] for line in df_raw])\n",
    "\n",
    "    df_raw = np.c_[df_raw, res]\n",
    "    features_worth_keeping += [\"neg\", \"neu\", \"pos\", \"compound\"]\n",
    "    \n",
    "    followers_count = np.array([line[1][\"followers_count\"] for line in df_raw])\n",
    "    favourites_count = np.array([line[1][\"favourites_count\"] for line in df_raw])\n",
    "    statuses_count = np.array([line[1][\"statuses_count\"] for line in df_raw])\n",
    "    \n",
    "    score = (1/3) * (normalize(followers_count) + normalize(favourites_count) + normalize(statuses_count))\n",
    "    df_raw = np.c_[df_raw, score]\n",
    "    worthKeeping += [\"popularity_score\"]\n",
    "    \n",
    "    \n",
    "    return pd.DataFrame(df_raw, columns = worthKeeping)"
   ]
  },
  {
   "cell_type": "code",
   "execution_count": 240,
   "id": "31c0bfcd",
   "metadata": {},
   "outputs": [],
   "source": [
    "if RUN_PREPROCESSING:\n",
    "    df = preprocess_df(df_input)\n",
    "else: \n",
    "    df = pd.read_csv(clean_dataframe_path)"
   ]
  },
  {
   "cell_type": "markdown",
   "id": "2252134a",
   "metadata": {},
   "source": [
    "## Splitting the Data by Language"
   ]
  },
  {
   "cell_type": "code",
   "execution_count": 144,
   "id": "cf81ac04",
   "metadata": {},
   "outputs": [],
   "source": [
    "def make_country_dataframes(df): \n",
    "    dataframes_dict = {}\n",
    "    \n",
    "    df_english = df[df['lang'] == \"en\"] \n",
    "    dataframes_dict['English'] = df_english\n",
    "    \n",
    "    df_turkish = df[df['lang'] == \"tr\"] \n",
    "    dataframes_dict['Turkish'] = df_turkish\n",
    "    \n",
    "    df_urdu = df[df['lang'] == \"ur\"]\n",
    "    dataframes_dict['Urdu'] = df_urdu\n",
    "    \n",
    "    df_japanese = df[df['lang'] == \"ja\"] \n",
    "    dataframes_dict['Japanese'] = df_japanese\n",
    "    \n",
    "    df_spanish = df[df['lang'] == \"es\"] \n",
    "    dataframes_dict['Spanish'] = df_spanish\n",
    "    \n",
    "    df_thai = df[df['lang'] == \"th\"] \n",
    "    dataframes_dict['Thai'] = df_thai\n",
    "    \n",
    "    df_portuguese = df[df['lang'] == \"pt\"] \n",
    "    dataframes_dict['Portuguese'] = df_portuguese\n",
    "    \n",
    "    df_arabic = df[df['lang'] == \"ar\"] \n",
    "    dataframes_dict['Arabic'] = df_arabic\n",
    "    \n",
    "    df_indian = df[df['lang'] == \"in\"] \n",
    "    dataframes_dict['Indian'] = df_indian\n",
    "    \n",
    "    return dataframes_dict"
   ]
  },
  {
   "cell_type": "code",
   "execution_count": 145,
   "id": "99410c91",
   "metadata": {},
   "outputs": [],
   "source": [
    "dataframes_dict = make_country_dataframes(df)"
   ]
  },
  {
   "cell_type": "markdown",
   "id": "20815ecc",
   "metadata": {},
   "source": [
    "## Feature Encoding"
   ]
  },
  {
   "cell_type": "code",
   "execution_count": 146,
   "id": "0b381a28",
   "metadata": {},
   "outputs": [],
   "source": [
    "features_encoded = ['possibly_sensitive', 'verified_account',\\\n",
    "                    'followers_count', 'user_id', 'neg', 'neu', \\\n",
    "                    'pos', 'compound', 'popularity_score']"
   ]
  },
  {
   "cell_type": "code",
   "execution_count": 213,
   "id": "0bcdbc80",
   "metadata": {},
   "outputs": [],
   "source": [
    "def encode_features(df, PCA_flag=True):\n",
    "    df_features = df.copy()\n",
    "    if FIT_CORPUS_FEATURE_SPACE:\n",
    "        corpus = [sentence if isinstance(sentence, str) else '' for sentence in list(df_features['text'].values)]\n",
    "        \n",
    "        if FEATURE_SPACE == 'BOW':\n",
    "            bow_texts = CountVectorizer().fit_transform(corpus)\n",
    "            with open(('bow_vectors_' + str(LANGUAGE_RUN) + '.pickle'), 'wb') as pkl:\n",
    "                pickle.dump(bow_texts, pkl)\n",
    "            text_vector = bow_texts\n",
    "        \n",
    "        elif FEATURE_SPACE == 'TFIDF':\n",
    "            tfidf_vectors = TfidfVectorizer().fit_transform(corpus) \n",
    "            with open(('tfidf_vectors_' + str(LANGUAGE_RUN) + '.pickle'), 'wb') as pkl:\n",
    "                pickle.dump(tfidf_vectors, pkl)\n",
    "            text_vector = tfidf_vectors\n",
    "        \n",
    "        else: \n",
    "            model = SentenceTransformer('sentence-transformers/distiluse-base-multilingual-cased-v2')\n",
    "            tweets_embeddings = model.encode(sentences=corpus, batch_size=32, \n",
    "                                             show_progress_bar=True, convert_to_numpy=True, \n",
    "                                            normalize_embeddings=True)\n",
    "            with open(('tweets_embeddings_' + str(LANGUAGE_RUN) + '.pickle'), 'wb') as pkl:\n",
    "                pickle.dump(tweets_embeddings, pkl)\n",
    "            text_vector = tweets_embeddings\n",
    "        \n",
    "    else: \n",
    "        if FEATURE_SPACE == 'BOW':\n",
    "            with open(os.path.join(vector_path,'bow_vectors.pickle'), 'rb') as pkl:\n",
    "                text_vector = pickle.load(pkl)\n",
    "        elif FEATURE_SPACE == 'TFIDF': \n",
    "            with open(os.path.join(vector_path,'tfidf_vectors.pickle'), 'rb') as pkl:\n",
    "                text_vector = pickle.load(pkl)\n",
    "        else: \n",
    "            with open(os.path.join(vector_path,'tweets_embeddings.pickle'), 'rb') as pkl:\n",
    "                text_vector = pickle.load(pkl) \n",
    "    \n",
    "    country_label = preprocessing.LabelEncoder()\n",
    "    countries_encoded = country_label.fit_transform(list(df.location.values))\n",
    "    df_features['Country_encoded'] = countries_encoded\n",
    "    \n",
    "    df_features = df_features.astype({\"possibly_sensitive\": float, \"verified_account\": float,\\\n",
    "                                'followers_count':int, 'user_id': int, 'neg': float, 'neu': float, \n",
    "                               'pos': float, 'compound': float, 'popularity_score': float})\n",
    "    \n",
    "    y = df_features[\"withheld_anywhere\"].astype(int)\n",
    "    \n",
    "    X = df_features[features_encoded].copy().to_numpy()\n",
    "    #X = np.concatenate((X, np.array(text_vector)), axis=1)\n",
    "    \n",
    "    X = text_vector\n",
    "    \n",
    "    if PCA_flag: \n",
    "         X = PCA(n_components=0.95, svd_solver='full').fit_transform(X)\n",
    "    \n",
    "    return X, y\n",
    "    \n",
    "    "
   ]
  },
  {
   "cell_type": "code",
   "execution_count": 148,
   "id": "1977c7c0",
   "metadata": {},
   "outputs": [
    {
     "data": {
      "application/vnd.jupyter.widget-view+json": {
       "model_id": "2ea03d805669436aa16592a98155a588",
       "version_major": 2,
       "version_minor": 0
      },
      "text/plain": [
       "Batches:   0%|          | 0/808 [00:00<?, ?it/s]"
      ]
     },
     "metadata": {},
     "output_type": "display_data"
    }
   ],
   "source": [
    "df = dataframes_dict[LANGUAGE_RUN]\n",
    "X, y = encode_features(df)\n",
    "X_train, X_test, y_train, y_test = train_test_split(X, y, test_size=0.2, random_state=42)"
   ]
  },
  {
   "cell_type": "code",
   "execution_count": 149,
   "id": "9961d7c2",
   "metadata": {},
   "outputs": [
    {
     "name": "stdout",
     "output_type": "stream",
     "text": [
      "(20664, 320)\n",
      "(5166, 320)\n",
      "(20664,)\n",
      "(5166,)\n"
     ]
    }
   ],
   "source": [
    "print(X_train.shape)\n",
    "print(X_test.shape)\n",
    "print(y_train.shape)\n",
    "print(y_test.shape)"
   ]
  },
  {
   "cell_type": "markdown",
   "id": "9036df41",
   "metadata": {},
   "source": [
    "## Training the Models"
   ]
  },
  {
   "cell_type": "code",
   "execution_count": 150,
   "id": "df30b452",
   "metadata": {},
   "outputs": [
    {
     "name": "stdout",
     "output_type": "stream",
     "text": [
      "Baseline model - Logisitic Regression: \n",
      "{'Not Censord': {'precision': 0.7285992217898832, 'recall': 0.7296639064783244, 'f1-score': 0.7291311754684837, 'support': 2053}, 'Censord': {'precision': 0.8215434083601286, 'recall': 0.8207516864760681, 'f1-score': 0.8211473565804275, 'support': 3113}, 'accuracy': 0.7845528455284553, 'macro avg': {'precision': 0.7750713150750059, 'recall': 0.7752077964771962, 'f1-score': 0.7751392660244556, 'support': 5166}, 'weighted avg': {'precision': 0.7846068200851162, 'recall': 0.7845528455284553, 'f1-score': 0.7845795633510778, 'support': 5166}}\n"
     ]
    }
   ],
   "source": [
    "base_model = LogisticRegression(random_state=random_seed)\n",
    "y_pred = base_model.fit(X_train, y_train).predict(X_test)\n",
    "res = classification_report(y_test, y_pred, target_names=target_names, output_dict=True) \n",
    "print(\"Baseline model - Logisitic Regression: \")\n",
    "print(res)"
   ]
  },
  {
   "cell_type": "code",
   "execution_count": 206,
   "id": "29f0419a",
   "metadata": {},
   "outputs": [],
   "source": [
    "models = {'SVM': SVC(random_state=random_seed), \n",
    "          'Random Forest': RandomForestClassifier(random_state=random_seed), \n",
    "          'Gaussian Naive Bayes': GaussianNB()}\n",
    "\n",
    "def run_models(models, X_train, X_test, y_train, y_test, save_results=True): \n",
    "    scores = {}\n",
    "    for name in models.keys(): \n",
    "        y_pred = models[name].fit(X_train, y_train).predict(X_test)\n",
    "        res = classification_report(y_test, y_pred, target_names=target_names, output_dict=True, zero_division=0) \n",
    "        scores[name] = res\n",
    "        print(name)\n",
    "        print(classification_report(y_test, y_pred, target_names=target_names, output_dict=False, zero_division=0))\n",
    "    if save_results: \n",
    "        with open(os.path.join(results_path, ('results_' + str(date_today) + '.txt')), 'w') as f:\n",
    "            for key, value in scores.items(): \n",
    "                f.write('%s:%s\\n' % (key, value))\n",
    "                f.write('\\n')"
   ]
  },
  {
   "cell_type": "markdown",
   "id": "5fbba683",
   "metadata": {},
   "source": [
    "## Multiple Country Runner"
   ]
  },
  {
   "cell_type": "code",
   "execution_count": 204,
   "id": "cb2e7df1",
   "metadata": {},
   "outputs": [],
   "source": [
    "def make_dfs_by_country(df, country_list):\n",
    "    df_list = []\n",
    "    for country in country_list: \n",
    "        df_tmp = df[df['location'] == country].copy()\n",
    "        df_list.append(df_tmp)\n",
    "    return df_list"
   ]
  },
  {
   "cell_type": "code",
   "execution_count": 214,
   "id": "33fe0617",
   "metadata": {},
   "outputs": [
    {
     "data": {
      "application/vnd.jupyter.widget-view+json": {
       "model_id": "c657777ecd904b54a1ac2651fd99f040",
       "version_major": 2,
       "version_minor": 0
      },
      "text/plain": [
       "Batches:   0%|          | 0/25 [00:00<?, ?it/s]"
      ]
     },
     "metadata": {},
     "output_type": "display_data"
    },
    {
     "name": "stdout",
     "output_type": "stream",
     "text": [
      "Country: France\n",
      "SVM\n",
      "              precision    recall  f1-score   support\n",
      "\n",
      " Not Censord       0.89      0.39      0.54        44\n",
      "     Censord       0.80      0.98      0.88       111\n",
      "\n",
      "    accuracy                           0.81       155\n",
      "   macro avg       0.85      0.68      0.71       155\n",
      "weighted avg       0.83      0.81      0.79       155\n",
      "\n"
     ]
    },
    {
     "data": {
      "application/vnd.jupyter.widget-view+json": {
       "model_id": "e4b92db92489433f9f8616b0d6f540f2",
       "version_major": 2,
       "version_minor": 0
      },
      "text/plain": [
       "Batches:   0%|          | 0/2 [00:00<?, ?it/s]"
      ]
     },
     "metadata": {},
     "output_type": "display_data"
    },
    {
     "name": "stdout",
     "output_type": "stream",
     "text": [
      "Country: Turkey\n",
      "SVM\n",
      "              precision    recall  f1-score   support\n",
      "\n",
      " Not Censord       0.00      0.00      0.00         3\n",
      "     Censord       0.77      1.00      0.87        10\n",
      "\n",
      "    accuracy                           0.77        13\n",
      "   macro avg       0.38      0.50      0.43        13\n",
      "weighted avg       0.59      0.77      0.67        13\n",
      "\n"
     ]
    },
    {
     "data": {
      "application/vnd.jupyter.widget-view+json": {
       "model_id": "82b6328ea0484b85b41618d575a48040",
       "version_major": 2,
       "version_minor": 0
      },
      "text/plain": [
       "Batches:   0%|          | 0/10 [00:00<?, ?it/s]"
      ]
     },
     "metadata": {},
     "output_type": "display_data"
    },
    {
     "name": "stdout",
     "output_type": "stream",
     "text": [
      "Country: Germany\n",
      "SVM\n",
      "              precision    recall  f1-score   support\n",
      "\n",
      " Not Censord       0.00      0.00      0.00         4\n",
      "     Censord       0.93      1.00      0.96        55\n",
      "\n",
      "    accuracy                           0.93        59\n",
      "   macro avg       0.47      0.50      0.48        59\n",
      "weighted avg       0.87      0.93      0.90        59\n",
      "\n"
     ]
    },
    {
     "data": {
      "application/vnd.jupyter.widget-view+json": {
       "model_id": "f04824e68459435d94c2b35be0716bd2",
       "version_major": 2,
       "version_minor": 0
      },
      "text/plain": [
       "Batches:   0%|          | 0/18 [00:00<?, ?it/s]"
      ]
     },
     "metadata": {},
     "output_type": "display_data"
    },
    {
     "name": "stdout",
     "output_type": "stream",
     "text": [
      "Country: India\n",
      "SVM\n",
      "              precision    recall  f1-score   support\n",
      "\n",
      " Not Censord       0.72      0.96      0.82        67\n",
      "     Censord       0.86      0.42      0.56        43\n",
      "\n",
      "    accuracy                           0.75       110\n",
      "   macro avg       0.79      0.69      0.69       110\n",
      "weighted avg       0.77      0.75      0.72       110\n",
      "\n"
     ]
    },
    {
     "data": {
      "application/vnd.jupyter.widget-view+json": {
       "model_id": "d58694aacea549b38ed61e550f0f3c60",
       "version_major": 2,
       "version_minor": 0
      },
      "text/plain": [
       "Batches:   0%|          | 0/1 [00:00<?, ?it/s]"
      ]
     },
     "metadata": {},
     "output_type": "display_data"
    },
    {
     "name": "stdout",
     "output_type": "stream",
     "text": [
      "Country: China\n",
      "SVM\n",
      "              precision    recall  f1-score   support\n",
      "\n",
      " Not Censord       0.33      1.00      0.50         1\n",
      "     Censord       1.00      0.33      0.50         3\n",
      "\n",
      "    accuracy                           0.50         4\n",
      "   macro avg       0.67      0.67      0.50         4\n",
      "weighted avg       0.83      0.50      0.50         4\n",
      "\n"
     ]
    }
   ],
   "source": [
    "model_to_run = {'SVM': SVC(random_state=random_seed)}\n",
    "df_countries = df.copy()\n",
    "countries = ['France', 'Turkey', 'Germany', 'India']\n",
    "df_list = make_dfs_by_country(df, countries)  \n",
    "for idx, df in enumerate(df_list): \n",
    "    X, y = encode_features(df)\n",
    "    X_train, X_test, y_train, y_test = train_test_split(X, y, test_size=0.2, random_state=42)\n",
    "    print('Country: ' + str(countries[idx]))\n",
    "    run_models(model_to_run, X_train, X_test, y_train, y_test)"
   ]
  },
  {
   "cell_type": "markdown",
   "id": "fd868382",
   "metadata": {},
   "source": [
    "## Vizualisation"
   ]
  },
  {
   "cell_type": "code",
   "execution_count": 239,
   "id": "54cc6144",
   "metadata": {},
   "outputs": [
    {
     "data": {
      "text/html": [
       "<div>\n",
       "<style scoped>\n",
       "    .dataframe tbody tr th:only-of-type {\n",
       "        vertical-align: middle;\n",
       "    }\n",
       "\n",
       "    .dataframe tbody tr th {\n",
       "        vertical-align: top;\n",
       "    }\n",
       "\n",
       "    .dataframe thead th {\n",
       "        text-align: right;\n",
       "    }\n",
       "</style>\n",
       "<table border=\"1\" class=\"dataframe\">\n",
       "  <thead>\n",
       "    <tr style=\"text-align: right;\">\n",
       "      <th></th>\n",
       "      <th>text</th>\n",
       "      <th>withheld_in_countries</th>\n",
       "      <th>hashtags</th>\n",
       "      <th>lang</th>\n",
       "      <th>possibly_sensitive</th>\n",
       "      <th>verified_account</th>\n",
       "      <th>followers_count</th>\n",
       "      <th>location</th>\n",
       "      <th>user_id</th>\n",
       "      <th>withheld_anywhere</th>\n",
       "      <th>neg</th>\n",
       "      <th>neu</th>\n",
       "      <th>pos</th>\n",
       "      <th>compound</th>\n",
       "      <th>popularity_score</th>\n",
       "    </tr>\n",
       "  </thead>\n",
       "  <tbody>\n",
       "    <tr>\n",
       "      <th>7326</th>\n",
       "      <td>FRANCE: Sudanese Muslim illegal alien stabs im...</td>\n",
       "      <td>['FR']</td>\n",
       "      <td>[]</td>\n",
       "      <td>en</td>\n",
       "      <td>0.0</td>\n",
       "      <td>False</td>\n",
       "      <td>2932</td>\n",
       "      <td>China</td>\n",
       "      <td>1116313997463183363</td>\n",
       "      <td>True</td>\n",
       "      <td>0.533</td>\n",
       "      <td>0.467</td>\n",
       "      <td>0.000</td>\n",
       "      <td>-0.9287</td>\n",
       "      <td>0.004599</td>\n",
       "    </tr>\n",
       "    <tr>\n",
       "      <th>7327</th>\n",
       "      <td>FRANCE: Sudanese Muslim illegal alien stabs im...</td>\n",
       "      <td>['FR']</td>\n",
       "      <td>[]</td>\n",
       "      <td>en</td>\n",
       "      <td>0.0</td>\n",
       "      <td>False</td>\n",
       "      <td>2932</td>\n",
       "      <td>China</td>\n",
       "      <td>1116313997463183363</td>\n",
       "      <td>True</td>\n",
       "      <td>0.533</td>\n",
       "      <td>0.467</td>\n",
       "      <td>0.000</td>\n",
       "      <td>-0.9287</td>\n",
       "      <td>0.004599</td>\n",
       "    </tr>\n",
       "    <tr>\n",
       "      <th>21040</th>\n",
       "      <td>I am not fabricating these news....!</td>\n",
       "      <td>['IN']</td>\n",
       "      <td>[]</td>\n",
       "      <td>en</td>\n",
       "      <td>0.0</td>\n",
       "      <td>False</td>\n",
       "      <td>5975</td>\n",
       "      <td>China</td>\n",
       "      <td>3311813269</td>\n",
       "      <td>True</td>\n",
       "      <td>0.000</td>\n",
       "      <td>1.000</td>\n",
       "      <td>0.000</td>\n",
       "      <td>0.0000</td>\n",
       "      <td>0.010005</td>\n",
       "    </tr>\n",
       "    <tr>\n",
       "      <th>21041</th>\n",
       "      <td>I am not fabricating these news....!</td>\n",
       "      <td>['IN']</td>\n",
       "      <td>[]</td>\n",
       "      <td>en</td>\n",
       "      <td>0.0</td>\n",
       "      <td>False</td>\n",
       "      <td>5975</td>\n",
       "      <td>China</td>\n",
       "      <td>3311813269</td>\n",
       "      <td>True</td>\n",
       "      <td>0.000</td>\n",
       "      <td>1.000</td>\n",
       "      <td>0.000</td>\n",
       "      <td>0.0000</td>\n",
       "      <td>0.010005</td>\n",
       "    </tr>\n",
       "    <tr>\n",
       "      <th>21048</th>\n",
       "      <td>Is he a virologist? A doctor? Specialist in pu...</td>\n",
       "      <td>['IN']</td>\n",
       "      <td>[]</td>\n",
       "      <td>en</td>\n",
       "      <td>0.0</td>\n",
       "      <td>False</td>\n",
       "      <td>411</td>\n",
       "      <td>China</td>\n",
       "      <td>41757618</td>\n",
       "      <td>True</td>\n",
       "      <td>0.000</td>\n",
       "      <td>0.923</td>\n",
       "      <td>0.077</td>\n",
       "      <td>0.2120</td>\n",
       "      <td>0.001944</td>\n",
       "    </tr>\n",
       "    <tr>\n",
       "      <th>21049</th>\n",
       "      <td>Is he a virologist? A doctor? Specialist in pu...</td>\n",
       "      <td>['IN']</td>\n",
       "      <td>[]</td>\n",
       "      <td>en</td>\n",
       "      <td>0.0</td>\n",
       "      <td>False</td>\n",
       "      <td>411</td>\n",
       "      <td>China</td>\n",
       "      <td>41757618</td>\n",
       "      <td>True</td>\n",
       "      <td>0.000</td>\n",
       "      <td>0.923</td>\n",
       "      <td>0.077</td>\n",
       "      <td>0.2120</td>\n",
       "      <td>0.001944</td>\n",
       "    </tr>\n",
       "    <tr>\n",
       "      <th>30735</th>\n",
       "      <td>NaN</td>\n",
       "      <td>[]</td>\n",
       "      <td>[]</td>\n",
       "      <td>ur</td>\n",
       "      <td>0.0</td>\n",
       "      <td>False</td>\n",
       "      <td>1219</td>\n",
       "      <td>China</td>\n",
       "      <td>146044067</td>\n",
       "      <td>False</td>\n",
       "      <td>0.000</td>\n",
       "      <td>0.000</td>\n",
       "      <td>0.000</td>\n",
       "      <td>0.0000</td>\n",
       "      <td>0.003569</td>\n",
       "    </tr>\n",
       "    <tr>\n",
       "      <th>31618</th>\n",
       "      <td>NaN</td>\n",
       "      <td>['IN']</td>\n",
       "      <td>[]</td>\n",
       "      <td>ur</td>\n",
       "      <td>0.0</td>\n",
       "      <td>False</td>\n",
       "      <td>481</td>\n",
       "      <td>China</td>\n",
       "      <td>1172595522827444226</td>\n",
       "      <td>True</td>\n",
       "      <td>0.000</td>\n",
       "      <td>0.000</td>\n",
       "      <td>0.000</td>\n",
       "      <td>0.0000</td>\n",
       "      <td>0.004586</td>\n",
       "    </tr>\n",
       "    <tr>\n",
       "      <th>31619</th>\n",
       "      <td>NaN</td>\n",
       "      <td>['IN']</td>\n",
       "      <td>[]</td>\n",
       "      <td>ur</td>\n",
       "      <td>0.0</td>\n",
       "      <td>False</td>\n",
       "      <td>481</td>\n",
       "      <td>China</td>\n",
       "      <td>1172595522827444226</td>\n",
       "      <td>True</td>\n",
       "      <td>0.000</td>\n",
       "      <td>0.000</td>\n",
       "      <td>0.000</td>\n",
       "      <td>0.0000</td>\n",
       "      <td>0.004586</td>\n",
       "    </tr>\n",
       "    <tr>\n",
       "      <th>45301</th>\n",
       "      <td>full offense jimin is prettier than you</td>\n",
       "      <td>[]</td>\n",
       "      <td>[]</td>\n",
       "      <td>en</td>\n",
       "      <td>0.0</td>\n",
       "      <td>False</td>\n",
       "      <td>67</td>\n",
       "      <td>China</td>\n",
       "      <td>1109423371433852928</td>\n",
       "      <td>False</td>\n",
       "      <td>0.198</td>\n",
       "      <td>0.495</td>\n",
       "      <td>0.307</td>\n",
       "      <td>0.2732</td>\n",
       "      <td>0.002774</td>\n",
       "    </tr>\n",
       "  </tbody>\n",
       "</table>\n",
       "</div>"
      ],
      "text/plain": [
       "                                                    text  \\\n",
       "7326   FRANCE: Sudanese Muslim illegal alien stabs im...   \n",
       "7327   FRANCE: Sudanese Muslim illegal alien stabs im...   \n",
       "21040               I am not fabricating these news....!   \n",
       "21041               I am not fabricating these news....!   \n",
       "21048  Is he a virologist? A doctor? Specialist in pu...   \n",
       "21049  Is he a virologist? A doctor? Specialist in pu...   \n",
       "30735                                                NaN   \n",
       "31618                                                NaN   \n",
       "31619                                                NaN   \n",
       "45301            full offense jimin is prettier than you   \n",
       "\n",
       "      withheld_in_countries hashtags lang  possibly_sensitive  \\\n",
       "7326                 ['FR']       []   en                 0.0   \n",
       "7327                 ['FR']       []   en                 0.0   \n",
       "21040                ['IN']       []   en                 0.0   \n",
       "21041                ['IN']       []   en                 0.0   \n",
       "21048                ['IN']       []   en                 0.0   \n",
       "21049                ['IN']       []   en                 0.0   \n",
       "30735                    []       []   ur                 0.0   \n",
       "31618                ['IN']       []   ur                 0.0   \n",
       "31619                ['IN']       []   ur                 0.0   \n",
       "45301                    []       []   en                 0.0   \n",
       "\n",
       "       verified_account  followers_count location              user_id  \\\n",
       "7326              False             2932    China  1116313997463183363   \n",
       "7327              False             2932    China  1116313997463183363   \n",
       "21040             False             5975    China           3311813269   \n",
       "21041             False             5975    China           3311813269   \n",
       "21048             False              411    China             41757618   \n",
       "21049             False              411    China             41757618   \n",
       "30735             False             1219    China            146044067   \n",
       "31618             False              481    China  1172595522827444226   \n",
       "31619             False              481    China  1172595522827444226   \n",
       "45301             False               67    China  1109423371433852928   \n",
       "\n",
       "       withheld_anywhere    neg    neu    pos  compound  popularity_score  \n",
       "7326                True  0.533  0.467  0.000   -0.9287          0.004599  \n",
       "7327                True  0.533  0.467  0.000   -0.9287          0.004599  \n",
       "21040               True  0.000  1.000  0.000    0.0000          0.010005  \n",
       "21041               True  0.000  1.000  0.000    0.0000          0.010005  \n",
       "21048               True  0.000  0.923  0.077    0.2120          0.001944  \n",
       "21049               True  0.000  0.923  0.077    0.2120          0.001944  \n",
       "30735              False  0.000  0.000  0.000    0.0000          0.003569  \n",
       "31618               True  0.000  0.000  0.000    0.0000          0.004586  \n",
       "31619               True  0.000  0.000  0.000    0.0000          0.004586  \n",
       "45301              False  0.198  0.495  0.307    0.2732          0.002774  "
      ]
     },
     "execution_count": 239,
     "metadata": {},
     "output_type": "execute_result"
    }
   ],
   "source": [
    "df.head(10)"
   ]
  },
  {
   "cell_type": "code",
   "execution_count": 243,
   "id": "61cd71ec",
   "metadata": {},
   "outputs": [],
   "source": [
    "df_France = df[df['location'] == 'France'].copy()\n",
    "France_counts = list(df_France.withheld_anywhere.value_counts().values)\n",
    "\n",
    "df_Turkey = df[df['location'] == 'India'].copy()\n",
    "Turkey_counts = list(df_Turkey.withheld_anywhere.value_counts().values)\n",
    "\n",
    "df_Germany = df[df['location'] == 'Germany'].copy()\n",
    "Germany_counts = list(df_Germany.withheld_anywhere.value_counts().values)\n",
    "\n",
    "df_India = df[df['location'] == 'India'].copy()\n",
    "India_counts = list(df_India.withheld_anywhere.value_counts().values)\n"
   ]
  },
  {
   "cell_type": "code",
   "execution_count": 246,
   "id": "f9e5b43e",
   "metadata": {},
   "outputs": [
    {
     "data": {
      "application/vnd.plotly.v1+json": {
       "config": {
        "plotlyServerURL": "https://plot.ly"
       },
       "data": [
        {
         "domain": {
          "x": [
           0,
           0.45
          ],
          "y": [
           0.625,
           1
          ]
         },
         "labels": [
          "Not Censored",
          "Censored"
         ],
         "name": "France",
         "scalegroup": "one",
         "type": "pie",
         "values": [
          575,
          198
         ]
        },
        {
         "domain": {
          "x": [
           0.55,
           1
          ],
          "y": [
           0.625,
           1
          ]
         },
         "labels": [
          "Not Censored",
          "Censored"
         ],
         "name": "Turkey",
         "scalegroup": "one",
         "type": "pie",
         "values": [
          383,
          167
         ]
        },
        {
         "domain": {
          "x": [
           0,
           0.45
          ],
          "y": [
           0,
           0.375
          ]
         },
         "labels": [
          "Not Censored",
          "Censored"
         ],
         "name": "Germany",
         "scalegroup": "one",
         "type": "pie",
         "values": [
          261,
          34
         ]
        },
        {
         "domain": {
          "x": [
           0.55,
           1
          ],
          "y": [
           0,
           0.375
          ]
         },
         "labels": [
          "Not Censored",
          "Censored"
         ],
         "name": "India",
         "scalegroup": "one",
         "type": "pie",
         "values": [
          383,
          167
         ]
        }
       ],
       "layout": {
        "annotations": [
         {
          "font": {
           "size": 16
          },
          "showarrow": false,
          "text": "France",
          "x": 0.225,
          "xanchor": "center",
          "xref": "paper",
          "y": 1,
          "yanchor": "bottom",
          "yref": "paper"
         },
         {
          "font": {
           "size": 16
          },
          "showarrow": false,
          "text": "Turkey",
          "x": 0.775,
          "xanchor": "center",
          "xref": "paper",
          "y": 1,
          "yanchor": "bottom",
          "yref": "paper"
         },
         {
          "font": {
           "size": 16
          },
          "showarrow": false,
          "text": "Germany",
          "x": 0.225,
          "xanchor": "center",
          "xref": "paper",
          "y": 0.375,
          "yanchor": "bottom",
          "yref": "paper"
         },
         {
          "font": {
           "size": 16
          },
          "showarrow": false,
          "text": "India",
          "x": 0.775,
          "xanchor": "center",
          "xref": "paper",
          "y": 0.375,
          "yanchor": "bottom",
          "yref": "paper"
         }
        ],
        "template": {
         "data": {
          "bar": [
           {
            "error_x": {
             "color": "#2a3f5f"
            },
            "error_y": {
             "color": "#2a3f5f"
            },
            "marker": {
             "line": {
              "color": "#E5ECF6",
              "width": 0.5
             },
             "pattern": {
              "fillmode": "overlay",
              "size": 10,
              "solidity": 0.2
             }
            },
            "type": "bar"
           }
          ],
          "barpolar": [
           {
            "marker": {
             "line": {
              "color": "#E5ECF6",
              "width": 0.5
             },
             "pattern": {
              "fillmode": "overlay",
              "size": 10,
              "solidity": 0.2
             }
            },
            "type": "barpolar"
           }
          ],
          "carpet": [
           {
            "aaxis": {
             "endlinecolor": "#2a3f5f",
             "gridcolor": "white",
             "linecolor": "white",
             "minorgridcolor": "white",
             "startlinecolor": "#2a3f5f"
            },
            "baxis": {
             "endlinecolor": "#2a3f5f",
             "gridcolor": "white",
             "linecolor": "white",
             "minorgridcolor": "white",
             "startlinecolor": "#2a3f5f"
            },
            "type": "carpet"
           }
          ],
          "choropleth": [
           {
            "colorbar": {
             "outlinewidth": 0,
             "ticks": ""
            },
            "type": "choropleth"
           }
          ],
          "contour": [
           {
            "colorbar": {
             "outlinewidth": 0,
             "ticks": ""
            },
            "colorscale": [
             [
              0,
              "#0d0887"
             ],
             [
              0.1111111111111111,
              "#46039f"
             ],
             [
              0.2222222222222222,
              "#7201a8"
             ],
             [
              0.3333333333333333,
              "#9c179e"
             ],
             [
              0.4444444444444444,
              "#bd3786"
             ],
             [
              0.5555555555555556,
              "#d8576b"
             ],
             [
              0.6666666666666666,
              "#ed7953"
             ],
             [
              0.7777777777777778,
              "#fb9f3a"
             ],
             [
              0.8888888888888888,
              "#fdca26"
             ],
             [
              1,
              "#f0f921"
             ]
            ],
            "type": "contour"
           }
          ],
          "contourcarpet": [
           {
            "colorbar": {
             "outlinewidth": 0,
             "ticks": ""
            },
            "type": "contourcarpet"
           }
          ],
          "heatmap": [
           {
            "colorbar": {
             "outlinewidth": 0,
             "ticks": ""
            },
            "colorscale": [
             [
              0,
              "#0d0887"
             ],
             [
              0.1111111111111111,
              "#46039f"
             ],
             [
              0.2222222222222222,
              "#7201a8"
             ],
             [
              0.3333333333333333,
              "#9c179e"
             ],
             [
              0.4444444444444444,
              "#bd3786"
             ],
             [
              0.5555555555555556,
              "#d8576b"
             ],
             [
              0.6666666666666666,
              "#ed7953"
             ],
             [
              0.7777777777777778,
              "#fb9f3a"
             ],
             [
              0.8888888888888888,
              "#fdca26"
             ],
             [
              1,
              "#f0f921"
             ]
            ],
            "type": "heatmap"
           }
          ],
          "heatmapgl": [
           {
            "colorbar": {
             "outlinewidth": 0,
             "ticks": ""
            },
            "colorscale": [
             [
              0,
              "#0d0887"
             ],
             [
              0.1111111111111111,
              "#46039f"
             ],
             [
              0.2222222222222222,
              "#7201a8"
             ],
             [
              0.3333333333333333,
              "#9c179e"
             ],
             [
              0.4444444444444444,
              "#bd3786"
             ],
             [
              0.5555555555555556,
              "#d8576b"
             ],
             [
              0.6666666666666666,
              "#ed7953"
             ],
             [
              0.7777777777777778,
              "#fb9f3a"
             ],
             [
              0.8888888888888888,
              "#fdca26"
             ],
             [
              1,
              "#f0f921"
             ]
            ],
            "type": "heatmapgl"
           }
          ],
          "histogram": [
           {
            "marker": {
             "pattern": {
              "fillmode": "overlay",
              "size": 10,
              "solidity": 0.2
             }
            },
            "type": "histogram"
           }
          ],
          "histogram2d": [
           {
            "colorbar": {
             "outlinewidth": 0,
             "ticks": ""
            },
            "colorscale": [
             [
              0,
              "#0d0887"
             ],
             [
              0.1111111111111111,
              "#46039f"
             ],
             [
              0.2222222222222222,
              "#7201a8"
             ],
             [
              0.3333333333333333,
              "#9c179e"
             ],
             [
              0.4444444444444444,
              "#bd3786"
             ],
             [
              0.5555555555555556,
              "#d8576b"
             ],
             [
              0.6666666666666666,
              "#ed7953"
             ],
             [
              0.7777777777777778,
              "#fb9f3a"
             ],
             [
              0.8888888888888888,
              "#fdca26"
             ],
             [
              1,
              "#f0f921"
             ]
            ],
            "type": "histogram2d"
           }
          ],
          "histogram2dcontour": [
           {
            "colorbar": {
             "outlinewidth": 0,
             "ticks": ""
            },
            "colorscale": [
             [
              0,
              "#0d0887"
             ],
             [
              0.1111111111111111,
              "#46039f"
             ],
             [
              0.2222222222222222,
              "#7201a8"
             ],
             [
              0.3333333333333333,
              "#9c179e"
             ],
             [
              0.4444444444444444,
              "#bd3786"
             ],
             [
              0.5555555555555556,
              "#d8576b"
             ],
             [
              0.6666666666666666,
              "#ed7953"
             ],
             [
              0.7777777777777778,
              "#fb9f3a"
             ],
             [
              0.8888888888888888,
              "#fdca26"
             ],
             [
              1,
              "#f0f921"
             ]
            ],
            "type": "histogram2dcontour"
           }
          ],
          "mesh3d": [
           {
            "colorbar": {
             "outlinewidth": 0,
             "ticks": ""
            },
            "type": "mesh3d"
           }
          ],
          "parcoords": [
           {
            "line": {
             "colorbar": {
              "outlinewidth": 0,
              "ticks": ""
             }
            },
            "type": "parcoords"
           }
          ],
          "pie": [
           {
            "automargin": true,
            "type": "pie"
           }
          ],
          "scatter": [
           {
            "marker": {
             "colorbar": {
              "outlinewidth": 0,
              "ticks": ""
             }
            },
            "type": "scatter"
           }
          ],
          "scatter3d": [
           {
            "line": {
             "colorbar": {
              "outlinewidth": 0,
              "ticks": ""
             }
            },
            "marker": {
             "colorbar": {
              "outlinewidth": 0,
              "ticks": ""
             }
            },
            "type": "scatter3d"
           }
          ],
          "scattercarpet": [
           {
            "marker": {
             "colorbar": {
              "outlinewidth": 0,
              "ticks": ""
             }
            },
            "type": "scattercarpet"
           }
          ],
          "scattergeo": [
           {
            "marker": {
             "colorbar": {
              "outlinewidth": 0,
              "ticks": ""
             }
            },
            "type": "scattergeo"
           }
          ],
          "scattergl": [
           {
            "marker": {
             "colorbar": {
              "outlinewidth": 0,
              "ticks": ""
             }
            },
            "type": "scattergl"
           }
          ],
          "scattermapbox": [
           {
            "marker": {
             "colorbar": {
              "outlinewidth": 0,
              "ticks": ""
             }
            },
            "type": "scattermapbox"
           }
          ],
          "scatterpolar": [
           {
            "marker": {
             "colorbar": {
              "outlinewidth": 0,
              "ticks": ""
             }
            },
            "type": "scatterpolar"
           }
          ],
          "scatterpolargl": [
           {
            "marker": {
             "colorbar": {
              "outlinewidth": 0,
              "ticks": ""
             }
            },
            "type": "scatterpolargl"
           }
          ],
          "scatterternary": [
           {
            "marker": {
             "colorbar": {
              "outlinewidth": 0,
              "ticks": ""
             }
            },
            "type": "scatterternary"
           }
          ],
          "surface": [
           {
            "colorbar": {
             "outlinewidth": 0,
             "ticks": ""
            },
            "colorscale": [
             [
              0,
              "#0d0887"
             ],
             [
              0.1111111111111111,
              "#46039f"
             ],
             [
              0.2222222222222222,
              "#7201a8"
             ],
             [
              0.3333333333333333,
              "#9c179e"
             ],
             [
              0.4444444444444444,
              "#bd3786"
             ],
             [
              0.5555555555555556,
              "#d8576b"
             ],
             [
              0.6666666666666666,
              "#ed7953"
             ],
             [
              0.7777777777777778,
              "#fb9f3a"
             ],
             [
              0.8888888888888888,
              "#fdca26"
             ],
             [
              1,
              "#f0f921"
             ]
            ],
            "type": "surface"
           }
          ],
          "table": [
           {
            "cells": {
             "fill": {
              "color": "#EBF0F8"
             },
             "line": {
              "color": "white"
             }
            },
            "header": {
             "fill": {
              "color": "#C8D4E3"
             },
             "line": {
              "color": "white"
             }
            },
            "type": "table"
           }
          ]
         },
         "layout": {
          "annotationdefaults": {
           "arrowcolor": "#2a3f5f",
           "arrowhead": 0,
           "arrowwidth": 1
          },
          "autotypenumbers": "strict",
          "coloraxis": {
           "colorbar": {
            "outlinewidth": 0,
            "ticks": ""
           }
          },
          "colorscale": {
           "diverging": [
            [
             0,
             "#8e0152"
            ],
            [
             0.1,
             "#c51b7d"
            ],
            [
             0.2,
             "#de77ae"
            ],
            [
             0.3,
             "#f1b6da"
            ],
            [
             0.4,
             "#fde0ef"
            ],
            [
             0.5,
             "#f7f7f7"
            ],
            [
             0.6,
             "#e6f5d0"
            ],
            [
             0.7,
             "#b8e186"
            ],
            [
             0.8,
             "#7fbc41"
            ],
            [
             0.9,
             "#4d9221"
            ],
            [
             1,
             "#276419"
            ]
           ],
           "sequential": [
            [
             0,
             "#0d0887"
            ],
            [
             0.1111111111111111,
             "#46039f"
            ],
            [
             0.2222222222222222,
             "#7201a8"
            ],
            [
             0.3333333333333333,
             "#9c179e"
            ],
            [
             0.4444444444444444,
             "#bd3786"
            ],
            [
             0.5555555555555556,
             "#d8576b"
            ],
            [
             0.6666666666666666,
             "#ed7953"
            ],
            [
             0.7777777777777778,
             "#fb9f3a"
            ],
            [
             0.8888888888888888,
             "#fdca26"
            ],
            [
             1,
             "#f0f921"
            ]
           ],
           "sequentialminus": [
            [
             0,
             "#0d0887"
            ],
            [
             0.1111111111111111,
             "#46039f"
            ],
            [
             0.2222222222222222,
             "#7201a8"
            ],
            [
             0.3333333333333333,
             "#9c179e"
            ],
            [
             0.4444444444444444,
             "#bd3786"
            ],
            [
             0.5555555555555556,
             "#d8576b"
            ],
            [
             0.6666666666666666,
             "#ed7953"
            ],
            [
             0.7777777777777778,
             "#fb9f3a"
            ],
            [
             0.8888888888888888,
             "#fdca26"
            ],
            [
             1,
             "#f0f921"
            ]
           ]
          },
          "colorway": [
           "#636efa",
           "#EF553B",
           "#00cc96",
           "#ab63fa",
           "#FFA15A",
           "#19d3f3",
           "#FF6692",
           "#B6E880",
           "#FF97FF",
           "#FECB52"
          ],
          "font": {
           "color": "#2a3f5f"
          },
          "geo": {
           "bgcolor": "white",
           "lakecolor": "white",
           "landcolor": "#E5ECF6",
           "showlakes": true,
           "showland": true,
           "subunitcolor": "white"
          },
          "hoverlabel": {
           "align": "left"
          },
          "hovermode": "closest",
          "mapbox": {
           "style": "light"
          },
          "paper_bgcolor": "white",
          "plot_bgcolor": "#E5ECF6",
          "polar": {
           "angularaxis": {
            "gridcolor": "white",
            "linecolor": "white",
            "ticks": ""
           },
           "bgcolor": "#E5ECF6",
           "radialaxis": {
            "gridcolor": "white",
            "linecolor": "white",
            "ticks": ""
           }
          },
          "scene": {
           "xaxis": {
            "backgroundcolor": "#E5ECF6",
            "gridcolor": "white",
            "gridwidth": 2,
            "linecolor": "white",
            "showbackground": true,
            "ticks": "",
            "zerolinecolor": "white"
           },
           "yaxis": {
            "backgroundcolor": "#E5ECF6",
            "gridcolor": "white",
            "gridwidth": 2,
            "linecolor": "white",
            "showbackground": true,
            "ticks": "",
            "zerolinecolor": "white"
           },
           "zaxis": {
            "backgroundcolor": "#E5ECF6",
            "gridcolor": "white",
            "gridwidth": 2,
            "linecolor": "white",
            "showbackground": true,
            "ticks": "",
            "zerolinecolor": "white"
           }
          },
          "shapedefaults": {
           "line": {
            "color": "#2a3f5f"
           }
          },
          "ternary": {
           "aaxis": {
            "gridcolor": "white",
            "linecolor": "white",
            "ticks": ""
           },
           "baxis": {
            "gridcolor": "white",
            "linecolor": "white",
            "ticks": ""
           },
           "bgcolor": "#E5ECF6",
           "caxis": {
            "gridcolor": "white",
            "linecolor": "white",
            "ticks": ""
           }
          },
          "title": {
           "x": 0.05
          },
          "xaxis": {
           "automargin": true,
           "gridcolor": "white",
           "linecolor": "white",
           "ticks": "",
           "title": {
            "standoff": 15
           },
           "zerolinecolor": "white",
           "zerolinewidth": 2
          },
          "yaxis": {
           "automargin": true,
           "gridcolor": "white",
           "linecolor": "white",
           "ticks": "",
           "title": {
            "standoff": 15
           },
           "zerolinecolor": "white",
           "zerolinewidth": 2
          }
         }
        },
        "title": {
         "text": "Percentage of Censorded Tweets by Countries"
        }
       }
      },
      "text/html": [
       "<div>                            <div id=\"b9056497-bf4d-41bd-af53-6f8c9e6cdd93\" class=\"plotly-graph-div\" style=\"height:525px; width:100%;\"></div>            <script type=\"text/javascript\">                require([\"plotly\"], function(Plotly) {                    window.PLOTLYENV=window.PLOTLYENV || {};                                    if (document.getElementById(\"b9056497-bf4d-41bd-af53-6f8c9e6cdd93\")) {                    Plotly.newPlot(                        \"b9056497-bf4d-41bd-af53-6f8c9e6cdd93\",                        [{\"labels\":[\"Not Censored\",\"Censored\"],\"name\":\"France\",\"scalegroup\":\"one\",\"values\":[575,198],\"type\":\"pie\",\"domain\":{\"x\":[0.0,0.45],\"y\":[0.625,1.0]}},{\"labels\":[\"Not Censored\",\"Censored\"],\"name\":\"Turkey\",\"scalegroup\":\"one\",\"values\":[383,167],\"type\":\"pie\",\"domain\":{\"x\":[0.55,1.0],\"y\":[0.625,1.0]}},{\"labels\":[\"Not Censored\",\"Censored\"],\"name\":\"Germany\",\"scalegroup\":\"one\",\"values\":[261,34],\"type\":\"pie\",\"domain\":{\"x\":[0.0,0.45],\"y\":[0.0,0.375]}},{\"labels\":[\"Not Censored\",\"Censored\"],\"name\":\"India\",\"scalegroup\":\"one\",\"values\":[383,167],\"type\":\"pie\",\"domain\":{\"x\":[0.55,1.0],\"y\":[0.0,0.375]}}],                        {\"template\":{\"data\":{\"bar\":[{\"error_x\":{\"color\":\"#2a3f5f\"},\"error_y\":{\"color\":\"#2a3f5f\"},\"marker\":{\"line\":{\"color\":\"#E5ECF6\",\"width\":0.5},\"pattern\":{\"fillmode\":\"overlay\",\"size\":10,\"solidity\":0.2}},\"type\":\"bar\"}],\"barpolar\":[{\"marker\":{\"line\":{\"color\":\"#E5ECF6\",\"width\":0.5},\"pattern\":{\"fillmode\":\"overlay\",\"size\":10,\"solidity\":0.2}},\"type\":\"barpolar\"}],\"carpet\":[{\"aaxis\":{\"endlinecolor\":\"#2a3f5f\",\"gridcolor\":\"white\",\"linecolor\":\"white\",\"minorgridcolor\":\"white\",\"startlinecolor\":\"#2a3f5f\"},\"baxis\":{\"endlinecolor\":\"#2a3f5f\",\"gridcolor\":\"white\",\"linecolor\":\"white\",\"minorgridcolor\":\"white\",\"startlinecolor\":\"#2a3f5f\"},\"type\":\"carpet\"}],\"choropleth\":[{\"colorbar\":{\"outlinewidth\":0,\"ticks\":\"\"},\"type\":\"choropleth\"}],\"contour\":[{\"colorbar\":{\"outlinewidth\":0,\"ticks\":\"\"},\"colorscale\":[[0.0,\"#0d0887\"],[0.1111111111111111,\"#46039f\"],[0.2222222222222222,\"#7201a8\"],[0.3333333333333333,\"#9c179e\"],[0.4444444444444444,\"#bd3786\"],[0.5555555555555556,\"#d8576b\"],[0.6666666666666666,\"#ed7953\"],[0.7777777777777778,\"#fb9f3a\"],[0.8888888888888888,\"#fdca26\"],[1.0,\"#f0f921\"]],\"type\":\"contour\"}],\"contourcarpet\":[{\"colorbar\":{\"outlinewidth\":0,\"ticks\":\"\"},\"type\":\"contourcarpet\"}],\"heatmap\":[{\"colorbar\":{\"outlinewidth\":0,\"ticks\":\"\"},\"colorscale\":[[0.0,\"#0d0887\"],[0.1111111111111111,\"#46039f\"],[0.2222222222222222,\"#7201a8\"],[0.3333333333333333,\"#9c179e\"],[0.4444444444444444,\"#bd3786\"],[0.5555555555555556,\"#d8576b\"],[0.6666666666666666,\"#ed7953\"],[0.7777777777777778,\"#fb9f3a\"],[0.8888888888888888,\"#fdca26\"],[1.0,\"#f0f921\"]],\"type\":\"heatmap\"}],\"heatmapgl\":[{\"colorbar\":{\"outlinewidth\":0,\"ticks\":\"\"},\"colorscale\":[[0.0,\"#0d0887\"],[0.1111111111111111,\"#46039f\"],[0.2222222222222222,\"#7201a8\"],[0.3333333333333333,\"#9c179e\"],[0.4444444444444444,\"#bd3786\"],[0.5555555555555556,\"#d8576b\"],[0.6666666666666666,\"#ed7953\"],[0.7777777777777778,\"#fb9f3a\"],[0.8888888888888888,\"#fdca26\"],[1.0,\"#f0f921\"]],\"type\":\"heatmapgl\"}],\"histogram\":[{\"marker\":{\"pattern\":{\"fillmode\":\"overlay\",\"size\":10,\"solidity\":0.2}},\"type\":\"histogram\"}],\"histogram2d\":[{\"colorbar\":{\"outlinewidth\":0,\"ticks\":\"\"},\"colorscale\":[[0.0,\"#0d0887\"],[0.1111111111111111,\"#46039f\"],[0.2222222222222222,\"#7201a8\"],[0.3333333333333333,\"#9c179e\"],[0.4444444444444444,\"#bd3786\"],[0.5555555555555556,\"#d8576b\"],[0.6666666666666666,\"#ed7953\"],[0.7777777777777778,\"#fb9f3a\"],[0.8888888888888888,\"#fdca26\"],[1.0,\"#f0f921\"]],\"type\":\"histogram2d\"}],\"histogram2dcontour\":[{\"colorbar\":{\"outlinewidth\":0,\"ticks\":\"\"},\"colorscale\":[[0.0,\"#0d0887\"],[0.1111111111111111,\"#46039f\"],[0.2222222222222222,\"#7201a8\"],[0.3333333333333333,\"#9c179e\"],[0.4444444444444444,\"#bd3786\"],[0.5555555555555556,\"#d8576b\"],[0.6666666666666666,\"#ed7953\"],[0.7777777777777778,\"#fb9f3a\"],[0.8888888888888888,\"#fdca26\"],[1.0,\"#f0f921\"]],\"type\":\"histogram2dcontour\"}],\"mesh3d\":[{\"colorbar\":{\"outlinewidth\":0,\"ticks\":\"\"},\"type\":\"mesh3d\"}],\"parcoords\":[{\"line\":{\"colorbar\":{\"outlinewidth\":0,\"ticks\":\"\"}},\"type\":\"parcoords\"}],\"pie\":[{\"automargin\":true,\"type\":\"pie\"}],\"scatter\":[{\"marker\":{\"colorbar\":{\"outlinewidth\":0,\"ticks\":\"\"}},\"type\":\"scatter\"}],\"scatter3d\":[{\"line\":{\"colorbar\":{\"outlinewidth\":0,\"ticks\":\"\"}},\"marker\":{\"colorbar\":{\"outlinewidth\":0,\"ticks\":\"\"}},\"type\":\"scatter3d\"}],\"scattercarpet\":[{\"marker\":{\"colorbar\":{\"outlinewidth\":0,\"ticks\":\"\"}},\"type\":\"scattercarpet\"}],\"scattergeo\":[{\"marker\":{\"colorbar\":{\"outlinewidth\":0,\"ticks\":\"\"}},\"type\":\"scattergeo\"}],\"scattergl\":[{\"marker\":{\"colorbar\":{\"outlinewidth\":0,\"ticks\":\"\"}},\"type\":\"scattergl\"}],\"scattermapbox\":[{\"marker\":{\"colorbar\":{\"outlinewidth\":0,\"ticks\":\"\"}},\"type\":\"scattermapbox\"}],\"scatterpolar\":[{\"marker\":{\"colorbar\":{\"outlinewidth\":0,\"ticks\":\"\"}},\"type\":\"scatterpolar\"}],\"scatterpolargl\":[{\"marker\":{\"colorbar\":{\"outlinewidth\":0,\"ticks\":\"\"}},\"type\":\"scatterpolargl\"}],\"scatterternary\":[{\"marker\":{\"colorbar\":{\"outlinewidth\":0,\"ticks\":\"\"}},\"type\":\"scatterternary\"}],\"surface\":[{\"colorbar\":{\"outlinewidth\":0,\"ticks\":\"\"},\"colorscale\":[[0.0,\"#0d0887\"],[0.1111111111111111,\"#46039f\"],[0.2222222222222222,\"#7201a8\"],[0.3333333333333333,\"#9c179e\"],[0.4444444444444444,\"#bd3786\"],[0.5555555555555556,\"#d8576b\"],[0.6666666666666666,\"#ed7953\"],[0.7777777777777778,\"#fb9f3a\"],[0.8888888888888888,\"#fdca26\"],[1.0,\"#f0f921\"]],\"type\":\"surface\"}],\"table\":[{\"cells\":{\"fill\":{\"color\":\"#EBF0F8\"},\"line\":{\"color\":\"white\"}},\"header\":{\"fill\":{\"color\":\"#C8D4E3\"},\"line\":{\"color\":\"white\"}},\"type\":\"table\"}]},\"layout\":{\"annotationdefaults\":{\"arrowcolor\":\"#2a3f5f\",\"arrowhead\":0,\"arrowwidth\":1},\"autotypenumbers\":\"strict\",\"coloraxis\":{\"colorbar\":{\"outlinewidth\":0,\"ticks\":\"\"}},\"colorscale\":{\"diverging\":[[0,\"#8e0152\"],[0.1,\"#c51b7d\"],[0.2,\"#de77ae\"],[0.3,\"#f1b6da\"],[0.4,\"#fde0ef\"],[0.5,\"#f7f7f7\"],[0.6,\"#e6f5d0\"],[0.7,\"#b8e186\"],[0.8,\"#7fbc41\"],[0.9,\"#4d9221\"],[1,\"#276419\"]],\"sequential\":[[0.0,\"#0d0887\"],[0.1111111111111111,\"#46039f\"],[0.2222222222222222,\"#7201a8\"],[0.3333333333333333,\"#9c179e\"],[0.4444444444444444,\"#bd3786\"],[0.5555555555555556,\"#d8576b\"],[0.6666666666666666,\"#ed7953\"],[0.7777777777777778,\"#fb9f3a\"],[0.8888888888888888,\"#fdca26\"],[1.0,\"#f0f921\"]],\"sequentialminus\":[[0.0,\"#0d0887\"],[0.1111111111111111,\"#46039f\"],[0.2222222222222222,\"#7201a8\"],[0.3333333333333333,\"#9c179e\"],[0.4444444444444444,\"#bd3786\"],[0.5555555555555556,\"#d8576b\"],[0.6666666666666666,\"#ed7953\"],[0.7777777777777778,\"#fb9f3a\"],[0.8888888888888888,\"#fdca26\"],[1.0,\"#f0f921\"]]},\"colorway\":[\"#636efa\",\"#EF553B\",\"#00cc96\",\"#ab63fa\",\"#FFA15A\",\"#19d3f3\",\"#FF6692\",\"#B6E880\",\"#FF97FF\",\"#FECB52\"],\"font\":{\"color\":\"#2a3f5f\"},\"geo\":{\"bgcolor\":\"white\",\"lakecolor\":\"white\",\"landcolor\":\"#E5ECF6\",\"showlakes\":true,\"showland\":true,\"subunitcolor\":\"white\"},\"hoverlabel\":{\"align\":\"left\"},\"hovermode\":\"closest\",\"mapbox\":{\"style\":\"light\"},\"paper_bgcolor\":\"white\",\"plot_bgcolor\":\"#E5ECF6\",\"polar\":{\"angularaxis\":{\"gridcolor\":\"white\",\"linecolor\":\"white\",\"ticks\":\"\"},\"bgcolor\":\"#E5ECF6\",\"radialaxis\":{\"gridcolor\":\"white\",\"linecolor\":\"white\",\"ticks\":\"\"}},\"scene\":{\"xaxis\":{\"backgroundcolor\":\"#E5ECF6\",\"gridcolor\":\"white\",\"gridwidth\":2,\"linecolor\":\"white\",\"showbackground\":true,\"ticks\":\"\",\"zerolinecolor\":\"white\"},\"yaxis\":{\"backgroundcolor\":\"#E5ECF6\",\"gridcolor\":\"white\",\"gridwidth\":2,\"linecolor\":\"white\",\"showbackground\":true,\"ticks\":\"\",\"zerolinecolor\":\"white\"},\"zaxis\":{\"backgroundcolor\":\"#E5ECF6\",\"gridcolor\":\"white\",\"gridwidth\":2,\"linecolor\":\"white\",\"showbackground\":true,\"ticks\":\"\",\"zerolinecolor\":\"white\"}},\"shapedefaults\":{\"line\":{\"color\":\"#2a3f5f\"}},\"ternary\":{\"aaxis\":{\"gridcolor\":\"white\",\"linecolor\":\"white\",\"ticks\":\"\"},\"baxis\":{\"gridcolor\":\"white\",\"linecolor\":\"white\",\"ticks\":\"\"},\"bgcolor\":\"#E5ECF6\",\"caxis\":{\"gridcolor\":\"white\",\"linecolor\":\"white\",\"ticks\":\"\"}},\"title\":{\"x\":0.05},\"xaxis\":{\"automargin\":true,\"gridcolor\":\"white\",\"linecolor\":\"white\",\"ticks\":\"\",\"title\":{\"standoff\":15},\"zerolinecolor\":\"white\",\"zerolinewidth\":2},\"yaxis\":{\"automargin\":true,\"gridcolor\":\"white\",\"linecolor\":\"white\",\"ticks\":\"\",\"title\":{\"standoff\":15},\"zerolinecolor\":\"white\",\"zerolinewidth\":2}}},\"annotations\":[{\"font\":{\"size\":16},\"showarrow\":false,\"text\":\"France\",\"x\":0.225,\"xanchor\":\"center\",\"xref\":\"paper\",\"y\":1.0,\"yanchor\":\"bottom\",\"yref\":\"paper\"},{\"font\":{\"size\":16},\"showarrow\":false,\"text\":\"Turkey\",\"x\":0.775,\"xanchor\":\"center\",\"xref\":\"paper\",\"y\":1.0,\"yanchor\":\"bottom\",\"yref\":\"paper\"},{\"font\":{\"size\":16},\"showarrow\":false,\"text\":\"Germany\",\"x\":0.225,\"xanchor\":\"center\",\"xref\":\"paper\",\"y\":0.375,\"yanchor\":\"bottom\",\"yref\":\"paper\"},{\"font\":{\"size\":16},\"showarrow\":false,\"text\":\"India\",\"x\":0.775,\"xanchor\":\"center\",\"xref\":\"paper\",\"y\":0.375,\"yanchor\":\"bottom\",\"yref\":\"paper\"}],\"title\":{\"text\":\"Percentage of Censorded Tweets by Countries\"}},                        {\"responsive\": true}                    ).then(function(){\n",
       "                            \n",
       "var gd = document.getElementById('b9056497-bf4d-41bd-af53-6f8c9e6cdd93');\n",
       "var x = new MutationObserver(function (mutations, observer) {{\n",
       "        var display = window.getComputedStyle(gd).display;\n",
       "        if (!display || display === 'none') {{\n",
       "            console.log([gd, 'removed!']);\n",
       "            Plotly.purge(gd);\n",
       "            observer.disconnect();\n",
       "        }}\n",
       "}});\n",
       "\n",
       "// Listen for the removal of the full notebook cells\n",
       "var notebookContainer = gd.closest('#notebook-container');\n",
       "if (notebookContainer) {{\n",
       "    x.observe(notebookContainer, {childList: true});\n",
       "}}\n",
       "\n",
       "// Listen for the clearing of the current output cell\n",
       "var outputEl = gd.closest('.output');\n",
       "if (outputEl) {{\n",
       "    x.observe(outputEl, {childList: true});\n",
       "}}\n",
       "\n",
       "                        })                };                });            </script>        </div>"
      ]
     },
     "metadata": {},
     "output_type": "display_data"
    }
   ],
   "source": [
    "labels = ['Not Censored', 'Censored']\n",
    "specs = [[{'type':'domain'}, {'type':'domain'}], [{'type':'domain'}, {'type':'domain'}]]\n",
    "fig = make_subplots(2, 2, specs=specs,\n",
    "                    subplot_titles=countries)\n",
    "\n",
    "fig.add_trace(go.Pie(labels=labels, values=France_counts, scalegroup='one',\n",
    "                     name=\"France\"), 1, 1)\n",
    "fig.add_trace(go.Pie(labels=labels, values=Turkey_counts, scalegroup='one',\n",
    "                     name=\"Turkey\"), 1, 2)\n",
    "fig.add_trace(go.Pie(labels=labels, values=Germany_counts, scalegroup='one',\n",
    "                     name=\"Germany\"), 2, 1)\n",
    "fig.add_trace(go.Pie(labels=labels, values=India_counts, scalegroup='one',\n",
    "                     name=\"India\"), 2, 2)\n",
    "\n",
    "\n",
    "fig.update_layout(title_text='Percentage of Censorded Tweets by Countries')\n",
    "fig.show()"
   ]
  }
 ],
 "metadata": {
  "kernelspec": {
   "display_name": "Python 3 (ipykernel)",
   "language": "python",
   "name": "python3"
  },
  "language_info": {
   "codemirror_mode": {
    "name": "ipython",
    "version": 3
   },
   "file_extension": ".py",
   "mimetype": "text/x-python",
   "name": "python",
   "nbconvert_exporter": "python",
   "pygments_lexer": "ipython3",
   "version": "3.9.12"
  }
 },
 "nbformat": 4,
 "nbformat_minor": 5
}
