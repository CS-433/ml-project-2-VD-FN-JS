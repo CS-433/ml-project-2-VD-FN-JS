{
 "cells": [
  {
   "cell_type": "markdown",
   "id": "6bfa4051",
   "metadata": {},
   "source": [
    "## Downloads"
   ]
  },
  {
   "cell_type": "code",
   "execution_count": 1,
   "id": "61e38b20",
   "metadata": {},
   "outputs": [],
   "source": [
    "%%capture\n",
    "!pip install preprocessor\n",
    "!pip install vader-multi\n",
    "!pip install torchmetrics\n",
    "!pip install sentence-transformers\n",
    "!pip install gensim\n",
    "!pip install requests\n",
    "!pip install transvec"
   ]
  },
  {
   "cell_type": "markdown",
   "id": "322d4932",
   "metadata": {},
   "source": [
    "## Imports"
   ]
  },
  {
   "cell_type": "code",
   "execution_count": 3,
   "id": "bc7a17a8",
   "metadata": {},
   "outputs": [
    {
     "name": "stderr",
     "output_type": "stream",
     "text": [
      "[nltk_data] Downloading package punkt to\n",
      "[nltk_data]     /Users/vincentdandenault/nltk_data...\n",
      "[nltk_data]   Package punkt is already up-to-date!\n",
      "[nltk_data] Downloading package stopwords to\n",
      "[nltk_data]     /Users/vincentdandenault/nltk_data...\n",
      "[nltk_data]   Package stopwords is already up-to-date!\n"
     ]
    }
   ],
   "source": [
    "import os\n",
    "import re\n",
    "import json\n",
    "import gensim\n",
    "import pickle\n",
    "import zipfile\n",
    "import requests\n",
    "import numpy as np\n",
    "from datetime import date\n",
    "\n",
    "import pandas as pd\n",
    "import plotly.express as px\n",
    "import plotly.graph_objects as go\n",
    "from plotly.subplots import make_subplots\n",
    "\n",
    "import preprocessor as p\n",
    "from vaderSentiment.vaderSentiment import SentimentIntensityAnalyzer\n",
    "from transvec.transformers import TranslationWordVectorizer\n",
    "\n",
    "import nltk\n",
    "nltk.download('punkt')\n",
    "nltk.download('stopwords')\n",
    "from nltk.corpus import stopwords\n",
    "from nltk.tokenize import word_tokenize\n",
    "\n",
    "from sklearn import preprocessing\n",
    "from sklearn.svm import SVC\n",
    "from sklearn.preprocessing import normalize\n",
    "from sklearn.decomposition import PCA\n",
    "from sklearn.naive_bayes import GaussianNB\n",
    "from sklearn.metrics import classification_report\n",
    "from sklearn.linear_model import LogisticRegression\n",
    "from sklearn.ensemble import RandomForestClassifier\n",
    "from sklearn.model_selection import train_test_split\n",
    "from sklearn.feature_extraction.text import CountVectorizer\n",
    "from sklearn.feature_extraction.text import TfidfVectorizer\n",
    "from sklearn.metrics import roc_curve, auc\n",
    "\n",
    "\n",
    "from sentence_transformers import SentenceTransformer"
   ]
  },
  {
   "cell_type": "markdown",
   "id": "d98d7b3e",
   "metadata": {},
   "source": [
    "## Run Flags and File Paths"
   ]
  },
  {
   "cell_type": "code",
   "execution_count": 7,
   "id": "76d1a9ac",
   "metadata": {},
   "outputs": [],
   "source": [
    "date_today = date.today()\n",
    "\n",
    "random_seed = 42\n",
    "target_names = ['Not Censord', 'Censord']\n",
    "\n",
    "RUN_PREPROCESSING = False\n",
    "RUN_COUNTRY_DIVISION = False\n",
    "FIT_CORPUS_FEATURE_SPACE = True\n",
    "\n",
    "LANGUAGE_RUN = 'English'\n",
    "FEATURE_SPACE = 'Sentence2Vec' #BOW, TFIDF\n",
    "\n",
    "\n",
    "data_path = 'Data'\n",
    "results_path = 'Results'\n",
    "vector_path = 'vectors'\n",
    "\n",
    "clean_dataframe_path = 'Output/df_clean.csv'\n",
    "english_dataframe_path = 'Output/df_english.csv'"
   ]
  },
  {
   "cell_type": "markdown",
   "id": "e8f9572a",
   "metadata": {},
   "source": [
    " ## Preprocessing"
   ]
  },
  {
   "cell_type": "code",
   "execution_count": 10,
   "id": "3775bd3a",
   "metadata": {},
   "outputs": [],
   "source": [
    "listOfCountries = ['France', 'Turkey', 'Germany', 'India']\n",
    "def findCountry(x): \n",
    "    for country in listOfCountries:\n",
    "        if x and country in x:\n",
    "            return country\n",
    "    return None\n",
    "\n",
    "def normalize(array):\n",
    "        return (array - np.min(array)) / (np.max(array) - np.min(array))\n",
    "    \n",
    "def preprocess_data():\n",
    "    #extract the data from the json files\n",
    "    dfs = []\n",
    "    for r, d, f in os.walk('Data/'):\n",
    "        for file in f:\n",
    "            if 'withheldtweets.json' in file or \"plus_one_control.json\" in file:  # alt: if 'control' in file:\n",
    "                dfs.append(pd.read_json('%s/%s' % (r, file), lines=True))\n",
    "    df_cen = pd.concat(dfs)\n",
    "    \n",
    "    #keep only the features that are worth keeping\n",
    "    worthKeeping = [\"text\", \"truncated\", \"user\",\n",
    "                \"withheld_in_countries\", \"entities\", \"lang\",\n",
    "                \"possibly_sensitive\", \"extended_tweet\"]\n",
    "    df_cen = df_cen[worthKeeping]\n",
    "    \n",
    "    #some tweets have NaN as \"possibly sensitive\"…\n",
    "    df_cen['possibly_sensitive'] = df_cen['possibly_sensitive'].fillna(0.0)\n",
    "    \n",
    "    #recover the full text for truncated tweets\n",
    "    dfRaw = df_cen.values\n",
    "    for line in dfRaw:\n",
    "        if not pd.isna(line[-1]):\n",
    "            line[0] = line[-1][\"full_text\"]   \n",
    "        #remove urls from tweets\n",
    "        #they are shortened anyway so we can't make use of them\n",
    "        line[0] = re.sub(r'http\\S+', '', line[0])\n",
    "        #flatten retweets\n",
    "        line[0] = re.sub(r'RT @\\S+:', '', line[0])\n",
    "    \n",
    "    #remove \"extended_tweet\"\n",
    "    dfRaw = np.delete(dfRaw, len(worthKeeping)-1, axis=1) \n",
    "    worthKeeping.remove(\"extended_tweet\")\n",
    "    \n",
    "    #remove \"truncated\"\n",
    "    dfRaw = np.delete(dfRaw, 1, axis=1) \n",
    "    worthKeeping.remove(\"truncated\")\n",
    "    \n",
    "    #extract hashtags seperately\n",
    "    for line in dfRaw:\n",
    "        line[3] = [x[\"text\"] for x in line[3][\"hashtags\"]]\n",
    "    worthKeeping[3] = \"hashtags\"\n",
    "    \n",
    "    #create a feature for user-verified and user-followers_count\n",
    "    verified = [line[1][\"verified\"] for line in dfRaw]\n",
    "    followers = [line[1][\"followers_count\"] for line in dfRaw]\n",
    "    \n",
    "    #for the location, we keep the country name and discard the rest\n",
    "    location = [findCountry(line[1][\"location\"]) for line in dfRaw]\n",
    "    dfRaw = np.c_[dfRaw, verified, followers, location]\n",
    "    worthKeeping += [\"verified_account\", \"followers_count\", \"location\"]\n",
    "    \n",
    "    #binary feature for whether the tweet has been withheld anywhere\n",
    "    withheld = []\n",
    "    for line in dfRaw:\n",
    "        if not isinstance(line[2], list):\n",
    "            line[2] = []\n",
    "        withheld.append(len(line[2]) != 0)\n",
    "            \n",
    "    dfRaw = np.c_[dfRaw, withheld]\n",
    "    worthKeeping += [\"withheld_anywhere\"]\n",
    "    \n",
    "    #popularity feature:\n",
    "    #build a score based on the values of followers_count, favourites_count, statuses_count\n",
    "    #compute a score from 0 to 1 for each, with (x - min)/(max - min), then comptute the average of these scores \n",
    "    followers_count = np.array([line[1][\"followers_count\"] for line in dfRaw])\n",
    "    favourites_count = np.array([line[1][\"favourites_count\"] for line in dfRaw])\n",
    "    statuses_count = np.array([line[1][\"statuses_count\"] for line in dfRaw])\n",
    "    score = (1/3) * (normalize(followers_count) + normalize(favourites_count) + normalize(statuses_count))\n",
    "    dfRaw = np.c_[dfRaw, score]\n",
    "    worthKeeping += [\"popularity_score\"]\n",
    "    #sentiment analysis\n",
    "    #https://www.analyticsvidhya.com/blog/2022/07/sentiment-analysis-using-python/? with VADER\n",
    "    #https://github.com/brunneis/vader-multi, same concept but multilingual\n",
    "    #text gets translated into english and then sentiment analysis is applied to the english text\n",
    "    #takes a LOT of time\n",
    "    analyzer = SentimentIntensityAnalyzer()\n",
    "    def doThingsAffi(i, line):\n",
    "        if i % 200 == 0: print(i)\n",
    "        try:\n",
    "            return [x for x in analyzer.polarity_scores(line[0]).values()]\n",
    "        except Exception as e: #known error at about 42400, it's an error in the library\n",
    "            print(e, line)\n",
    "            return [0, 0, 0, 0]\n",
    "            \n",
    "    res = np.array([doThingsAffi(i, line) for i, line in enumerate(dfRaw)])\n",
    "    dfRaw = np.c_[dfRaw, res]\n",
    "    worthKeeping += [\"neg\", \"neu\", \"pos\", \"compound\"]\n",
    "    \n",
    "    #reassemble the data in a pandas dataframe and remove the column \"user\"\n",
    "    df_cen = pd.DataFrame(dfRaw, columns = worthKeeping)\n",
    "    cleanCols = filter(lambda x: x != \"user\", worthKeeping)\n",
    "    df_clean = df_cen[cleanCols]\n",
    "    \n",
    "    return df_clean"
   ]
  },
  {
   "cell_type": "code",
   "execution_count": null,
   "id": "31c0bfcd",
   "metadata": {},
   "outputs": [
    {
     "name": "stdout",
     "output_type": "stream",
     "text": [
      "0\n",
      "200\n",
      "400\n",
      "600\n",
      "800\n",
      "1000\n",
      "1200\n",
      "1400\n",
      "1600\n",
      "1800\n",
      "2000\n",
      "2200\n",
      "2400\n",
      "2600\n",
      "2800\n",
      "3000\n",
      "3200\n",
      "3400\n",
      "3600\n",
      "3800\n",
      "4000\n",
      "4200\n",
      "4400\n",
      "4600\n",
      "4800\n",
      "5000\n",
      "5200\n",
      "5400\n",
      "5600\n",
      "5800\n",
      "6000\n",
      "6200\n"
     ]
    }
   ],
   "source": [
    "if RUN_PREPROCESSING:\n",
    "    df = preprocess_data()\n",
    "    df.to_csv(clean_dataframe_path)\n",
    "else: \n",
    "    df = pd.read_csv(clean_dataframe_path)"
   ]
  },
  {
   "cell_type": "markdown",
   "id": "3725d1da",
   "metadata": {},
   "source": [
    "## Splitting the Data by Language"
   ]
  },
  {
   "cell_type": "code",
   "execution_count": 7,
   "id": "caad3cf0",
   "metadata": {},
   "outputs": [],
   "source": [
    "def make_country_dataframes(df): \n",
    "    dataframes_dict = {}\n",
    "    \n",
    "    df_english = df[df['lang'] == \"en\"] \n",
    "    dataframes_dict['English'] = df_english\n",
    "    \n",
    "    df_turkish = df[df['lang'] == \"tr\"] \n",
    "    dataframes_dict['Turkish'] = df_turkish\n",
    "    \n",
    "    df_urdu = df[df['lang'] == \"ur\"]\n",
    "    dataframes_dict['Urdu'] = df_urdu\n",
    "    \n",
    "    df_japanese = df[df['lang'] == \"ja\"] \n",
    "    dataframes_dict['Japanese'] = df_japanese\n",
    "    \n",
    "    df_spanish = df[df['lang'] == \"es\"] \n",
    "    dataframes_dict['Spanish'] = df_spanish\n",
    "    \n",
    "    df_thai = df[df['lang'] == \"th\"] \n",
    "    dataframes_dict['Thai'] = df_thai\n",
    "    \n",
    "    df_portuguese = df[df['lang'] == \"pt\"] \n",
    "    dataframes_dict['Portuguese'] = df_portuguese\n",
    "    \n",
    "    df_arabic = df[df['lang'] == \"ar\"] \n",
    "    dataframes_dict['Arabic'] = df_arabic\n",
    "    \n",
    "    df_indian = df[df['lang'] == \"in\"] \n",
    "    dataframes_dict['Indian'] = df_indian\n",
    "    \n",
    "    return dataframes_dict"
   ]
  },
  {
   "cell_type": "code",
   "execution_count": 8,
   "id": "2927ea9e",
   "metadata": {},
   "outputs": [],
   "source": [
    "dataframes_dict = make_country_dataframes(df)"
   ]
  },
  {
   "cell_type": "code",
   "execution_count": null,
   "id": "6c3c8b02",
   "metadata": {},
   "outputs": [],
   "source": [
    "if RUN_PREPROCESSING:\n",
    "    df_english = dataframes_dict['English']\n",
    "    df_english.to_csv(english_dataframe_path)\n",
    "else: \n",
    "    df_english = pd.read_csv(english_dataframe_path)"
   ]
  },
  {
   "cell_type": "markdown",
   "id": "a4692d23",
   "metadata": {},
   "source": [
    "## Feature Encoding"
   ]
  },
  {
   "cell_type": "code",
   "execution_count": 9,
   "id": "34620738",
   "metadata": {},
   "outputs": [],
   "source": [
    "features_encoded = ['possibly_sensitive', 'verified_account',\\\n",
    "                    'followers_count', 'user_id', 'neg', 'neu', \\\n",
    "                    'pos', 'compound', 'popularity_score']"
   ]
  },
  {
   "cell_type": "code",
   "execution_count": 14,
   "id": "b1eb9b7f",
   "metadata": {},
   "outputs": [],
   "source": [
    "def encode_features(df, concat_all_features=True):\n",
    "    df_features = df.copy()\n",
    "    if FIT_CORPUS_FEATURE_SPACE:\n",
    "        corpus = [sentence if isinstance(sentence, str) else '' for sentence in list(df_features['text'].values)]\n",
    "        \n",
    "        if FEATURE_SPACE == 'BOW':\n",
    "            bow_texts = CountVectorizer().fit_transform(corpus)\n",
    "            with open(('bow_vectors_' + str(LANGUAGE_RUN) + '.pickle'), 'wb') as pkl:\n",
    "                pickle.dump(bow_texts, pkl)\n",
    "            text_vector = bow_texts\n",
    "        \n",
    "        elif FEATURE_SPACE == 'TFIDF':\n",
    "            tfidf_vectors = TfidfVectorizer().fit_transform(corpus) \n",
    "            with open(('tfidf_vectors_' + str(LANGUAGE_RUN) + '.pickle'), 'wb') as pkl:\n",
    "                pickle.dump(tfidf_vectors, pkl)\n",
    "            text_vector = tfidf_vectors\n",
    "        \n",
    "        else: \n",
    "            model = SentenceTransformer('sentence-transformers/distiluse-base-multilingual-cased-v2')\n",
    "            tweets_embeddings = model.encode(sentences=corpus, batch_size=32, \n",
    "                                             show_progress_bar=True, convert_to_numpy=True, \n",
    "                                            normalize_embeddings=True)\n",
    "            with open(('tweets_embeddings_' + str(LANGUAGE_RUN) + '.pickle'), 'wb') as pkl:\n",
    "                pickle.dump(tweets_embeddings, pkl)\n",
    "            text_vector = tweets_embeddings\n",
    "        \n",
    "    else: \n",
    "        if FEATURE_SPACE == 'BOW':\n",
    "            with open(os.path.join(vector_path,'bow_vectors.pickle'), 'rb') as pkl:\n",
    "                text_vector = pickle.load(pkl)\n",
    "        elif FEATURE_SPACE == 'TFIDF': \n",
    "            with open(os.path.join(vector_path,'tfidf_vectors.pickle'), 'rb') as pkl:\n",
    "                text_vector = pickle.load(pkl)\n",
    "        else: \n",
    "            with open(os.path.join(vector_path,'tweets_embeddings.pickle'), 'rb') as pkl:\n",
    "                text_vector = pickle.load(pkl) \n",
    "    \n",
    "    country_label = preprocessing.LabelEncoder()\n",
    "    countries_encoded = country_label.fit_transform(list(df.location.values))\n",
    "    df_features['Country_encoded'] = countries_encoded\n",
    "    \n",
    "    df_features = df_features.astype({\"possibly_sensitive\": float, \"verified_account\": float,\\\n",
    "                                'followers_count':int, 'user_id': int, 'neg': float, 'neu': float, \n",
    "                               'pos': float, 'compound': float, 'popularity_score': float})\n",
    "    \n",
    "    y = df_features[\"withheld_anywhere\"].astype(int)\n",
    "    \n",
    "    X = df_features[features_encoded].copy().to_numpy()\n",
    "    \n",
    "    if concat_all_features: \n",
    "        X = np.concatenate((X, text_vector.toarray()), axis=1)\n",
    "        \n",
    "    else:\n",
    "        X = text_vector.toarray()\n",
    "        \n",
    "    X = noramlize(X)\n",
    "    return X, y"
   ]
  },
  {
   "cell_type": "code",
   "execution_count": 15,
   "id": "b0dde667",
   "metadata": {},
   "outputs": [],
   "source": [
    "X, y = encode_features(df_english)\n",
    "X_train, X_test, y_train, y_test = train_test_split(X, y, test_size=0.2, random_state=42)"
   ]
  },
  {
   "cell_type": "code",
   "execution_count": 16,
   "id": "a68c46c9",
   "metadata": {},
   "outputs": [
    {
     "name": "stdout",
     "output_type": "stream",
     "text": [
      "(20664, 24411)\n",
      "(5166, 24411)\n",
      "(20664,)\n",
      "(5166,)\n"
     ]
    }
   ],
   "source": [
    "print(X_train.shape)\n",
    "print(X_test.shape)\n",
    "print(y_train.shape)\n",
    "print(y_test.shape)"
   ]
  },
  {
   "cell_type": "markdown",
   "id": "01f7b4c3",
   "metadata": {},
   "source": [
    "## Training the Models"
   ]
  },
  {
   "cell_type": "code",
   "execution_count": 17,
   "id": "f73e5e4a",
   "metadata": {},
   "outputs": [
    {
     "name": "stdout",
     "output_type": "stream",
     "text": [
      "Baseline model - Logisitic Regression: \n",
      "{'Not Censord': {'precision': 0.0, 'recall': 0.0, 'f1-score': 0.0, 'support': 2053}, 'Censord': {'precision': 0.6025938830816879, 'recall': 1.0, 'f1-score': 0.7520231912066675, 'support': 3113}, 'accuracy': 0.6025938830816879, 'macro avg': {'precision': 0.30129694154084397, 'recall': 0.5, 'f1-score': 0.37601159560333375, 'support': 5166}, 'weighted avg': {'precision': 0.363119387927467, 'recall': 0.6025938830816879, 'f1-score': 0.4531645749567085, 'support': 5166}}\n"
     ]
    },
    {
     "name": "stderr",
     "output_type": "stream",
     "text": [
      "/Users/vincentdandenault/opt/anaconda3/lib/python3.9/site-packages/sklearn/metrics/_classification.py:1334: UndefinedMetricWarning: Precision and F-score are ill-defined and being set to 0.0 in labels with no predicted samples. Use `zero_division` parameter to control this behavior.\n",
      "  _warn_prf(average, modifier, msg_start, len(result))\n",
      "/Users/vincentdandenault/opt/anaconda3/lib/python3.9/site-packages/sklearn/metrics/_classification.py:1334: UndefinedMetricWarning: Precision and F-score are ill-defined and being set to 0.0 in labels with no predicted samples. Use `zero_division` parameter to control this behavior.\n",
      "  _warn_prf(average, modifier, msg_start, len(result))\n",
      "/Users/vincentdandenault/opt/anaconda3/lib/python3.9/site-packages/sklearn/metrics/_classification.py:1334: UndefinedMetricWarning: Precision and F-score are ill-defined and being set to 0.0 in labels with no predicted samples. Use `zero_division` parameter to control this behavior.\n",
      "  _warn_prf(average, modifier, msg_start, len(result))\n"
     ]
    }
   ],
   "source": [
    "base_model = LogisticRegression(random_state=random_seed)\n",
    "y_pred = base_model.fit(X_train, y_train).predict(X_test)\n",
    "res = classification_report(y_test, y_pred, target_names=target_names) \n",
    "print(\"Baseline model - Logisitic Regression: \")\n",
    "print(res)"
   ]
  },
  {
   "cell_type": "code",
   "execution_count": null,
   "id": "ecff6dfb",
   "metadata": {},
   "outputs": [
    {
     "name": "stdout",
     "output_type": "stream",
     "text": [
      "TFIDF\n"
     ]
    }
   ],
   "source": [
    "models = {'SVM': SVC(random_state=random_seed), \n",
    "          'Random Forest': RandomForestClassifier(random_state=random_seed)}\n",
    "          'Gaussian Naive Bayes': GaussianNB()}\n",
    "\n",
    "def run_models(models, X_train, X_test, y_train, y_test, save_results=True, visualize_roc_curve=True): \n",
    "    scores = {}\n",
    "    for name in models.keys(): \n",
    "        y_pred = models[name].fit(X_train, y_train).predict(X_test)\n",
    "        res = classification_report(y_test, y_pred, target_names=target_names, output_dict=True, zero_division=0) \n",
    "        scores[name] = res\n",
    "        print(name)\n",
    "        print(classification_report(y_test, y_pred, target_names=target_names, output_dict=False, zero_division=0))\n",
    "        if visualize_roc_curve: \n",
    "            fpr, tpr, thresholds = roc_curve(y, y_score)\n",
    "            fig = px.area(\n",
    "                x=fpr, y=tpr,\n",
    "                title=f'ROC Curve (AUC={auc(fpr, tpr):.4f})',\n",
    "                labels=dict(x='False Positive Rate', y='True Positive Rate'),\n",
    "                width=700, height=500\n",
    "            )\n",
    "            fig.add_shape(\n",
    "                type='line', line=dict(dash='dash'),\n",
    "                x0=0, x1=1, y0=0, y1=1\n",
    "            )\n",
    "            \n",
    "            fig.update_yaxes(scaleanchor=\"x\", scaleratio=1)\n",
    "            fig.update_xaxes(constrain='domain')\n",
    "            fig.show()\n",
    "    if save_results: \n",
    "        with open(os.path.join(results_path, ('results_' + str(date_today) + '.txt')), 'w') as f:\n",
    "            for key, value in scores.items(): \n",
    "                f.write('%s:%s\\n' % (key, value))\n",
    "                f.write('\\n')\n",
    "                \n",
    "                \n",
    "print(FEATURE_SPACE)\n",
    "run_models(models, X_train, X_test, y_train, y_test, save_results=True)"
   ]
  },
  {
   "cell_type": "markdown",
   "id": "e8f5e21f",
   "metadata": {},
   "source": [
    "## Multiple Country Runner"
   ]
  },
  {
   "cell_type": "code",
   "execution_count": null,
   "id": "987292f8",
   "metadata": {},
   "outputs": [],
   "source": [
    "def make_dfs_by_country(df, country_list):\n",
    "    df_list = []\n",
    "    for country in country_list: \n",
    "        df_tmp = df[df['location'] == country].copy()\n",
    "        df_list.append(df_tmp)\n",
    "    return df_list"
   ]
  },
  {
   "cell_type": "code",
   "execution_count": null,
   "id": "c908b814",
   "metadata": {},
   "outputs": [],
   "source": [
    "model_to_run = {'SVM': SVC(random_state=random_seed)}\n",
    "df_countries = df.copy()\n",
    "countries = ['France', 'Turkey', 'Germany', 'India']\n",
    "df_list = make_dfs_by_country(df, countries)  \n",
    "for idx, df in enumerate(df_list): \n",
    "    X, y = encode_features(df)\n",
    "    X_train, X_test, y_train, y_test = train_test_split(X, y, test_size=0.2, random_state=42)\n",
    "    print('Country: ' + str(countries[idx]))\n",
    "    run_models(model_to_run, X_train, X_test, y_train, y_test)"
   ]
  },
  {
   "cell_type": "markdown",
   "id": "68da1761",
   "metadata": {},
   "source": [
    "## Data Vizualisation"
   ]
  },
  {
   "cell_type": "code",
   "execution_count": null,
   "id": "26980e7b",
   "metadata": {},
   "outputs": [],
   "source": [
    "df.head(10)"
   ]
  },
  {
   "cell_type": "code",
   "execution_count": null,
   "id": "5f44ffb2",
   "metadata": {},
   "outputs": [],
   "source": [
    "df_France = df[df['location'] == 'France'].copy()\n",
    "France_counts = list(df_France.withheld_anywhere.value_counts().values)\n",
    "\n",
    "df_Turkey = df[df['location'] == 'India'].copy()\n",
    "Turkey_counts = list(df_Turkey.withheld_anywhere.value_counts().values)\n",
    "\n",
    "df_Germany = df[df['location'] == 'Germany'].copy()\n",
    "Germany_counts = list(df_Germany.withheld_anywhere.value_counts().values)\n",
    "\n",
    "df_India = df[df['location'] == 'India'].copy()\n",
    "India_counts = list(df_India.withheld_anywhere.value_counts().values)"
   ]
  },
  {
   "cell_type": "code",
   "execution_count": null,
   "id": "d516a433",
   "metadata": {},
   "outputs": [],
   "source": [
    "labels = ['Not Censored', 'Censored']\n",
    "specs = [[{'type':'domain'}, {'type':'domain'}], [{'type':'domain'}, {'type':'domain'}]]\n",
    "fig = make_subplots(2, 2, specs=specs,\n",
    "                    subplot_titles=countries)\n",
    "\n",
    "fig.add_trace(go.Pie(labels=labels, values=France_counts, scalegroup='one',\n",
    "                     name=\"France\"), 1, 1)\n",
    "fig.add_trace(go.Pie(labels=labels, values=Turkey_counts, scalegroup='one',\n",
    "                     name=\"Turkey\"), 1, 2)\n",
    "fig.add_trace(go.Pie(labels=labels, values=Germany_counts, scalegroup='one',\n",
    "                     name=\"Germany\"), 2, 1)\n",
    "fig.add_trace(go.Pie(labels=labels, values=India_counts, scalegroup='one',\n",
    "                     name=\"India\"), 2, 2)\n",
    "\n",
    "\n",
    "fig.update_layout(title_text='Percentage of Censorded Tweets by Countries')\n",
    "fig.show()"
   ]
  }
 ],
 "metadata": {
  "kernelspec": {
   "display_name": "Python 3 (ipykernel)",
   "language": "python",
   "name": "python3"
  },
  "language_info": {
   "codemirror_mode": {
    "name": "ipython",
    "version": 3
   },
   "file_extension": ".py",
   "mimetype": "text/x-python",
   "name": "python",
   "nbconvert_exporter": "python",
   "pygments_lexer": "ipython3",
   "version": "3.9.12"
  }
 },
 "nbformat": 4,
 "nbformat_minor": 5
}
